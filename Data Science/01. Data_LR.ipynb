{
 "cells": [
  {
   "cell_type": "markdown",
   "metadata": {},
   "source": [
    "## Data\n",
    "Being able to easily load and process data is a crucial task that can make any data science more pleasant. In this notebook, we will cover most common types often encountered in data science tasks, and we will be using this data throughout the rest of this tutorial."
   ]
  },
  {
   "cell_type": "code",
   "execution_count": 178,
   "metadata": {},
   "outputs": [],
   "source": [
    "#importing the packages that I did not have installed yet\n",
    "import Pkg\n",
    "#Pkg.add(\"DataFrames\")\n",
    "#Pkg.add(\"CSV\")\n",
    "#Pkg.add(\"XLSX\")\n",
    "\n",
    "#later, we will import data files in different formats. For this, we need to install the following ones:\n",
    "#Pkg.add(\"JLD\")\n",
    "#Pkg.add(\"NPZ\")\n",
    "#Pkg.add(\"RData\")\n",
    "#Pkg.add(\"RCall\")\n",
    "#Pkg.add(\"MAT\")"
   ]
  },
  {
   "cell_type": "code",
   "execution_count": 3,
   "metadata": {},
   "outputs": [],
   "source": [
    "using BenchmarkTools\n",
    "using DataFrames\n",
    "using DelimitedFiles\n",
    "using CSV\n",
    "using XLSX\n",
    "using Downloads"
   ]
  },
  {
   "cell_type": "markdown",
   "metadata": {},
   "source": [
    "# 🗃️ Get some data\n",
    "In Julia, it's pretty easy to dowload a file from the web using the `download` (https://docs.julialang.org/en/v1/stdlib/Downloads/) function. But also, you can use your favorite command line commad to download files by easily switching from Julia via the `;` key. Let's try both.\n",
    "\n",
    "Note: `download` depends on external tools such as curl, wget or fetch. So you must have one of these."
   ]
  },
  {
   "cell_type": "code",
   "execution_count": 5,
   "metadata": {},
   "outputs": [
    {
     "data": {
      "text/plain": [
       "\"programming_languages.csv\""
      ]
     },
     "execution_count": 5,
     "metadata": {},
     "output_type": "execute_result"
    }
   ],
   "source": [
    "P = Downloads.download(\"https://raw.githubusercontent.com/nassarhuda/easy_data/master/programming_languages.csv\",\n",
    "    \"programming_languages.csv\") #we download the file into our folder as programming_languages.csv & store it in the coding file as P"
   ]
  },
  {
   "cell_type": "markdown",
   "metadata": {},
   "source": [
    "Another way would be to use a shell command to get the same file."
   ]
  },
  {
   "cell_type": "markdown",
   "metadata": {},
   "source": [
    "# 📂 Read your data from text files.\n",
    "The key question here is to load data from files such as `csv` files, `xlsx` files, or just raw text files. We will go over some Julia packages that will allow us to read such files very easily.\n",
    "\n",
    "Let's start with the package `DelimitedFiles` which is in the standard library."
   ]
  },
  {
   "cell_type": "code",
   "execution_count": 19,
   "metadata": {},
   "outputs": [],
   "source": [
    "#=\n",
    "readdlm(source, \n",
    "    delim::AbstractChar, \n",
    "    T::Type, \n",
    "    eol::AbstractChar; \n",
    "    header=false, \n",
    "    skipstart=0, \n",
    "    skipblanks=true, \n",
    "    use_mmap, \n",
    "    quotes=true, \n",
    "    dims, \n",
    "    comments=false, \n",
    "    comment_char='#')\n",
    "=#\n",
    "P,H = readdlm(\"programming_languages.csv\",',';header=true); #header true means that the csv file has a header integrated"
   ]
  },
  {
   "cell_type": "code",
   "execution_count": 21,
   "metadata": {},
   "outputs": [
    {
     "data": {
      "text/plain": [
       "1×2 Matrix{AbstractString}:\n",
       " \"year\"  \"language\""
      ]
     },
     "execution_count": 21,
     "metadata": {},
     "output_type": "execute_result"
    }
   ],
   "source": [
    "H #now we can access the headers again\n",
    "# if we do not put header=true but header=false, printing H gives us the first cell, namely 1951"
   ]
  },
  {
   "cell_type": "code",
   "execution_count": 23,
   "metadata": {},
   "outputs": [
    {
     "data": {
      "text/plain": [
       "73×2 Matrix{Any}:\n",
       " 1951  \"Regional Assembly Language\"\n",
       " 1952  \"Autocode\"\n",
       " 1954  \"IPL\"\n",
       " 1955  \"FLOW-MATIC\"\n",
       " 1957  \"FORTRAN\"\n",
       " 1957  \"COMTRAN\"\n",
       " 1958  \"LISP\"\n",
       " 1958  \"ALGOL 58\"\n",
       " 1959  \"FACT\"\n",
       " 1959  \"COBOL\"\n",
       " 1959  \"RPG\"\n",
       " 1962  \"APL\"\n",
       " 1962  \"Simula\"\n",
       "    ⋮  \n",
       " 2003  \"Scala\"\n",
       " 2005  \"F#\"\n",
       " 2006  \"PowerShell\"\n",
       " 2007  \"Clojure\"\n",
       " 2009  \"Go\"\n",
       " 2010  \"Rust\"\n",
       " 2011  \"Dart\"\n",
       " 2011  \"Kotlin\"\n",
       " 2011  \"Red\"\n",
       " 2011  \"Elixir\"\n",
       " 2012  \"Julia\"\n",
       " 2014  \"Swift\""
      ]
     },
     "execution_count": 23,
     "metadata": {},
     "output_type": "execute_result"
    }
   ],
   "source": [
    "P #using P gives us the full matrix"
   ]
  },
  {
   "cell_type": "code",
   "execution_count": 25,
   "metadata": {},
   "outputs": [],
   "source": [
    "# To write to a text file, you can:\n",
    "writedlm(\"programminglanguages_dlm.txt\", P, '-')\n",
    "# we are now pasting P into the text file using the delimiter \"-\""
   ]
  },
  {
   "cell_type": "markdown",
   "metadata": {},
   "source": [
    "A more powerful package to use here is the `CSV` package. By default, the CSV package imports the data to a DataFrame, which can have several advantages as we will see below.\n",
    "\n",
    "In general,[`CSV.jl`](https://juliadata.github.io/CSV.jl/stable/) is the recommended way to load CSVs in Julia. Only use `DelimitedFiles` when you have a more complicated file where you want to specify several things."
   ]
  },
  {
   "cell_type": "code",
   "execution_count": 27,
   "metadata": {},
   "outputs": [],
   "source": [
    "C = CSV.read(\"programming_languages.csv\", DataFrame);"
   ]
  },
  {
   "cell_type": "code",
   "execution_count": 41,
   "metadata": {},
   "outputs": [
    {
     "name": "stdout",
     "output_type": "stream",
     "text": [
      "typeof(C) = DataFrame\n"
     ]
    },
    {
     "data": {
      "text/html": [
       "<div><div style = \"float: left;\"><span>10×2 DataFrame</span></div><div style = \"clear: both;\"></div></div><div class = \"data-frame\" style = \"overflow-x: scroll;\"><table class = \"data-frame\" style = \"margin-bottom: 6px;\"><thead><tr class = \"header\"><th class = \"rowNumber\" style = \"font-weight: bold; text-align: right;\">Row</th><th style = \"text-align: left;\">year</th><th style = \"text-align: left;\">language</th></tr><tr class = \"subheader headerLastRow\"><th class = \"rowNumber\" style = \"font-weight: bold; text-align: right;\"></th><th title = \"Int64\" style = \"text-align: left;\">Int64</th><th title = \"String31\" style = \"text-align: left;\">String31</th></tr></thead><tbody><tr><td class = \"rowNumber\" style = \"font-weight: bold; text-align: right;\">1</td><td style = \"text-align: right;\">1951</td><td style = \"text-align: left;\">Regional Assembly Language</td></tr><tr><td class = \"rowNumber\" style = \"font-weight: bold; text-align: right;\">2</td><td style = \"text-align: right;\">1952</td><td style = \"text-align: left;\">Autocode</td></tr><tr><td class = \"rowNumber\" style = \"font-weight: bold; text-align: right;\">3</td><td style = \"text-align: right;\">1954</td><td style = \"text-align: left;\">IPL</td></tr><tr><td class = \"rowNumber\" style = \"font-weight: bold; text-align: right;\">4</td><td style = \"text-align: right;\">1955</td><td style = \"text-align: left;\">FLOW-MATIC</td></tr><tr><td class = \"rowNumber\" style = \"font-weight: bold; text-align: right;\">5</td><td style = \"text-align: right;\">1957</td><td style = \"text-align: left;\">FORTRAN</td></tr><tr><td class = \"rowNumber\" style = \"font-weight: bold; text-align: right;\">6</td><td style = \"text-align: right;\">1957</td><td style = \"text-align: left;\">COMTRAN</td></tr><tr><td class = \"rowNumber\" style = \"font-weight: bold; text-align: right;\">7</td><td style = \"text-align: right;\">1958</td><td style = \"text-align: left;\">LISP</td></tr><tr><td class = \"rowNumber\" style = \"font-weight: bold; text-align: right;\">8</td><td style = \"text-align: right;\">1958</td><td style = \"text-align: left;\">ALGOL 58</td></tr><tr><td class = \"rowNumber\" style = \"font-weight: bold; text-align: right;\">9</td><td style = \"text-align: right;\">1959</td><td style = \"text-align: left;\">FACT</td></tr><tr><td class = \"rowNumber\" style = \"font-weight: bold; text-align: right;\">10</td><td style = \"text-align: right;\">1959</td><td style = \"text-align: left;\">COBOL</td></tr></tbody></table></div>"
      ],
      "text/latex": [
       "\\begin{tabular}{r|cc}\n",
       "\t& year & language\\\\\n",
       "\t\\hline\n",
       "\t& Int64 & String31\\\\\n",
       "\t\\hline\n",
       "\t1 & 1951 & Regional Assembly Language \\\\\n",
       "\t2 & 1952 & Autocode \\\\\n",
       "\t3 & 1954 & IPL \\\\\n",
       "\t4 & 1955 & FLOW-MATIC \\\\\n",
       "\t5 & 1957 & FORTRAN \\\\\n",
       "\t6 & 1957 & COMTRAN \\\\\n",
       "\t7 & 1958 & LISP \\\\\n",
       "\t8 & 1958 & ALGOL 58 \\\\\n",
       "\t9 & 1959 & FACT \\\\\n",
       "\t10 & 1959 & COBOL \\\\\n",
       "\\end{tabular}\n"
      ],
      "text/plain": [
       "\u001b[1m10×2 DataFrame\u001b[0m\n",
       "\u001b[1m Row \u001b[0m│\u001b[1m year  \u001b[0m\u001b[1m language                   \u001b[0m\n",
       "     │\u001b[90m Int64 \u001b[0m\u001b[90m String31                   \u001b[0m\n",
       "─────┼───────────────────────────────────\n",
       "   1 │  1951  Regional Assembly Language\n",
       "   2 │  1952  Autocode\n",
       "   3 │  1954  IPL\n",
       "   4 │  1955  FLOW-MATIC\n",
       "   5 │  1957  FORTRAN\n",
       "   6 │  1957  COMTRAN\n",
       "   7 │  1958  LISP\n",
       "   8 │  1958  ALGOL 58\n",
       "   9 │  1959  FACT\n",
       "  10 │  1959  COBOL"
      ]
     },
     "execution_count": 41,
     "metadata": {},
     "output_type": "execute_result"
    }
   ],
   "source": [
    " #we can use @show to print several outputs\n",
    "@show typeof(C) #we want to know the type of C, which is a Dataframe\n",
    "C[1:10,:] #and we want to print the first ten rows\n",
    "# C.year #this gives us a vector of all the years in C\n",
    "# [!,:year] #"
   ]
  },
  {
   "cell_type": "code",
   "execution_count": 43,
   "metadata": {},
   "outputs": [
    {
     "name": "stdout",
     "output_type": "stream",
     "text": [
      "typeof(P) = Matrix{Any}\n"
     ]
    },
    {
     "data": {
      "text/plain": [
       "10×2 Matrix{Any}:\n",
       " 1951  \"Regional Assembly Language\"\n",
       " 1952  \"Autocode\"\n",
       " 1954  \"IPL\"\n",
       " 1955  \"FLOW-MATIC\"\n",
       " 1957  \"FORTRAN\"\n",
       " 1957  \"COMTRAN\"\n",
       " 1958  \"LISP\"\n",
       " 1958  \"ALGOL 58\"\n",
       " 1959  \"FACT\"\n",
       " 1959  \"COBOL\""
      ]
     },
     "execution_count": 43,
     "metadata": {},
     "output_type": "execute_result"
    }
   ],
   "source": [
    "@show typeof(P)\n",
    "P[1:10,:]"
   ]
  },
  {
   "cell_type": "code",
   "execution_count": 45,
   "metadata": {},
   "outputs": [
    {
     "data": {
      "text/plain": [
       "2-element Vector{String}:\n",
       " \"year\"\n",
       " \"language\""
      ]
     },
     "execution_count": 45,
     "metadata": {},
     "output_type": "execute_result"
    }
   ],
   "source": [
    "names(C) #this gives us the names of the different columns"
   ]
  },
  {
   "cell_type": "code",
   "execution_count": 59,
   "metadata": {},
   "outputs": [
    {
     "data": {
      "text/html": [
       "<div><div style = \"float: left;\"><span>2×7 DataFrame</span></div><div style = \"clear: both;\"></div></div><div class = \"data-frame\" style = \"overflow-x: scroll;\"><table class = \"data-frame\" style = \"margin-bottom: 6px;\"><thead><tr class = \"header\"><th class = \"rowNumber\" style = \"font-weight: bold; text-align: right;\">Row</th><th style = \"text-align: left;\">variable</th><th style = \"text-align: left;\">mean</th><th style = \"text-align: left;\">min</th><th style = \"text-align: left;\">median</th><th style = \"text-align: left;\">max</th><th style = \"text-align: left;\">nmissing</th><th style = \"text-align: left;\">eltype</th></tr><tr class = \"subheader headerLastRow\"><th class = \"rowNumber\" style = \"font-weight: bold; text-align: right;\"></th><th title = \"Symbol\" style = \"text-align: left;\">Symbol</th><th title = \"Union{Nothing, Float64}\" style = \"text-align: left;\">Union…</th><th title = \"Any\" style = \"text-align: left;\">Any</th><th title = \"Union{Nothing, Float64}\" style = \"text-align: left;\">Union…</th><th title = \"Any\" style = \"text-align: left;\">Any</th><th title = \"Int64\" style = \"text-align: left;\">Int64</th><th title = \"DataType\" style = \"text-align: left;\">DataType</th></tr></thead><tbody><tr><td class = \"rowNumber\" style = \"font-weight: bold; text-align: right;\">1</td><td style = \"text-align: left;\">year</td><td style = \"text-align: left;\">1982.99</td><td style = \"text-align: left;\">1951</td><td style = \"text-align: left;\">1986.0</td><td style = \"text-align: left;\">2014</td><td style = \"text-align: right;\">0</td><td style = \"text-align: left;\">Int64</td></tr><tr><td class = \"rowNumber\" style = \"font-weight: bold; text-align: right;\">2</td><td style = \"text-align: left;\">language</td><td style = \"font-style: italic; text-align: left;\"></td><td style = \"text-align: left;\">ALGOL 58</td><td style = \"font-style: italic; text-align: left;\"></td><td style = \"text-align: left;\">dBase III</td><td style = \"text-align: right;\">0</td><td style = \"text-align: left;\">String31</td></tr></tbody></table></div>"
      ],
      "text/latex": [
       "\\begin{tabular}{r|ccccccc}\n",
       "\t& variable & mean & min & median & max & nmissing & eltype\\\\\n",
       "\t\\hline\n",
       "\t& Symbol & Union… & Any & Union… & Any & Int64 & DataType\\\\\n",
       "\t\\hline\n",
       "\t1 & year & 1982.99 & 1951 & 1986.0 & 2014 & 0 & Int64 \\\\\n",
       "\t2 & language &  & ALGOL 58 &  & dBase III & 0 & String31 \\\\\n",
       "\\end{tabular}\n"
      ],
      "text/plain": [
       "\u001b[1m2×7 DataFrame\u001b[0m\n",
       "\u001b[1m Row \u001b[0m│\u001b[1m variable \u001b[0m\u001b[1m mean    \u001b[0m\u001b[1m min      \u001b[0m\u001b[1m median \u001b[0m\u001b[1m max       \u001b[0m\u001b[1m nmissing \u001b[0m\u001b[1m eltype   \u001b[0m\n",
       "     │\u001b[90m Symbol   \u001b[0m\u001b[90m Union…  \u001b[0m\u001b[90m Any      \u001b[0m\u001b[90m Union… \u001b[0m\u001b[90m Any       \u001b[0m\u001b[90m Int64    \u001b[0m\u001b[90m DataType \u001b[0m\n",
       "─────┼────────────────────────────────────────────────────────────────────\n",
       "   1 │ year      1982.99  1951      1986.0  2014              0  Int64\n",
       "   2 │ language \u001b[90m         \u001b[0m ALGOL 58 \u001b[90m        \u001b[0m dBase III         0  String31"
      ]
     },
     "execution_count": 59,
     "metadata": {},
     "output_type": "execute_result"
    }
   ],
   "source": [
    "#here we can go on to check some descriptive statistics\n",
    "names(C) #we first check the names of the columns\n",
    "C.year #we then proceed to look at the column year\n",
    "C.language #we then move on to look at the column language\n",
    "describe(C) #finally, we look at the descriptive statistics\n",
    "\n",
    "#even though language is a string, we get an output"
   ]
  },
  {
   "cell_type": "code",
   "execution_count": 61,
   "metadata": {},
   "outputs": [
    {
     "name": "stdout",
     "output_type": "stream",
     "text": [
      "  203.600 μs (328 allocations: 50.71 KiB)\n",
      "  314.400 μs (472 allocations: 47.27 KiB)\n"
     ]
    }
   ],
   "source": [
    "#let's compare both of the methods to read in CSVs\n",
    "@btime P,H = readdlm(\"programming_languages.csv\",',';header=true);\n",
    "@btime C = CSV.read(\"programming_languages.csv\", DataFrame);"
   ]
  },
  {
   "cell_type": "code",
   "execution_count": 63,
   "metadata": {},
   "outputs": [
    {
     "data": {
      "text/plain": [
       "\"programminglanguages_CSV.csv\""
      ]
     },
     "execution_count": 63,
     "metadata": {},
     "output_type": "execute_result"
    }
   ],
   "source": [
    "# To write to a *.csv file using the CSV package\n",
    "CSV.write(\"programminglanguages_CSV.csv\", DataFrame(P, :auto))"
   ]
  },
  {
   "cell_type": "markdown",
   "metadata": {},
   "source": [
    "Another type of files that we may often need to read is `XLSX` files. Let's try to read a new file."
   ]
  },
  {
   "cell_type": "code",
   "execution_count": 80,
   "metadata": {},
   "outputs": [
    {
     "data": {
      "text/plain": [
       "9×6 Matrix{Any}:\n",
       "      \"RegionID\"  \"RegionName\"    …      \"2008-03\"      \"2008-04\"\n",
       "  6181            \"New York\"             missing        missing\n",
       " 12447            \"Los Angeles\"      1446           1705\n",
       " 39051            \"Houston\"          2926           3121\n",
       " 17426            \"Chicago\"          2910           3022\n",
       "  6915            \"San Antonio\"   …  1479           1529\n",
       " 13271            \"Philadelphia\"     1609           1795\n",
       " 40326            \"Phoenix\"          1310           1519\n",
       " 18959            \"Las Vegas\"        1618           1856"
      ]
     },
     "execution_count": 80,
     "metadata": {},
     "output_type": "execute_result"
    }
   ],
   "source": [
    "T = XLSX.readdata(\"data/zillow_data_download_april2020.xlsx\", #file name\n",
    "    \"Sale_counts_city\", #sheet name\n",
    "    \"A1:F9\" #cell range\n",
    "    )"
   ]
  },
  {
   "cell_type": "markdown",
   "metadata": {},
   "source": [
    "If you don't want to specify cell ranges... though this will take a little longer..."
   ]
  },
  {
   "cell_type": "code",
   "execution_count": 91,
   "metadata": {},
   "outputs": [],
   "source": [
    "G = XLSX.readtable(\"data/zillow_data_download_april2020.xlsx\",\"Sale_counts_city\"); \n",
    "#G = DataFrame(XLSX.readtable(\"data/zillow_data_download_april2020.xlsx\", \"Sale_counts_city\"))"
   ]
  },
  {
   "cell_type": "markdown",
   "metadata": {},
   "source": [
    "And we can easily store this data in a DataFrame:"
   ]
  },
  {
   "cell_type": "code",
   "execution_count": 104,
   "metadata": {},
   "outputs": [
    {
     "data": {
      "text/html": [
       "<div><div style = \"float: left;\"><span>28759×148 DataFrame</span></div><div style = \"float: right;\"><span style = \"font-style: italic;\">48 columns and 28734 rows omitted</span></div><div style = \"clear: both;\"></div></div><div class = \"data-frame\" style = \"overflow-x: scroll;\"><table class = \"data-frame\" style = \"margin-bottom: 6px;\"><thead><tr class = \"header\"><th class = \"rowNumber\" style = \"font-weight: bold; text-align: right;\">Row</th><th style = \"text-align: left;\">RegionID</th><th style = \"text-align: left;\">RegionName</th><th style = \"text-align: left;\">StateName</th><th style = \"text-align: left;\">SizeRank</th><th style = \"text-align: left;\">2008-03</th><th style = \"text-align: left;\">2008-04</th><th style = \"text-align: left;\">2008-05</th><th style = \"text-align: left;\">2008-06</th><th style = \"text-align: left;\">2008-07</th><th style = \"text-align: left;\">2008-08</th><th style = \"text-align: left;\">2008-09</th><th style = \"text-align: left;\">2008-10</th><th style = \"text-align: left;\">2008-11</th><th style = \"text-align: left;\">2008-12</th><th style = \"text-align: left;\">2009-01</th><th style = \"text-align: left;\">2009-02</th><th style = \"text-align: left;\">2009-03</th><th style = \"text-align: left;\">2009-04</th><th style = \"text-align: left;\">2009-05</th><th style = \"text-align: left;\">2009-06</th><th style = \"text-align: left;\">2009-07</th><th style = \"text-align: left;\">2009-08</th><th style = \"text-align: left;\">2009-09</th><th style = \"text-align: left;\">2009-10</th><th style = \"text-align: left;\">2009-11</th><th style = \"text-align: left;\">2009-12</th><th style = \"text-align: left;\">2010-01</th><th style = \"text-align: left;\">2010-02</th><th style = \"text-align: left;\">2010-03</th><th style = \"text-align: left;\">2010-04</th><th style = \"text-align: left;\">2010-05</th><th style = \"text-align: left;\">2010-06</th><th style = \"text-align: left;\">2010-07</th><th style = \"text-align: left;\">2010-08</th><th style = \"text-align: left;\">2010-09</th><th style = \"text-align: left;\">2010-10</th><th style = \"text-align: left;\">2010-11</th><th style = \"text-align: left;\">2010-12</th><th style = \"text-align: left;\">2011-01</th><th style = \"text-align: left;\">2011-02</th><th style = \"text-align: left;\">2011-03</th><th style = \"text-align: left;\">2011-04</th><th style = \"text-align: left;\">2011-05</th><th style = \"text-align: left;\">2011-06</th><th style = \"text-align: left;\">2011-07</th><th style = \"text-align: left;\">2011-08</th><th style = \"text-align: left;\">2011-09</th><th style = \"text-align: left;\">2011-10</th><th style = \"text-align: left;\">2011-11</th><th style = \"text-align: left;\">2011-12</th><th style = \"text-align: left;\">2012-01</th><th style = \"text-align: left;\">2012-02</th><th style = \"text-align: left;\">2012-03</th><th style = \"text-align: left;\">2012-04</th><th style = \"text-align: left;\">2012-05</th><th style = \"text-align: left;\">2012-06</th><th style = \"text-align: left;\">2012-07</th><th style = \"text-align: left;\">2012-08</th><th style = \"text-align: left;\">2012-09</th><th style = \"text-align: left;\">2012-10</th><th style = \"text-align: left;\">2012-11</th><th style = \"text-align: left;\">2012-12</th><th style = \"text-align: left;\">2013-01</th><th style = \"text-align: left;\">2013-02</th><th style = \"text-align: left;\">2013-03</th><th style = \"text-align: left;\">2013-04</th><th style = \"text-align: left;\">2013-05</th><th style = \"text-align: left;\">2013-06</th><th style = \"text-align: left;\">2013-07</th><th style = \"text-align: left;\">2013-08</th><th style = \"text-align: left;\">2013-09</th><th style = \"text-align: left;\">2013-10</th><th style = \"text-align: left;\">2013-11</th><th style = \"text-align: left;\">2013-12</th><th style = \"text-align: left;\">2014-01</th><th style = \"text-align: left;\">2014-02</th><th style = \"text-align: left;\">2014-03</th><th style = \"text-align: left;\">2014-04</th><th style = \"text-align: left;\">2014-05</th><th style = \"text-align: left;\">2014-06</th><th style = \"text-align: left;\">2014-07</th><th style = \"text-align: left;\">2014-08</th><th style = \"text-align: left;\">2014-09</th><th style = \"text-align: left;\">2014-10</th><th style = \"text-align: left;\">2014-11</th><th style = \"text-align: left;\">2014-12</th><th style = \"text-align: left;\">2015-01</th><th style = \"text-align: left;\">2015-02</th><th style = \"text-align: left;\">2015-03</th><th style = \"text-align: left;\">2015-04</th><th style = \"text-align: left;\">2015-05</th><th style = \"text-align: left;\">2015-06</th><th style = \"text-align: left;\">2015-07</th><th style = \"text-align: left;\">2015-08</th><th style = \"text-align: left;\">2015-09</th><th style = \"text-align: left;\">2015-10</th><th style = \"text-align: left;\">2015-11</th><th style = \"text-align: left;\">2015-12</th><th style = \"text-align: left;\">2016-01</th><th style = \"text-align: left;\">2016-02</th><th style = \"text-align: right;\">&ctdot;</th></tr><tr class = \"subheader headerLastRow\"><th class = \"rowNumber\" style = \"font-weight: bold; text-align: right;\"></th><th title = \"Any\" style = \"text-align: left;\">Any</th><th title = \"Any\" style = \"text-align: left;\">Any</th><th title = \"Any\" style = \"text-align: left;\">Any</th><th title = \"Any\" style = \"text-align: left;\">Any</th><th title = \"Any\" style = \"text-align: left;\">Any</th><th title = \"Any\" style = \"text-align: left;\">Any</th><th title = \"Any\" style = \"text-align: left;\">Any</th><th title = \"Any\" style = \"text-align: left;\">Any</th><th title = \"Any\" style = \"text-align: left;\">Any</th><th title = \"Any\" style = \"text-align: left;\">Any</th><th title = \"Any\" style = \"text-align: left;\">Any</th><th title = \"Any\" style = \"text-align: left;\">Any</th><th title = \"Any\" style = \"text-align: left;\">Any</th><th title = \"Any\" style = \"text-align: left;\">Any</th><th title = \"Any\" style = \"text-align: left;\">Any</th><th title = \"Any\" style = \"text-align: left;\">Any</th><th title = \"Any\" style = \"text-align: left;\">Any</th><th title = \"Any\" style = \"text-align: left;\">Any</th><th title = \"Any\" style = \"text-align: left;\">Any</th><th title = \"Any\" style = \"text-align: left;\">Any</th><th title = \"Any\" style = \"text-align: left;\">Any</th><th title = \"Any\" style = \"text-align: left;\">Any</th><th title = \"Any\" style = \"text-align: left;\">Any</th><th title = \"Any\" style = \"text-align: left;\">Any</th><th title = \"Any\" style = \"text-align: left;\">Any</th><th title = \"Any\" style = \"text-align: left;\">Any</th><th title = \"Any\" style = \"text-align: left;\">Any</th><th title = \"Any\" style = \"text-align: left;\">Any</th><th title = \"Any\" style = \"text-align: left;\">Any</th><th title = \"Any\" style = \"text-align: left;\">Any</th><th title = \"Any\" style = \"text-align: left;\">Any</th><th title = \"Any\" style = \"text-align: left;\">Any</th><th title = \"Any\" style = \"text-align: left;\">Any</th><th title = \"Any\" style = \"text-align: left;\">Any</th><th title = \"Any\" style = \"text-align: left;\">Any</th><th title = \"Any\" style = \"text-align: left;\">Any</th><th title = \"Any\" style = \"text-align: left;\">Any</th><th title = \"Any\" style = \"text-align: left;\">Any</th><th title = \"Any\" style = \"text-align: left;\">Any</th><th title = \"Any\" style = \"text-align: left;\">Any</th><th title = \"Any\" style = \"text-align: left;\">Any</th><th title = \"Any\" style = \"text-align: left;\">Any</th><th title = \"Any\" style = \"text-align: left;\">Any</th><th title = \"Any\" style = \"text-align: left;\">Any</th><th title = \"Any\" style = \"text-align: left;\">Any</th><th title = \"Any\" style = \"text-align: left;\">Any</th><th title = \"Any\" style = \"text-align: left;\">Any</th><th title = \"Any\" style = \"text-align: left;\">Any</th><th title = \"Any\" style = \"text-align: left;\">Any</th><th title = \"Any\" style = \"text-align: left;\">Any</th><th title = \"Any\" style = \"text-align: left;\">Any</th><th title = \"Any\" style = \"text-align: left;\">Any</th><th title = \"Any\" style = \"text-align: left;\">Any</th><th title = \"Any\" style = \"text-align: left;\">Any</th><th title = \"Any\" style = \"text-align: left;\">Any</th><th title = \"Any\" style = \"text-align: left;\">Any</th><th title = \"Any\" style = \"text-align: left;\">Any</th><th title = \"Any\" style = \"text-align: left;\">Any</th><th title = \"Any\" style = \"text-align: left;\">Any</th><th title = \"Any\" style = \"text-align: left;\">Any</th><th title = \"Any\" style = \"text-align: left;\">Any</th><th title = \"Any\" style = \"text-align: left;\">Any</th><th title = \"Any\" style = \"text-align: left;\">Any</th><th title = \"Any\" style = \"text-align: left;\">Any</th><th title = \"Any\" style = \"text-align: left;\">Any</th><th title = \"Any\" style = \"text-align: left;\">Any</th><th title = \"Any\" style = \"text-align: left;\">Any</th><th title = \"Any\" style = \"text-align: left;\">Any</th><th title = \"Any\" style = \"text-align: left;\">Any</th><th title = \"Any\" style = \"text-align: left;\">Any</th><th title = \"Any\" style = \"text-align: left;\">Any</th><th title = \"Any\" style = \"text-align: left;\">Any</th><th title = \"Any\" style = \"text-align: left;\">Any</th><th title = \"Any\" style = \"text-align: left;\">Any</th><th title = \"Any\" style = \"text-align: left;\">Any</th><th title = \"Any\" style = \"text-align: left;\">Any</th><th title = \"Any\" style = \"text-align: left;\">Any</th><th title = \"Any\" style = \"text-align: left;\">Any</th><th title = \"Any\" style = \"text-align: left;\">Any</th><th title = \"Any\" style = \"text-align: left;\">Any</th><th title = \"Any\" style = \"text-align: left;\">Any</th><th title = \"Any\" style = \"text-align: left;\">Any</th><th title = \"Any\" style = \"text-align: left;\">Any</th><th title = \"Any\" style = \"text-align: left;\">Any</th><th title = \"Any\" style = \"text-align: left;\">Any</th><th title = \"Any\" style = \"text-align: left;\">Any</th><th title = \"Any\" style = \"text-align: left;\">Any</th><th title = \"Any\" style = \"text-align: left;\">Any</th><th title = \"Any\" style = \"text-align: left;\">Any</th><th title = \"Any\" style = \"text-align: left;\">Any</th><th title = \"Any\" style = \"text-align: left;\">Any</th><th title = \"Any\" style = \"text-align: left;\">Any</th><th title = \"Any\" style = \"text-align: left;\">Any</th><th title = \"Any\" style = \"text-align: left;\">Any</th><th title = \"Any\" style = \"text-align: left;\">Any</th><th title = \"Any\" style = \"text-align: left;\">Any</th><th title = \"Any\" style = \"text-align: left;\">Any</th><th title = \"Any\" style = \"text-align: left;\">Any</th><th title = \"Any\" style = \"text-align: left;\">Any</th><th title = \"Any\" style = \"text-align: left;\">Any</th><th title = \"Any\" style = \"text-align: right;\">&ctdot;</th></tr></thead><tbody><tr><td class = \"rowNumber\" style = \"font-weight: bold; text-align: right;\">1</td><td style = \"text-align: left;\">6181</td><td style = \"text-align: left;\">New York</td><td style = \"text-align: left;\">New York</td><td style = \"text-align: left;\">1</td><td style = \"font-style: italic; text-align: left;\">missing</td><td style = \"font-style: italic; text-align: left;\">missing</td><td style = \"font-style: italic; text-align: left;\">missing</td><td style = \"font-style: italic; text-align: left;\">missing</td><td style = \"font-style: italic; text-align: left;\">missing</td><td style = \"font-style: italic; text-align: left;\">missing</td><td style = \"font-style: italic; text-align: left;\">missing</td><td style = \"font-style: italic; text-align: left;\">missing</td><td style = \"font-style: italic; text-align: left;\">missing</td><td style = \"font-style: italic; text-align: left;\">missing</td><td style = \"font-style: italic; text-align: left;\">missing</td><td style = \"font-style: italic; text-align: left;\">missing</td><td style = \"font-style: italic; text-align: left;\">missing</td><td style = \"font-style: italic; text-align: left;\">missing</td><td style = \"font-style: italic; text-align: left;\">missing</td><td style = \"font-style: italic; text-align: left;\">missing</td><td style = \"font-style: italic; text-align: left;\">missing</td><td style = \"font-style: italic; text-align: left;\">missing</td><td style = \"font-style: italic; text-align: left;\">missing</td><td style = \"font-style: italic; text-align: left;\">missing</td><td style = \"font-style: italic; text-align: left;\">missing</td><td style = \"font-style: italic; text-align: left;\">missing</td><td style = \"font-style: italic; text-align: left;\">missing</td><td style = \"font-style: italic; text-align: left;\">missing</td><td style = \"font-style: italic; text-align: left;\">missing</td><td style = \"font-style: italic; text-align: left;\">missing</td><td style = \"font-style: italic; text-align: left;\">missing</td><td style = \"font-style: italic; text-align: left;\">missing</td><td style = \"font-style: italic; text-align: left;\">missing</td><td style = \"font-style: italic; text-align: left;\">missing</td><td style = \"font-style: italic; text-align: left;\">missing</td><td style = \"font-style: italic; text-align: left;\">missing</td><td style = \"font-style: italic; text-align: left;\">missing</td><td style = \"text-align: left;\">2687</td><td style = \"text-align: left;\">2821</td><td style = \"text-align: left;\">2865</td><td style = \"text-align: left;\">3303</td><td style = \"text-align: left;\">3405</td><td style = \"text-align: left;\">2990</td><td style = \"text-align: left;\">3186</td><td style = \"text-align: left;\">3721</td><td style = \"text-align: left;\">3484</td><td style = \"text-align: left;\">3237</td><td style = \"text-align: left;\">3112</td><td style = \"text-align: left;\">2757</td><td style = \"text-align: left;\">2814</td><td style = \"text-align: left;\">3740</td><td style = \"text-align: left;\">2540</td><td style = \"text-align: left;\">3461</td><td style = \"text-align: left;\">3444</td><td style = \"text-align: left;\">3414</td><td style = \"text-align: left;\">3961</td><td style = \"text-align: left;\">3857</td><td style = \"text-align: left;\">3820</td><td style = \"text-align: left;\">3694</td><td style = \"text-align: left;\">3363</td><td style = \"text-align: left;\">3472</td><td style = \"text-align: left;\">3395</td><td style = \"text-align: left;\">4201</td><td style = \"text-align: left;\">3394</td><td style = \"text-align: left;\">3481</td><td style = \"text-align: left;\">3146</td><td style = \"text-align: left;\">4188</td><td style = \"text-align: left;\">3455</td><td style = \"text-align: left;\">4352</td><td style = \"text-align: left;\">4855</td><td style = \"text-align: left;\">5362</td><td style = \"text-align: left;\">4760</td><td style = \"text-align: left;\">3958</td><td style = \"text-align: left;\">4655</td><td style = \"text-align: left;\">4201</td><td style = \"text-align: left;\">3203</td><td style = \"text-align: left;\">3740</td><td style = \"text-align: left;\">3542</td><td style = \"text-align: left;\">4212</td><td style = \"text-align: left;\">3710</td><td style = \"text-align: left;\">3756</td><td style = \"text-align: left;\">4382</td><td style = \"text-align: left;\">4007</td><td style = \"text-align: left;\">4464</td><td style = \"text-align: left;\">3395</td><td style = \"text-align: left;\">4273</td><td style = \"text-align: left;\">3863</td><td style = \"text-align: left;\">3703</td><td style = \"text-align: left;\">4035</td><td style = \"text-align: left;\">3763</td><td style = \"text-align: left;\">3450</td><td style = \"text-align: left;\">4769</td><td style = \"text-align: left;\">4514</td><td style = \"text-align: left;\">4397</td><td style = \"text-align: left;\">5099</td><td style = \"text-align: left;\">4526</td><td style = \"text-align: left;\">3874</td><td style = \"text-align: left;\">4545</td><td style = \"text-align: left;\">3741</td><td style = \"text-align: left;\">3276</td><td style = \"text-align: right;\">&ctdot;</td></tr><tr><td class = \"rowNumber\" style = \"font-weight: bold; text-align: right;\">2</td><td style = \"text-align: left;\">12447</td><td style = \"text-align: left;\">Los Angeles</td><td style = \"text-align: left;\">California</td><td style = \"text-align: left;\">2</td><td style = \"text-align: left;\">1446</td><td style = \"text-align: left;\">1705</td><td style = \"text-align: left;\">1795</td><td style = \"text-align: left;\">1890</td><td style = \"text-align: left;\">2072</td><td style = \"text-align: left;\">1876</td><td style = \"text-align: left;\">1981</td><td style = \"text-align: left;\">2195</td><td style = \"text-align: left;\">1579</td><td style = \"text-align: left;\">2068</td><td style = \"text-align: left;\">1523</td><td style = \"text-align: left;\">1514</td><td style = \"text-align: left;\">1976</td><td style = \"text-align: left;\">2128</td><td style = \"text-align: left;\">2060</td><td style = \"text-align: left;\">2536</td><td style = \"text-align: left;\">2538</td><td style = \"text-align: left;\">2282</td><td style = \"text-align: left;\">2456</td><td style = \"text-align: left;\">2448</td><td style = \"text-align: left;\">2107</td><td style = \"text-align: left;\">2538</td><td style = \"text-align: left;\">1816</td><td style = \"text-align: left;\">1820</td><td style = \"text-align: left;\">2382</td><td style = \"text-align: left;\">2262</td><td style = \"text-align: left;\">2552</td><td style = \"text-align: left;\">2651</td><td style = \"text-align: left;\">2238</td><td style = \"text-align: left;\">2099</td><td style = \"text-align: left;\">2107</td><td style = \"text-align: left;\">1904</td><td style = \"text-align: left;\">1912</td><td style = \"text-align: left;\">2371</td><td style = \"text-align: left;\">1834</td><td style = \"text-align: left;\">1723</td><td style = \"text-align: left;\">2391</td><td style = \"text-align: left;\">2169</td><td style = \"text-align: left;\">2137</td><td style = \"text-align: left;\">2457</td><td style = \"text-align: left;\">2170</td><td style = \"text-align: left;\">2563</td><td style = \"text-align: left;\">2197</td><td style = \"text-align: left;\">2016</td><td style = \"text-align: left;\">2049</td><td style = \"text-align: left;\">2401</td><td style = \"text-align: left;\">1849</td><td style = \"text-align: left;\">1952</td><td style = \"text-align: left;\">2452</td><td style = \"text-align: left;\">2401</td><td style = \"text-align: left;\">2726</td><td style = \"text-align: left;\">2727</td><td style = \"text-align: left;\">2623</td><td style = \"text-align: left;\">2853</td><td style = \"text-align: left;\">2295</td><td style = \"text-align: left;\">2671</td><td style = \"text-align: left;\">2495</td><td style = \"text-align: left;\">2881</td><td style = \"text-align: left;\">1945</td><td style = \"text-align: left;\">1969</td><td style = \"text-align: left;\">2667</td><td style = \"text-align: left;\">2642</td><td style = \"text-align: left;\">2932</td><td style = \"text-align: left;\">2748</td><td style = \"text-align: left;\">2843</td><td style = \"text-align: left;\">3071</td><td style = \"text-align: left;\">2434</td><td style = \"text-align: left;\">2621</td><td style = \"text-align: left;\">2464</td><td style = \"text-align: left;\">2533</td><td style = \"text-align: left;\">2040</td><td style = \"text-align: left;\">1923</td><td style = \"text-align: left;\">2453</td><td style = \"text-align: left;\">2831</td><td style = \"text-align: left;\">2854</td><td style = \"text-align: left;\">2788</td><td style = \"text-align: left;\">2940</td><td style = \"text-align: left;\">2687</td><td style = \"text-align: left;\">2538</td><td style = \"text-align: left;\">2875</td><td style = \"text-align: left;\">2177</td><td style = \"text-align: left;\">2661</td><td style = \"text-align: left;\">2074</td><td style = \"text-align: left;\">1988</td><td style = \"text-align: left;\">2590</td><td style = \"text-align: left;\">2824</td><td style = \"text-align: left;\">2834</td><td style = \"text-align: left;\">3106</td><td style = \"text-align: left;\">3191</td><td style = \"text-align: left;\">2909</td><td style = \"text-align: left;\">2951</td><td style = \"text-align: left;\">2742</td><td style = \"text-align: left;\">2216</td><td style = \"text-align: left;\">2830</td><td style = \"text-align: left;\">2142</td><td style = \"text-align: left;\">2095</td><td style = \"text-align: right;\">&ctdot;</td></tr><tr><td class = \"rowNumber\" style = \"font-weight: bold; text-align: right;\">3</td><td style = \"text-align: left;\">39051</td><td style = \"text-align: left;\">Houston</td><td style = \"text-align: left;\">Texas</td><td style = \"text-align: left;\">3</td><td style = \"text-align: left;\">2926</td><td style = \"text-align: left;\">3121</td><td style = \"text-align: left;\">3220</td><td style = \"text-align: left;\">3405</td><td style = \"text-align: left;\">3352</td><td style = \"text-align: left;\">2962</td><td style = \"text-align: left;\">2017</td><td style = \"text-align: left;\">2595</td><td style = \"text-align: left;\">1865</td><td style = \"text-align: left;\">2472</td><td style = \"text-align: left;\">1776</td><td style = \"text-align: left;\">1918</td><td style = \"text-align: left;\">2472</td><td style = \"text-align: left;\">2333</td><td style = \"text-align: left;\">2443</td><td style = \"text-align: left;\">2918</td><td style = \"text-align: left;\">2923</td><td style = \"text-align: left;\">2632</td><td style = \"text-align: left;\">2530</td><td style = \"text-align: left;\">2681</td><td style = \"text-align: left;\">2524</td><td style = \"text-align: left;\">2605</td><td style = \"text-align: left;\">1627</td><td style = \"text-align: left;\">1875</td><td style = \"text-align: left;\">2761</td><td style = \"text-align: left;\">2791</td><td style = \"text-align: left;\">2988</td><td style = \"text-align: left;\">3207</td><td style = \"text-align: left;\">2391</td><td style = \"text-align: left;\">2372</td><td style = \"text-align: left;\">2158</td><td style = \"text-align: left;\">2034</td><td style = \"text-align: left;\">1968</td><td style = \"text-align: left;\">2181</td><td style = \"text-align: left;\">1960</td><td style = \"text-align: left;\">1762</td><td style = \"text-align: left;\">2707</td><td style = \"text-align: left;\">2439</td><td style = \"text-align: left;\">2758</td><td style = \"text-align: left;\">2760</td><td style = \"text-align: left;\">2541</td><td style = \"text-align: left;\">2947</td><td style = \"text-align: left;\">2387</td><td style = \"text-align: left;\">2244</td><td style = \"text-align: left;\">2017</td><td style = \"text-align: left;\">2513</td><td style = \"text-align: left;\">2014</td><td style = \"text-align: left;\">2059</td><td style = \"text-align: left;\">2655</td><td style = \"text-align: left;\">2375</td><td style = \"text-align: left;\">3164</td><td style = \"text-align: left;\">2930</td><td style = \"text-align: left;\">3290</td><td style = \"text-align: left;\">2790</td><td style = \"text-align: left;\">2641</td><td style = \"text-align: left;\">2698</td><td style = \"text-align: left;\">2672</td><td style = \"text-align: left;\">2504</td><td style = \"text-align: left;\">2288</td><td style = \"text-align: left;\">2510</td><td style = \"text-align: left;\">2922</td><td style = \"text-align: left;\">3736</td><td style = \"text-align: left;\">3880</td><td style = \"text-align: left;\">3479</td><td style = \"text-align: left;\">3859</td><td style = \"text-align: left;\">3702</td><td style = \"text-align: left;\">3335</td><td style = \"text-align: left;\">3187</td><td style = \"text-align: left;\">2750</td><td style = \"text-align: left;\">3141</td><td style = \"text-align: left;\">2492</td><td style = \"text-align: left;\">2219</td><td style = \"text-align: left;\">3210</td><td style = \"text-align: left;\">3324</td><td style = \"text-align: left;\">3522</td><td style = \"text-align: left;\">3574</td><td style = \"text-align: left;\">4167</td><td style = \"text-align: left;\">2342</td><td style = \"text-align: left;\">3578</td><td style = \"text-align: left;\">3546</td><td style = \"text-align: left;\">2751</td><td style = \"text-align: left;\">3402</td><td style = \"text-align: left;\">2491</td><td style = \"text-align: left;\">2426</td><td style = \"text-align: left;\">3228</td><td style = \"text-align: left;\">3279</td><td style = \"text-align: left;\">3394</td><td style = \"text-align: left;\">4006</td><td style = \"text-align: left;\">3855</td><td style = \"text-align: left;\">3398</td><td style = \"text-align: left;\">3341</td><td style = \"text-align: left;\">3083</td><td style = \"text-align: left;\">2373</td><td style = \"text-align: left;\">3255</td><td style = \"text-align: left;\">2372</td><td style = \"text-align: left;\">2633</td><td style = \"text-align: right;\">&ctdot;</td></tr><tr><td class = \"rowNumber\" style = \"font-weight: bold; text-align: right;\">4</td><td style = \"text-align: left;\">17426</td><td style = \"text-align: left;\">Chicago</td><td style = \"text-align: left;\">Illinois</td><td style = \"text-align: left;\">4</td><td style = \"text-align: left;\">2910</td><td style = \"text-align: left;\">3022</td><td style = \"text-align: left;\">2937</td><td style = \"text-align: left;\">3224</td><td style = \"text-align: left;\">3464</td><td style = \"text-align: left;\">3371</td><td style = \"text-align: left;\">2979</td><td style = \"text-align: left;\">2869</td><td style = \"text-align: left;\">1915</td><td style = \"text-align: left;\">2110</td><td style = \"text-align: left;\">1897</td><td style = \"text-align: left;\">1618</td><td style = \"text-align: left;\">2284</td><td style = \"text-align: left;\">2520</td><td style = \"text-align: left;\">2366</td><td style = \"text-align: left;\">2938</td><td style = \"text-align: left;\">3015</td><td style = \"text-align: left;\">2706</td><td style = \"text-align: left;\">2866</td><td style = \"text-align: left;\">3235</td><td style = \"text-align: left;\">2937</td><td style = \"text-align: left;\">2776</td><td style = \"text-align: left;\">2445</td><td style = \"text-align: left;\">1913</td><td style = \"text-align: left;\">2669</td><td style = \"text-align: left;\">3208</td><td style = \"text-align: left;\">3186</td><td style = \"text-align: left;\">3506</td><td style = \"text-align: left;\">3203</td><td style = \"text-align: left;\">2744</td><td style = \"text-align: left;\">2320</td><td style = \"text-align: left;\">2095</td><td style = \"text-align: left;\">1877</td><td style = \"text-align: left;\">2233</td><td style = \"text-align: left;\">2111</td><td style = \"text-align: left;\">1792</td><td style = \"text-align: left;\">2457</td><td style = \"text-align: left;\">2149</td><td style = \"text-align: left;\">2438</td><td style = \"text-align: left;\">2988</td><td style = \"text-align: left;\">2479</td><td style = \"text-align: left;\">2998</td><td style = \"text-align: left;\">2391</td><td style = \"text-align: left;\">2255</td><td style = \"text-align: left;\">2119</td><td style = \"text-align: left;\">2296</td><td style = \"text-align: left;\">2113</td><td style = \"text-align: left;\">1657</td><td style = \"text-align: left;\">2265</td><td style = \"text-align: left;\">2311</td><td style = \"text-align: left;\">2845</td><td style = \"text-align: left;\">3458</td><td style = \"text-align: left;\">2907</td><td style = \"text-align: left;\">3610</td><td style = \"text-align: left;\">2367</td><td style = \"text-align: left;\">2423</td><td style = \"text-align: left;\">2138</td><td style = \"text-align: left;\">2021</td><td style = \"text-align: left;\">2261</td><td style = \"text-align: left;\">1743</td><td style = \"text-align: left;\">2029</td><td style = \"text-align: left;\">2813</td><td style = \"text-align: left;\">2996</td><td style = \"text-align: left;\">3022</td><td style = \"text-align: left;\">3974</td><td style = \"text-align: left;\">3622</td><td style = \"text-align: left;\">2796</td><td style = \"text-align: left;\">3734</td><td style = \"text-align: left;\">2569</td><td style = \"text-align: left;\">2682</td><td style = \"text-align: left;\">2489</td><td style = \"text-align: left;\">2074</td><td style = \"text-align: left;\">2305</td><td style = \"text-align: left;\">3540</td><td style = \"text-align: left;\">3235</td><td style = \"text-align: left;\">3474</td><td style = \"text-align: left;\">3268</td><td style = \"text-align: left;\">2896</td><td style = \"text-align: left;\">3707</td><td style = \"text-align: left;\">3516</td><td style = \"text-align: left;\">2306</td><td style = \"text-align: left;\">3059</td><td style = \"text-align: left;\">2161</td><td style = \"text-align: left;\">1945</td><td style = \"text-align: left;\">2712</td><td style = \"text-align: left;\">3347</td><td style = \"text-align: left;\">3470</td><td style = \"text-align: left;\">4084</td><td style = \"text-align: left;\">4336</td><td style = \"text-align: left;\">4612</td><td style = \"text-align: left;\">4149</td><td style = \"text-align: left;\">3832</td><td style = \"text-align: left;\">2777</td><td style = \"text-align: left;\">3150</td><td style = \"text-align: left;\">2649</td><td style = \"text-align: left;\">2534</td><td style = \"text-align: right;\">&ctdot;</td></tr><tr><td class = \"rowNumber\" style = \"font-weight: bold; text-align: right;\">5</td><td style = \"text-align: left;\">6915</td><td style = \"text-align: left;\">San Antonio</td><td style = \"text-align: left;\">Texas</td><td style = \"text-align: left;\">5</td><td style = \"text-align: left;\">1479</td><td style = \"text-align: left;\">1529</td><td style = \"text-align: left;\">1582</td><td style = \"text-align: left;\">1761</td><td style = \"text-align: left;\">1678</td><td style = \"text-align: left;\">1468</td><td style = \"text-align: left;\">1480</td><td style = \"text-align: left;\">1475</td><td style = \"text-align: left;\">949</td><td style = \"text-align: left;\">1178</td><td style = \"text-align: left;\">856</td><td style = \"text-align: left;\">1016</td><td style = \"text-align: left;\">1283</td><td style = \"text-align: left;\">1221</td><td style = \"text-align: left;\">1339</td><td style = \"text-align: left;\">1777</td><td style = \"text-align: left;\">1752</td><td style = \"text-align: left;\">1484</td><td style = \"text-align: left;\">1460</td><td style = \"text-align: left;\">1444</td><td style = \"text-align: left;\">1380</td><td style = \"text-align: left;\">1377</td><td style = \"text-align: left;\">810</td><td style = \"text-align: left;\">1111</td><td style = \"text-align: left;\">1477</td><td style = \"text-align: left;\">1651</td><td style = \"text-align: left;\">1669</td><td style = \"text-align: left;\">1796</td><td style = \"text-align: left;\">1347</td><td style = \"text-align: left;\">1333</td><td style = \"text-align: left;\">1245</td><td style = \"text-align: left;\">1166</td><td style = \"text-align: left;\">1086</td><td style = \"text-align: left;\">1148</td><td style = \"text-align: left;\">962</td><td style = \"text-align: left;\">960</td><td style = \"text-align: left;\">1372</td><td style = \"text-align: left;\">1237</td><td style = \"text-align: left;\">1430</td><td style = \"text-align: left;\">1539</td><td style = \"text-align: left;\">1378</td><td style = \"text-align: left;\">1435</td><td style = \"text-align: left;\">1262</td><td style = \"text-align: left;\">1160</td><td style = \"text-align: left;\">1103</td><td style = \"text-align: left;\">1193</td><td style = \"text-align: left;\">1063</td><td style = \"text-align: left;\">1024</td><td style = \"text-align: left;\">1361</td><td style = \"text-align: left;\">1389</td><td style = \"text-align: left;\">1588</td><td style = \"text-align: left;\">1643</td><td style = \"text-align: left;\">1661</td><td style = \"text-align: left;\">1690</td><td style = \"text-align: left;\">1343</td><td style = \"text-align: left;\">1521</td><td style = \"text-align: left;\">1290</td><td style = \"text-align: left;\">1388</td><td style = \"text-align: left;\">1170</td><td style = \"text-align: left;\">1270</td><td style = \"text-align: left;\">1552</td><td style = \"text-align: left;\">1790</td><td style = \"text-align: left;\">1955</td><td style = \"text-align: left;\">1925</td><td style = \"text-align: left;\">2027</td><td style = \"text-align: left;\">1992</td><td style = \"text-align: left;\">1694</td><td style = \"text-align: left;\">1631</td><td style = \"text-align: left;\">1470</td><td style = \"text-align: left;\">1587</td><td style = \"text-align: left;\">1299</td><td style = \"text-align: left;\">1232</td><td style = \"text-align: left;\">1742</td><td style = \"text-align: left;\">1729</td><td style = \"text-align: left;\">1944</td><td style = \"text-align: left;\">2029</td><td style = \"text-align: left;\">2066</td><td style = \"text-align: left;\">1928</td><td style = \"text-align: left;\">2037</td><td style = \"text-align: left;\">1846</td><td style = \"text-align: left;\">1454</td><td style = \"text-align: left;\">1797</td><td style = \"text-align: left;\">1282</td><td style = \"text-align: left;\">1405</td><td style = \"text-align: left;\">2015</td><td style = \"text-align: left;\">1897</td><td style = \"text-align: left;\">2004</td><td style = \"text-align: left;\">2325</td><td style = \"text-align: left;\">2433</td><td style = \"text-align: left;\">2208</td><td style = \"text-align: left;\">2087</td><td style = \"text-align: left;\">1948</td><td style = \"text-align: left;\">1516</td><td style = \"text-align: left;\">1931</td><td style = \"text-align: left;\">1430</td><td style = \"text-align: left;\">1706</td><td style = \"text-align: right;\">&ctdot;</td></tr><tr><td class = \"rowNumber\" style = \"font-weight: bold; text-align: right;\">6</td><td style = \"text-align: left;\">13271</td><td style = \"text-align: left;\">Philadelphia</td><td style = \"text-align: left;\">Pennsylvania</td><td style = \"text-align: left;\">6</td><td style = \"text-align: left;\">1609</td><td style = \"text-align: left;\">1795</td><td style = \"text-align: left;\">1709</td><td style = \"text-align: left;\">1914</td><td style = \"text-align: left;\">1984</td><td style = \"text-align: left;\">1739</td><td style = \"text-align: left;\">1635</td><td style = \"text-align: left;\">1598</td><td style = \"text-align: left;\">1169</td><td style = \"text-align: left;\">1414</td><td style = \"text-align: left;\">1152</td><td style = \"text-align: left;\">1029</td><td style = \"text-align: left;\">1199</td><td style = \"text-align: left;\">1368</td><td style = \"text-align: left;\">1412</td><td style = \"text-align: left;\">1586</td><td style = \"text-align: left;\">1853</td><td style = \"text-align: left;\">1464</td><td style = \"text-align: left;\">1590</td><td style = \"text-align: left;\">1679</td><td style = \"text-align: left;\">1586</td><td style = \"text-align: left;\">1783</td><td style = \"text-align: left;\">1097</td><td style = \"text-align: left;\">1034</td><td style = \"text-align: left;\">1571</td><td style = \"text-align: left;\">1549</td><td style = \"text-align: left;\">1611</td><td style = \"text-align: left;\">1977</td><td style = \"text-align: left;\">1793</td><td style = \"text-align: left;\">1310</td><td style = \"text-align: left;\">1233</td><td style = \"text-align: left;\">1180</td><td style = \"text-align: left;\">1133</td><td style = \"text-align: left;\">1365</td><td style = \"text-align: left;\">961</td><td style = \"text-align: left;\">981</td><td style = \"text-align: left;\">1334</td><td style = \"text-align: left;\">1185</td><td style = \"text-align: left;\">1362</td><td style = \"text-align: left;\">1546</td><td style = \"text-align: left;\">1379</td><td style = \"text-align: left;\">1384</td><td style = \"text-align: left;\">1178</td><td style = \"text-align: left;\">1152</td><td style = \"text-align: left;\">1116</td><td style = \"text-align: left;\">1307</td><td style = \"text-align: left;\">1308</td><td style = \"text-align: left;\">1145</td><td style = \"text-align: left;\">1284</td><td style = \"text-align: left;\">1408</td><td style = \"text-align: left;\">1555</td><td style = \"text-align: left;\">1536</td><td style = \"text-align: left;\">1705</td><td style = \"text-align: left;\">1631</td><td style = \"text-align: left;\">1198</td><td style = \"text-align: left;\">1591</td><td style = \"text-align: left;\">1389</td><td style = \"text-align: left;\">1345</td><td style = \"text-align: left;\">1560</td><td style = \"text-align: left;\">1208</td><td style = \"text-align: left;\">1517</td><td style = \"text-align: left;\">1709</td><td style = \"text-align: left;\">1835</td><td style = \"text-align: left;\">1777</td><td style = \"text-align: left;\">1869</td><td style = \"text-align: left;\">1795</td><td style = \"text-align: left;\">1614</td><td style = \"text-align: left;\">1638</td><td style = \"text-align: left;\">1377</td><td style = \"text-align: left;\">1550</td><td style = \"text-align: left;\">1224</td><td style = \"text-align: left;\">1148</td><td style = \"text-align: left;\">1299</td><td style = \"text-align: left;\">1589</td><td style = \"text-align: left;\">1638</td><td style = \"text-align: left;\">2001</td><td style = \"text-align: left;\">1755</td><td style = \"text-align: left;\">1937</td><td style = \"text-align: left;\">1704</td><td style = \"text-align: left;\">1536</td><td style = \"text-align: left;\">1595</td><td style = \"text-align: left;\">1650</td><td style = \"text-align: left;\">1483</td><td style = \"text-align: left;\">1375</td><td style = \"text-align: left;\">1752</td><td style = \"text-align: left;\">1775</td><td style = \"text-align: left;\">1879</td><td style = \"text-align: left;\">2277</td><td style = \"text-align: left;\">2434</td><td style = \"text-align: left;\">1905</td><td style = \"text-align: left;\">2008</td><td style = \"text-align: left;\">2123</td><td style = \"text-align: left;\">1747</td><td style = \"text-align: left;\">2075</td><td style = \"text-align: left;\">1727</td><td style = \"text-align: left;\">1533</td><td style = \"text-align: right;\">&ctdot;</td></tr><tr><td class = \"rowNumber\" style = \"font-weight: bold; text-align: right;\">7</td><td style = \"text-align: left;\">40326</td><td style = \"text-align: left;\">Phoenix</td><td style = \"text-align: left;\">Arizona</td><td style = \"text-align: left;\">7</td><td style = \"text-align: left;\">1310</td><td style = \"text-align: left;\">1519</td><td style = \"text-align: left;\">1654</td><td style = \"text-align: left;\">1743</td><td style = \"text-align: left;\">1975</td><td style = \"text-align: left;\">1809</td><td style = \"text-align: left;\">1965</td><td style = \"text-align: left;\">2074</td><td style = \"text-align: left;\">1435</td><td style = \"text-align: left;\">2045</td><td style = \"text-align: left;\">1891</td><td style = \"text-align: left;\">2174</td><td style = \"text-align: left;\">2809</td><td style = \"text-align: left;\">2981</td><td style = \"text-align: left;\">3172</td><td style = \"text-align: left;\">3797</td><td style = \"text-align: left;\">3468</td><td style = \"text-align: left;\">2787</td><td style = \"text-align: left;\">2708</td><td style = \"text-align: left;\">2843</td><td style = \"text-align: left;\">2597</td><td style = \"text-align: left;\">2813</td><td style = \"text-align: left;\">2102</td><td style = \"text-align: left;\">2241</td><td style = \"text-align: left;\">3053</td><td style = \"text-align: left;\">2946</td><td style = \"text-align: left;\">2903</td><td style = \"text-align: left;\">3183</td><td style = \"text-align: left;\">2514</td><td style = \"text-align: left;\">2564</td><td style = \"text-align: left;\">2693</td><td style = \"text-align: left;\">2479</td><td style = \"text-align: left;\">2391</td><td style = \"text-align: left;\">2974</td><td style = \"text-align: left;\">2529</td><td style = \"text-align: left;\">2585</td><td style = \"text-align: left;\">3558</td><td style = \"text-align: left;\">3367</td><td style = \"text-align: left;\">3464</td><td style = \"text-align: left;\">3773</td><td style = \"text-align: left;\">3141</td><td style = \"text-align: left;\">3447</td><td style = \"text-align: left;\">3037</td><td style = \"text-align: left;\">2933</td><td style = \"text-align: left;\">2834</td><td style = \"text-align: left;\">2970</td><td style = \"text-align: left;\">3174</td><td style = \"text-align: left;\">3367</td><td style = \"text-align: left;\">3782</td><td style = \"text-align: left;\">3601</td><td style = \"text-align: left;\">3897</td><td style = \"text-align: left;\">3900</td><td style = \"text-align: left;\">3800</td><td style = \"text-align: left;\">4186</td><td style = \"text-align: left;\">3343</td><td style = \"text-align: left;\">3665</td><td style = \"text-align: left;\">3382</td><td style = \"text-align: left;\">3442</td><td style = \"text-align: left;\">3097</td><td style = \"text-align: left;\">3192</td><td style = \"text-align: left;\">3839</td><td style = \"text-align: left;\">3924</td><td style = \"text-align: left;\">4230</td><td style = \"text-align: left;\">3774</td><td style = \"text-align: left;\">3813</td><td style = \"text-align: left;\">3746</td><td style = \"text-align: left;\">3300</td><td style = \"text-align: left;\">3302</td><td style = \"text-align: left;\">2700</td><td style = \"text-align: left;\">2766</td><td style = \"text-align: left;\">2558</td><td style = \"text-align: left;\">2951</td><td style = \"text-align: left;\">3144</td><td style = \"text-align: left;\">3307</td><td style = \"text-align: left;\">3341</td><td style = \"text-align: left;\">3681</td><td style = \"text-align: left;\">3147</td><td style = \"text-align: left;\">3448</td><td style = \"text-align: left;\">2987</td><td style = \"text-align: left;\">2950</td><td style = \"text-align: left;\">2456</td><td style = \"text-align: left;\">2928</td><td style = \"text-align: left;\">2474</td><td style = \"text-align: left;\">2727</td><td style = \"text-align: left;\">3356</td><td style = \"text-align: left;\">3353</td><td style = \"text-align: left;\">3587</td><td style = \"text-align: left;\">3931</td><td style = \"text-align: left;\">3673</td><td style = \"text-align: left;\">3391</td><td style = \"text-align: left;\">3146</td><td style = \"text-align: left;\">3257</td><td style = \"text-align: left;\">2509</td><td style = \"text-align: left;\">2886</td><td style = \"text-align: left;\">2543</td><td style = \"text-align: left;\">2750</td><td style = \"text-align: right;\">&ctdot;</td></tr><tr><td class = \"rowNumber\" style = \"font-weight: bold; text-align: right;\">8</td><td style = \"text-align: left;\">18959</td><td style = \"text-align: left;\">Las Vegas</td><td style = \"text-align: left;\">Nevada</td><td style = \"text-align: left;\">8</td><td style = \"text-align: left;\">1618</td><td style = \"text-align: left;\">1856</td><td style = \"text-align: left;\">1961</td><td style = \"text-align: left;\">2022</td><td style = \"text-align: left;\">2219</td><td style = \"text-align: left;\">2248</td><td style = \"text-align: left;\">2207</td><td style = \"text-align: left;\">2372</td><td style = \"text-align: left;\">1880</td><td style = \"text-align: left;\">2251</td><td style = \"text-align: left;\">2087</td><td style = \"text-align: left;\">2097</td><td style = \"text-align: left;\">2884</td><td style = \"text-align: left;\">2948</td><td style = \"text-align: left;\">2945</td><td style = \"text-align: left;\">3441</td><td style = \"text-align: left;\">3237</td><td style = \"text-align: left;\">2882</td><td style = \"text-align: left;\">3072</td><td style = \"text-align: left;\">3149</td><td style = \"text-align: left;\">2743</td><td style = \"text-align: left;\">3296</td><td style = \"text-align: left;\">2503</td><td style = \"text-align: left;\">2198</td><td style = \"text-align: left;\">2904</td><td style = \"text-align: left;\">2746</td><td style = \"text-align: left;\">2492</td><td style = \"text-align: left;\">3049</td><td style = \"text-align: left;\">2641</td><td style = \"text-align: left;\">2689</td><td style = \"text-align: left;\">2591</td><td style = \"text-align: left;\">2468</td><td style = \"text-align: left;\">2609</td><td style = \"text-align: left;\">2914</td><td style = \"text-align: left;\">2358</td><td style = \"text-align: left;\">2574</td><td style = \"text-align: left;\">3127</td><td style = \"text-align: left;\">2792</td><td style = \"text-align: left;\">2960</td><td style = \"text-align: left;\">3350</td><td style = \"text-align: left;\">3036</td><td style = \"text-align: left;\">3565</td><td style = \"text-align: left;\">2925</td><td style = \"text-align: left;\">2907</td><td style = \"text-align: left;\">2936</td><td style = \"text-align: left;\">3132</td><td style = \"text-align: left;\">2688</td><td style = \"text-align: left;\">2904</td><td style = \"text-align: left;\">3339</td><td style = \"text-align: left;\">2956</td><td style = \"text-align: left;\">3079</td><td style = \"text-align: left;\">4000</td><td style = \"text-align: left;\">2716</td><td style = \"text-align: left;\">3046</td><td style = \"text-align: left;\">2522</td><td style = \"text-align: left;\">2814</td><td style = \"text-align: left;\">2655</td><td style = \"text-align: left;\">2719</td><td style = \"text-align: left;\">2361</td><td style = \"text-align: left;\">2615</td><td style = \"text-align: left;\">2805</td><td style = \"text-align: left;\">3000</td><td style = \"text-align: left;\">3086</td><td style = \"text-align: left;\">2928</td><td style = \"text-align: left;\">2968</td><td style = \"text-align: left;\">2837</td><td style = \"text-align: left;\">2608</td><td style = \"text-align: left;\">2557</td><td style = \"text-align: left;\">2137</td><td style = \"text-align: left;\">2344</td><td style = \"text-align: left;\">2102</td><td style = \"text-align: left;\">2032</td><td style = \"text-align: left;\">2563</td><td style = \"text-align: left;\">2596</td><td style = \"text-align: left;\">2650</td><td style = \"text-align: left;\">3205</td><td style = \"text-align: left;\">2580</td><td style = \"text-align: left;\">2824</td><td style = \"text-align: left;\">2630</td><td style = \"text-align: left;\">2349</td><td style = \"text-align: left;\">2059</td><td style = \"text-align: left;\">2438</td><td style = \"text-align: left;\">1787</td><td style = \"text-align: left;\">2154</td><td style = \"text-align: left;\">2677</td><td style = \"text-align: left;\">2743</td><td style = \"text-align: left;\">2758</td><td style = \"text-align: left;\">3479</td><td style = \"text-align: left;\">3046</td><td style = \"text-align: left;\">2784</td><td style = \"text-align: left;\">2505</td><td style = \"text-align: left;\">2370</td><td style = \"text-align: left;\">2131</td><td style = \"text-align: left;\">2746</td><td style = \"text-align: left;\">2090</td><td style = \"text-align: left;\">2239</td><td style = \"text-align: right;\">&ctdot;</td></tr><tr><td class = \"rowNumber\" style = \"font-weight: bold; text-align: right;\">9</td><td style = \"text-align: left;\">54296</td><td style = \"text-align: left;\">San Diego</td><td style = \"text-align: left;\">California</td><td style = \"text-align: left;\">9</td><td style = \"text-align: left;\">772</td><td style = \"text-align: left;\">1057</td><td style = \"text-align: left;\">1195</td><td style = \"text-align: left;\">1115</td><td style = \"text-align: left;\">1272</td><td style = \"text-align: left;\">1171</td><td style = \"text-align: left;\">1193</td><td style = \"text-align: left;\">1319</td><td style = \"text-align: left;\">873</td><td style = \"text-align: left;\">1052</td><td style = \"text-align: left;\">886</td><td style = \"text-align: left;\">860</td><td style = \"text-align: left;\">1069</td><td style = \"text-align: left;\">1232</td><td style = \"text-align: left;\">1172</td><td style = \"text-align: left;\">1390</td><td style = \"text-align: left;\">1416</td><td style = \"text-align: left;\">1250</td><td style = \"text-align: left;\">1245</td><td style = \"text-align: left;\">1330</td><td style = \"text-align: left;\">1181</td><td style = \"text-align: left;\">1401</td><td style = \"text-align: left;\">905</td><td style = \"text-align: left;\">972</td><td style = \"text-align: left;\">1318</td><td style = \"text-align: left;\">1253</td><td style = \"text-align: left;\">1512</td><td style = \"text-align: left;\">1459</td><td style = \"text-align: left;\">1168</td><td style = \"text-align: left;\">1196</td><td style = \"text-align: left;\">1139</td><td style = \"text-align: left;\">988</td><td style = \"text-align: left;\">961</td><td style = \"text-align: left;\">1211</td><td style = \"text-align: left;\">876</td><td style = \"text-align: left;\">924</td><td style = \"text-align: left;\">1157</td><td style = \"text-align: left;\">1251</td><td style = \"text-align: left;\">1208</td><td style = \"text-align: left;\">1260</td><td style = \"text-align: left;\">1101</td><td style = \"text-align: left;\">1288</td><td style = \"text-align: left;\">1179</td><td style = \"text-align: left;\">1033</td><td style = \"text-align: left;\">956</td><td style = \"text-align: left;\">1220</td><td style = \"text-align: left;\">888</td><td style = \"text-align: left;\">1015</td><td style = \"text-align: left;\">1224</td><td style = \"text-align: left;\">1333</td><td style = \"text-align: left;\">1442</td><td style = \"text-align: left;\">1397</td><td style = \"text-align: left;\">1374</td><td style = \"text-align: left;\">1475</td><td style = \"text-align: left;\">1162</td><td style = \"text-align: left;\">1362</td><td style = \"text-align: left;\">1273</td><td style = \"text-align: left;\">1409</td><td style = \"text-align: left;\">1044</td><td style = \"text-align: left;\">1088</td><td style = \"text-align: left;\">1484</td><td style = \"text-align: left;\">1449</td><td style = \"text-align: left;\">1651</td><td style = \"text-align: left;\">1587</td><td style = \"text-align: left;\">1698</td><td style = \"text-align: left;\">1660</td><td style = \"text-align: left;\">1366</td><td style = \"text-align: left;\">1388</td><td style = \"text-align: left;\">1165</td><td style = \"text-align: left;\">1188</td><td style = \"text-align: left;\">1025</td><td style = \"text-align: left;\">1025</td><td style = \"text-align: left;\">1248</td><td style = \"text-align: left;\">1550</td><td style = \"text-align: left;\">1461</td><td style = \"text-align: left;\">1447</td><td style = \"text-align: left;\">1476</td><td style = \"text-align: left;\">1352</td><td style = \"text-align: left;\">1340</td><td style = \"text-align: left;\">1316</td><td style = \"text-align: left;\">1086</td><td style = \"text-align: left;\">1272</td><td style = \"text-align: left;\">912</td><td style = \"text-align: left;\">1022</td><td style = \"text-align: left;\">1371</td><td style = \"text-align: left;\">1644</td><td style = \"text-align: left;\">1540</td><td style = \"text-align: left;\">1842</td><td style = \"text-align: left;\">1694</td><td style = \"text-align: left;\">1501</td><td style = \"text-align: left;\">1459</td><td style = \"text-align: left;\">1308</td><td style = \"text-align: left;\">1071</td><td style = \"text-align: left;\">1445</td><td style = \"text-align: left;\">952</td><td style = \"text-align: left;\">1057</td><td style = \"text-align: right;\">&ctdot;</td></tr><tr><td class = \"rowNumber\" style = \"font-weight: bold; text-align: right;\">10</td><td style = \"text-align: left;\">38128</td><td style = \"text-align: left;\">Dallas</td><td style = \"text-align: left;\">Texas</td><td style = \"text-align: left;\">10</td><td style = \"text-align: left;\">1158</td><td style = \"text-align: left;\">1232</td><td style = \"text-align: left;\">1240</td><td style = \"text-align: left;\">1236</td><td style = \"text-align: left;\">1392</td><td style = \"text-align: left;\">1138</td><td style = \"text-align: left;\">1042</td><td style = \"text-align: left;\">1089</td><td style = \"text-align: left;\">772</td><td style = \"text-align: left;\">980</td><td style = \"text-align: left;\">656</td><td style = \"text-align: left;\">767</td><td style = \"text-align: left;\">922</td><td style = \"text-align: left;\">992</td><td style = \"text-align: left;\">1009</td><td style = \"text-align: left;\">1119</td><td style = \"text-align: left;\">1131</td><td style = \"text-align: left;\">1039</td><td style = \"text-align: left;\">1028</td><td style = \"text-align: left;\">1008</td><td style = \"text-align: left;\">954</td><td style = \"text-align: left;\">1003</td><td style = \"text-align: left;\">671</td><td style = \"text-align: left;\">726</td><td style = \"text-align: left;\">1065</td><td style = \"text-align: left;\">1098</td><td style = \"text-align: left;\">1160</td><td style = \"text-align: left;\">1220</td><td style = \"text-align: left;\">917</td><td style = \"text-align: left;\">878</td><td style = \"text-align: left;\">796</td><td style = \"text-align: left;\">784</td><td style = \"text-align: left;\">797</td><td style = \"text-align: left;\">930</td><td style = \"text-align: left;\">669</td><td style = \"text-align: left;\">669</td><td style = \"text-align: left;\">999</td><td style = \"text-align: left;\">955</td><td style = \"text-align: left;\">1057</td><td style = \"text-align: left;\">1109</td><td style = \"text-align: left;\">971</td><td style = \"text-align: left;\">1054</td><td style = \"text-align: left;\">838</td><td style = \"text-align: left;\">837</td><td style = \"text-align: left;\">813</td><td style = \"text-align: left;\">874</td><td style = \"text-align: left;\">730</td><td style = \"text-align: left;\">812</td><td style = \"text-align: left;\">1007</td><td style = \"text-align: left;\">887</td><td style = \"text-align: left;\">1276</td><td style = \"text-align: left;\">1217</td><td style = \"text-align: left;\">1140</td><td style = \"text-align: left;\">1132</td><td style = \"text-align: left;\">899</td><td style = \"text-align: left;\">1071</td><td style = \"text-align: left;\">982</td><td style = \"text-align: left;\">1050</td><td style = \"text-align: left;\">781</td><td style = \"text-align: left;\">796</td><td style = \"text-align: left;\">1180</td><td style = \"text-align: left;\">1417</td><td style = \"text-align: left;\">1523</td><td style = \"text-align: left;\">1374</td><td style = \"text-align: left;\">1489</td><td style = \"text-align: left;\">1386</td><td style = \"text-align: left;\">1151</td><td style = \"text-align: left;\">1262</td><td style = \"text-align: left;\">950</td><td style = \"text-align: left;\">1071</td><td style = \"text-align: left;\">811</td><td style = \"text-align: left;\">909</td><td style = \"text-align: left;\">1220</td><td style = \"text-align: left;\">1309</td><td style = \"text-align: left;\">1420</td><td style = \"text-align: left;\">1471</td><td style = \"text-align: left;\">1443</td><td style = \"text-align: left;\">1230</td><td style = \"text-align: left;\">1234</td><td style = \"text-align: left;\">1286</td><td style = \"text-align: left;\">985</td><td style = \"text-align: left;\">1316</td><td style = \"text-align: left;\">908</td><td style = \"text-align: left;\">930</td><td style = \"text-align: left;\">1347</td><td style = \"text-align: left;\">1398</td><td style = \"text-align: left;\">1455</td><td style = \"text-align: left;\">1565</td><td style = \"text-align: left;\">1553</td><td style = \"text-align: left;\">1381</td><td style = \"text-align: left;\">1250</td><td style = \"text-align: left;\">1244</td><td style = \"text-align: left;\">1014</td><td style = \"text-align: left;\">1424</td><td style = \"text-align: left;\">964</td><td style = \"text-align: left;\">1104</td><td style = \"text-align: right;\">&ctdot;</td></tr><tr><td class = \"rowNumber\" style = \"font-weight: bold; text-align: right;\">11</td><td style = \"text-align: left;\">10221</td><td style = \"text-align: left;\">Austin</td><td style = \"text-align: left;\">Texas</td><td style = \"text-align: left;\">11</td><td style = \"text-align: left;\">997</td><td style = \"text-align: left;\">1140</td><td style = \"text-align: left;\">1168</td><td style = \"text-align: left;\">1214</td><td style = \"text-align: left;\">1192</td><td style = \"text-align: left;\">1059</td><td style = \"text-align: left;\">816</td><td style = \"text-align: left;\">810</td><td style = \"text-align: left;\">518</td><td style = \"text-align: left;\">684</td><td style = \"text-align: left;\">439</td><td style = \"text-align: left;\">560</td><td style = \"text-align: left;\">736</td><td style = \"text-align: left;\">838</td><td style = \"text-align: left;\">978</td><td style = \"text-align: left;\">1069</td><td style = \"text-align: left;\">1203</td><td style = \"text-align: left;\">997</td><td style = \"text-align: left;\">969</td><td style = \"text-align: left;\">926</td><td style = \"text-align: left;\">893</td><td style = \"text-align: left;\">800</td><td style = \"text-align: left;\">482</td><td style = \"text-align: left;\">580</td><td style = \"text-align: left;\">988</td><td style = \"text-align: left;\">1135</td><td style = \"text-align: left;\">1227</td><td style = \"text-align: left;\">1238</td><td style = \"text-align: left;\">840</td><td style = \"text-align: left;\">875</td><td style = \"text-align: left;\">727</td><td style = \"text-align: left;\">644</td><td style = \"text-align: left;\">667</td><td style = \"text-align: left;\">864</td><td style = \"text-align: left;\">598</td><td style = \"text-align: left;\">587</td><td style = \"text-align: left;\">876</td><td style = \"text-align: left;\">917</td><td style = \"text-align: left;\">1122</td><td style = \"text-align: left;\">1149</td><td style = \"text-align: left;\">1040</td><td style = \"text-align: left;\">1164</td><td style = \"text-align: left;\">868</td><td style = \"text-align: left;\">774</td><td style = \"text-align: left;\">729</td><td style = \"text-align: left;\">947</td><td style = \"text-align: left;\">578</td><td style = \"text-align: left;\">720</td><td style = \"text-align: left;\">995</td><td style = \"text-align: left;\">1136</td><td style = \"text-align: left;\">1374</td><td style = \"text-align: left;\">1512</td><td style = \"text-align: left;\">1326</td><td style = \"text-align: left;\">1354</td><td style = \"text-align: left;\">975</td><td style = \"text-align: left;\">1104</td><td style = \"text-align: left;\">793</td><td style = \"text-align: left;\">1047</td><td style = \"text-align: left;\">810</td><td style = \"text-align: left;\">821</td><td style = \"text-align: left;\">1234</td><td style = \"text-align: left;\">1454</td><td style = \"text-align: left;\">1569</td><td style = \"text-align: left;\">1497</td><td style = \"text-align: left;\">1575</td><td style = \"text-align: left;\">1561</td><td style = \"text-align: left;\">1174</td><td style = \"text-align: left;\">1190</td><td style = \"text-align: left;\">902</td><td style = \"text-align: left;\">1092</td><td style = \"text-align: left;\">741</td><td style = \"text-align: left;\">885</td><td style = \"text-align: left;\">1100</td><td style = \"text-align: left;\">1243</td><td style = \"text-align: left;\">1427</td><td style = \"text-align: left;\">1435</td><td style = \"text-align: left;\">1546</td><td style = \"text-align: left;\">1207</td><td style = \"text-align: left;\">1219</td><td style = \"text-align: left;\">1200</td><td style = \"text-align: left;\">910</td><td style = \"text-align: left;\">1059</td><td style = \"text-align: left;\">756</td><td style = \"text-align: left;\">847</td><td style = \"text-align: left;\">1179</td><td style = \"text-align: left;\">1179</td><td style = \"text-align: left;\">1424</td><td style = \"text-align: left;\">1511</td><td style = \"text-align: left;\">1573</td><td style = \"text-align: left;\">1189</td><td style = \"text-align: left;\">1230</td><td style = \"text-align: left;\">1148</td><td style = \"text-align: left;\">877</td><td style = \"text-align: left;\">1202</td><td style = \"text-align: left;\">759</td><td style = \"text-align: left;\">885</td><td style = \"text-align: right;\">&ctdot;</td></tr><tr><td class = \"rowNumber\" style = \"font-weight: bold; text-align: right;\">12</td><td style = \"text-align: left;\">33839</td><td style = \"text-align: left;\">San Jose</td><td style = \"text-align: left;\">California</td><td style = \"text-align: left;\">12</td><td style = \"text-align: left;\">455</td><td style = \"text-align: left;\">555</td><td style = \"text-align: left;\">583</td><td style = \"text-align: left;\">679</td><td style = \"text-align: left;\">703</td><td style = \"text-align: left;\">712</td><td style = \"text-align: left;\">709</td><td style = \"text-align: left;\">737</td><td style = \"text-align: left;\">544</td><td style = \"text-align: left;\">671</td><td style = \"text-align: left;\">557</td><td style = \"text-align: left;\">544</td><td style = \"text-align: left;\">702</td><td style = \"text-align: left;\">803</td><td style = \"text-align: left;\">805</td><td style = \"text-align: left;\">993</td><td style = \"text-align: left;\">1024</td><td style = \"text-align: left;\">840</td><td style = \"text-align: left;\">884</td><td style = \"text-align: left;\">885</td><td style = \"text-align: left;\">761</td><td style = \"text-align: left;\">881</td><td style = \"text-align: left;\">609</td><td style = \"text-align: left;\">562</td><td style = \"text-align: left;\">764</td><td style = \"text-align: left;\">834</td><td style = \"text-align: left;\">1017</td><td style = \"text-align: left;\">878</td><td style = \"text-align: left;\">736</td><td style = \"text-align: left;\">720</td><td style = \"text-align: left;\">655</td><td style = \"text-align: left;\">643</td><td style = \"text-align: left;\">644</td><td style = \"text-align: left;\">787</td><td style = \"text-align: left;\">559</td><td style = \"text-align: left;\">588</td><td style = \"text-align: left;\">766</td><td style = \"text-align: left;\">835</td><td style = \"text-align: left;\">814</td><td style = \"text-align: left;\">868</td><td style = \"text-align: left;\">719</td><td style = \"text-align: left;\">767</td><td style = \"text-align: left;\">735</td><td style = \"text-align: left;\">691</td><td style = \"text-align: left;\">695</td><td style = \"text-align: left;\">732</td><td style = \"text-align: left;\">563</td><td style = \"text-align: left;\">597</td><td style = \"text-align: left;\">803</td><td style = \"text-align: left;\">824</td><td style = \"text-align: left;\">994</td><td style = \"text-align: left;\">898</td><td style = \"text-align: left;\">777</td><td style = \"text-align: left;\">817</td><td style = \"text-align: left;\">709</td><td style = \"text-align: left;\">784</td><td style = \"text-align: left;\">737</td><td style = \"text-align: left;\">807</td><td style = \"text-align: left;\">518</td><td style = \"text-align: left;\">531</td><td style = \"text-align: left;\">759</td><td style = \"text-align: left;\">836</td><td style = \"text-align: left;\">901</td><td style = \"text-align: left;\">881</td><td style = \"text-align: left;\">898</td><td style = \"text-align: left;\">909</td><td style = \"text-align: left;\">831</td><td style = \"text-align: left;\">818</td><td style = \"text-align: left;\">641</td><td style = \"text-align: left;\">739</td><td style = \"text-align: left;\">499</td><td style = \"text-align: left;\">521</td><td style = \"text-align: left;\">684</td><td style = \"text-align: left;\">859</td><td style = \"text-align: left;\">923</td><td style = \"text-align: left;\">866</td><td style = \"text-align: left;\">890</td><td style = \"text-align: left;\">794</td><td style = \"text-align: left;\">754</td><td style = \"text-align: left;\">792</td><td style = \"text-align: left;\">636</td><td style = \"text-align: left;\">661</td><td style = \"text-align: left;\">464</td><td style = \"text-align: left;\">473</td><td style = \"text-align: left;\">699</td><td style = \"text-align: left;\">913</td><td style = \"text-align: left;\">878</td><td style = \"text-align: left;\">929</td><td style = \"text-align: left;\">931</td><td style = \"text-align: left;\">893</td><td style = \"text-align: left;\">793</td><td style = \"text-align: left;\">734</td><td style = \"text-align: left;\">587</td><td style = \"text-align: left;\">765</td><td style = \"text-align: left;\">519</td><td style = \"text-align: left;\">432</td><td style = \"text-align: right;\">&ctdot;</td></tr><tr><td class = \"rowNumber\" style = \"font-weight: bold; text-align: right;\">13</td><td style = \"text-align: left;\">25290</td><td style = \"text-align: left;\">Jacksonville</td><td style = \"text-align: left;\">Florida</td><td style = \"text-align: left;\">13</td><td style = \"text-align: left;\">613</td><td style = \"text-align: left;\">730</td><td style = \"text-align: left;\">738</td><td style = \"text-align: left;\">827</td><td style = \"text-align: left;\">832</td><td style = \"text-align: left;\">640</td><td style = \"text-align: left;\">634</td><td style = \"text-align: left;\">694</td><td style = \"text-align: left;\">515</td><td style = \"text-align: left;\">672</td><td style = \"text-align: left;\">589</td><td style = \"text-align: left;\">508</td><td style = \"text-align: left;\">643</td><td style = \"text-align: left;\">675</td><td style = \"text-align: left;\">675</td><td style = \"text-align: left;\">811</td><td style = \"text-align: left;\">900</td><td style = \"text-align: left;\">726</td><td style = \"text-align: left;\">902</td><td style = \"text-align: left;\">889</td><td style = \"text-align: left;\">728</td><td style = \"text-align: left;\">968</td><td style = \"text-align: left;\">701</td><td style = \"text-align: left;\">710</td><td style = \"text-align: left;\">861</td><td style = \"text-align: left;\">993</td><td style = \"text-align: left;\">857</td><td style = \"text-align: left;\">1063</td><td style = \"text-align: left;\">938</td><td style = \"text-align: left;\">844</td><td style = \"text-align: left;\">873</td><td style = \"text-align: left;\">713</td><td style = \"text-align: left;\">609</td><td style = \"text-align: left;\">703</td><td style = \"text-align: left;\">826</td><td style = \"text-align: left;\">757</td><td style = \"text-align: left;\">808</td><td style = \"text-align: left;\">850</td><td style = \"text-align: left;\">847</td><td style = \"text-align: left;\">959</td><td style = \"text-align: left;\">747</td><td style = \"text-align: left;\">928</td><td style = \"text-align: left;\">792</td><td style = \"text-align: left;\">757</td><td style = \"text-align: left;\">734</td><td style = \"text-align: left;\">868</td><td style = \"text-align: left;\">905</td><td style = \"text-align: left;\">995</td><td style = \"text-align: left;\">1093</td><td style = \"text-align: left;\">1098</td><td style = \"text-align: left;\">1054</td><td style = \"text-align: left;\">1138</td><td style = \"text-align: left;\">1221</td><td style = \"text-align: left;\">1196</td><td style = \"text-align: left;\">1059</td><td style = \"text-align: left;\">1220</td><td style = \"text-align: left;\">1156</td><td style = \"text-align: left;\">1245</td><td style = \"text-align: left;\">1136</td><td style = \"text-align: left;\">1350</td><td style = \"text-align: left;\">1519</td><td style = \"text-align: left;\">1581</td><td style = \"text-align: left;\">1849</td><td style = \"text-align: left;\">1769</td><td style = \"text-align: left;\">1775</td><td style = \"text-align: left;\">1609</td><td style = \"text-align: left;\">1294</td><td style = \"text-align: left;\">1534</td><td style = \"text-align: left;\">1362</td><td style = \"text-align: left;\">1582</td><td style = \"text-align: left;\">1541</td><td style = \"text-align: left;\">1605</td><td style = \"text-align: left;\">1668</td><td style = \"text-align: left;\">1722</td><td style = \"text-align: left;\">2009</td><td style = \"text-align: left;\">1961</td><td style = \"text-align: left;\">1883</td><td style = \"text-align: left;\">1795</td><td style = \"text-align: left;\">1842</td><td style = \"text-align: left;\">1881</td><td style = \"text-align: left;\">1514</td><td style = \"text-align: left;\">1863</td><td style = \"text-align: left;\">1528</td><td style = \"text-align: left;\">1795</td><td style = \"text-align: left;\">2311</td><td style = \"text-align: left;\">2119</td><td style = \"text-align: left;\">1926</td><td style = \"text-align: left;\">2163</td><td style = \"text-align: left;\">2167</td><td style = \"text-align: left;\">1959</td><td style = \"text-align: left;\">1960</td><td style = \"text-align: left;\">1851</td><td style = \"text-align: left;\">1671</td><td style = \"text-align: left;\">1767</td><td style = \"text-align: left;\">1802</td><td style = \"text-align: left;\">1747</td><td style = \"text-align: right;\">&ctdot;</td></tr><tr><td style = \"text-align: right;\">&vellip;</td><td style = \"text-align: right;\">&vellip;</td><td style = \"text-align: right;\">&vellip;</td><td style = \"text-align: right;\">&vellip;</td><td style = \"text-align: right;\">&vellip;</td><td style = \"text-align: right;\">&vellip;</td><td style = \"text-align: right;\">&vellip;</td><td style = \"text-align: right;\">&vellip;</td><td style = \"text-align: right;\">&vellip;</td><td style = \"text-align: right;\">&vellip;</td><td style = \"text-align: right;\">&vellip;</td><td style = \"text-align: right;\">&vellip;</td><td style = \"text-align: right;\">&vellip;</td><td style = \"text-align: right;\">&vellip;</td><td style = \"text-align: right;\">&vellip;</td><td style = \"text-align: right;\">&vellip;</td><td style = \"text-align: right;\">&vellip;</td><td style = \"text-align: right;\">&vellip;</td><td style = \"text-align: right;\">&vellip;</td><td style = \"text-align: right;\">&vellip;</td><td style = \"text-align: right;\">&vellip;</td><td style = \"text-align: right;\">&vellip;</td><td style = \"text-align: right;\">&vellip;</td><td style = \"text-align: right;\">&vellip;</td><td style = \"text-align: right;\">&vellip;</td><td style = \"text-align: right;\">&vellip;</td><td style = \"text-align: right;\">&vellip;</td><td style = \"text-align: right;\">&vellip;</td><td style = \"text-align: right;\">&vellip;</td><td style = \"text-align: right;\">&vellip;</td><td style = \"text-align: right;\">&vellip;</td><td style = \"text-align: right;\">&vellip;</td><td style = \"text-align: right;\">&vellip;</td><td style = \"text-align: right;\">&vellip;</td><td style = \"text-align: right;\">&vellip;</td><td style = \"text-align: right;\">&vellip;</td><td style = \"text-align: right;\">&vellip;</td><td style = \"text-align: right;\">&vellip;</td><td style = \"text-align: right;\">&vellip;</td><td style = \"text-align: right;\">&vellip;</td><td style = \"text-align: right;\">&vellip;</td><td style = \"text-align: right;\">&vellip;</td><td style = \"text-align: right;\">&vellip;</td><td style = \"text-align: right;\">&vellip;</td><td style = \"text-align: right;\">&vellip;</td><td style = \"text-align: right;\">&vellip;</td><td style = \"text-align: right;\">&vellip;</td><td style = \"text-align: right;\">&vellip;</td><td style = \"text-align: right;\">&vellip;</td><td style = \"text-align: right;\">&vellip;</td><td style = \"text-align: right;\">&vellip;</td><td style = \"text-align: right;\">&vellip;</td><td style = \"text-align: right;\">&vellip;</td><td style = \"text-align: right;\">&vellip;</td><td style = \"text-align: right;\">&vellip;</td><td style = \"text-align: right;\">&vellip;</td><td style = \"text-align: right;\">&vellip;</td><td style = \"text-align: right;\">&vellip;</td><td style = \"text-align: right;\">&vellip;</td><td style = \"text-align: right;\">&vellip;</td><td style = \"text-align: right;\">&vellip;</td><td style = \"text-align: right;\">&vellip;</td><td style = \"text-align: right;\">&vellip;</td><td style = \"text-align: right;\">&vellip;</td><td style = \"text-align: right;\">&vellip;</td><td style = \"text-align: right;\">&vellip;</td><td style = \"text-align: right;\">&vellip;</td><td style = \"text-align: right;\">&vellip;</td><td style = \"text-align: right;\">&vellip;</td><td style = \"text-align: right;\">&vellip;</td><td style = \"text-align: right;\">&vellip;</td><td style = \"text-align: right;\">&vellip;</td><td style = \"text-align: right;\">&vellip;</td><td style = \"text-align: right;\">&vellip;</td><td style = \"text-align: right;\">&vellip;</td><td style = \"text-align: right;\">&vellip;</td><td style = \"text-align: right;\">&vellip;</td><td style = \"text-align: right;\">&vellip;</td><td style = \"text-align: right;\">&vellip;</td><td style = \"text-align: right;\">&vellip;</td><td style = \"text-align: right;\">&vellip;</td><td style = \"text-align: right;\">&vellip;</td><td style = \"text-align: right;\">&vellip;</td><td style = \"text-align: right;\">&vellip;</td><td style = \"text-align: right;\">&vellip;</td><td style = \"text-align: right;\">&vellip;</td><td style = \"text-align: right;\">&vellip;</td><td style = \"text-align: right;\">&vellip;</td><td style = \"text-align: right;\">&vellip;</td><td style = \"text-align: right;\">&vellip;</td><td style = \"text-align: right;\">&vellip;</td><td style = \"text-align: right;\">&vellip;</td><td style = \"text-align: right;\">&vellip;</td><td style = \"text-align: right;\">&vellip;</td><td style = \"text-align: right;\">&vellip;</td><td style = \"text-align: right;\">&vellip;</td><td style = \"text-align: right;\">&vellip;</td><td style = \"text-align: right;\">&vellip;</td><td style = \"text-align: right;\">&vellip;</td><td style = \"text-align: right;\">&vellip;</td><td style = \"text-align: right;\">&vellip;</td><td style = \"text-align: right;\">&dtdot;</td></tr><tr><td class = \"rowNumber\" style = \"font-weight: bold; text-align: right;\">28748</td><td style = \"text-align: left;\">396704</td><td style = \"text-align: left;\">Bowers</td><td style = \"text-align: left;\">Delaware</td><td style = \"text-align: left;\">28748</td><td style = \"text-align: left;\">0</td><td style = \"text-align: left;\">0</td><td style = \"text-align: left;\">1</td><td style = \"text-align: left;\">0</td><td style = \"text-align: left;\">1</td><td style = \"text-align: left;\">0</td><td style = \"text-align: left;\">0</td><td style = \"text-align: left;\">1</td><td style = \"text-align: left;\">0</td><td style = \"text-align: left;\">0</td><td style = \"text-align: left;\">0</td><td style = \"text-align: left;\">0</td><td style = \"text-align: left;\">0</td><td style = \"text-align: left;\">1</td><td style = \"text-align: left;\">0</td><td style = \"text-align: left;\">0</td><td style = \"text-align: left;\">2</td><td style = \"text-align: left;\">1</td><td style = \"text-align: left;\">0</td><td style = \"text-align: left;\">4</td><td style = \"text-align: left;\">0</td><td style = \"text-align: left;\">0</td><td style = \"text-align: left;\">2</td><td style = \"text-align: left;\">1</td><td style = \"text-align: left;\">2</td><td style = \"text-align: left;\">1</td><td style = \"text-align: left;\">0</td><td style = \"text-align: left;\">0</td><td style = \"text-align: left;\">2</td><td style = \"text-align: left;\">0</td><td style = \"text-align: left;\">2</td><td style = \"text-align: left;\">0</td><td style = \"text-align: left;\">2</td><td style = \"text-align: left;\">0</td><td style = \"text-align: left;\">1</td><td style = \"text-align: left;\">1</td><td style = \"text-align: left;\">1</td><td style = \"text-align: left;\">1</td><td style = \"text-align: left;\">1</td><td style = \"text-align: left;\">1</td><td style = \"text-align: left;\">0</td><td style = \"text-align: left;\">1</td><td style = \"text-align: left;\">0</td><td style = \"text-align: left;\">2</td><td style = \"text-align: left;\">0</td><td style = \"text-align: left;\">0</td><td style = \"text-align: left;\">0</td><td style = \"text-align: left;\">0</td><td style = \"text-align: left;\">1</td><td style = \"text-align: left;\">0</td><td style = \"text-align: left;\">0</td><td style = \"text-align: left;\">0</td><td style = \"text-align: left;\">0</td><td style = \"text-align: left;\">1</td><td style = \"text-align: left;\">1</td><td style = \"text-align: left;\">2</td><td style = \"text-align: left;\">0</td><td style = \"text-align: left;\">0</td><td style = \"text-align: left;\">1</td><td style = \"text-align: left;\">1</td><td style = \"text-align: left;\">0</td><td style = \"text-align: left;\">0</td><td style = \"text-align: left;\">1</td><td style = \"text-align: left;\">1</td><td style = \"text-align: left;\">0</td><td style = \"text-align: left;\">1</td><td style = \"text-align: left;\">1</td><td style = \"text-align: left;\">0</td><td style = \"text-align: left;\">1</td><td style = \"text-align: left;\">0</td><td style = \"text-align: left;\">0</td><td style = \"text-align: left;\">0</td><td style = \"text-align: left;\">0</td><td style = \"text-align: left;\">2</td><td style = \"text-align: left;\">1</td><td style = \"text-align: left;\">0</td><td style = \"text-align: left;\">0</td><td style = \"text-align: left;\">2</td><td style = \"text-align: left;\">4</td><td style = \"text-align: left;\">2</td><td style = \"text-align: left;\">1</td><td style = \"text-align: left;\">0</td><td style = \"text-align: left;\">0</td><td style = \"text-align: left;\">1</td><td style = \"text-align: left;\">1</td><td style = \"text-align: left;\">0</td><td style = \"text-align: left;\">1</td><td style = \"text-align: left;\">0</td><td style = \"text-align: left;\">1</td><td style = \"text-align: left;\">1</td><td style = \"text-align: left;\">4</td><td style = \"text-align: left;\">1</td><td style = \"text-align: left;\">0</td><td style = \"text-align: left;\">0</td><td style = \"text-align: left;\">0</td><td style = \"text-align: left;\">1</td><td style = \"text-align: right;\">&ctdot;</td></tr><tr><td class = \"rowNumber\" style = \"font-weight: bold; text-align: right;\">28749</td><td style = \"text-align: left;\">396947</td><td style = \"text-align: left;\">Beaver Cove Plantation</td><td style = \"text-align: left;\">Maine</td><td style = \"text-align: left;\">28749</td><td style = \"text-align: left;\">0</td><td style = \"text-align: left;\">0</td><td style = \"text-align: left;\">0</td><td style = \"text-align: left;\">0</td><td style = \"text-align: left;\">0</td><td style = \"text-align: left;\">0</td><td style = \"text-align: left;\">0</td><td style = \"text-align: left;\">0</td><td style = \"text-align: left;\">0</td><td style = \"text-align: left;\">0</td><td style = \"text-align: left;\">0</td><td style = \"text-align: left;\">0</td><td style = \"text-align: left;\">0</td><td style = \"text-align: left;\">0</td><td style = \"text-align: left;\">0</td><td style = \"text-align: left;\">0</td><td style = \"text-align: left;\">0</td><td style = \"text-align: left;\">0</td><td style = \"text-align: left;\">0</td><td style = \"text-align: left;\">0</td><td style = \"text-align: left;\">0</td><td style = \"text-align: left;\">1</td><td style = \"text-align: left;\">0</td><td style = \"text-align: left;\">0</td><td style = \"text-align: left;\">1</td><td style = \"text-align: left;\">0</td><td style = \"text-align: left;\">0</td><td style = \"text-align: left;\">0</td><td style = \"text-align: left;\">0</td><td style = \"text-align: left;\">0</td><td style = \"text-align: left;\">0</td><td style = \"text-align: left;\">1</td><td style = \"text-align: left;\">1</td><td style = \"text-align: left;\">0</td><td style = \"text-align: left;\">0</td><td style = \"text-align: left;\">0</td><td style = \"text-align: left;\">0</td><td style = \"text-align: left;\">0</td><td style = \"text-align: left;\">0</td><td style = \"text-align: left;\">0</td><td style = \"text-align: left;\">1</td><td style = \"text-align: left;\">0</td><td style = \"text-align: left;\">0</td><td style = \"text-align: left;\">0</td><td style = \"text-align: left;\">0</td><td style = \"text-align: left;\">0</td><td style = \"text-align: left;\">0</td><td style = \"text-align: left;\">0</td><td style = \"text-align: left;\">0</td><td style = \"text-align: left;\">0</td><td style = \"text-align: left;\">0</td><td style = \"text-align: left;\">0</td><td style = \"text-align: left;\">0</td><td style = \"text-align: left;\">0</td><td style = \"text-align: left;\">0</td><td style = \"text-align: left;\">1</td><td style = \"text-align: left;\">0</td><td style = \"text-align: left;\">0</td><td style = \"text-align: left;\">0</td><td style = \"text-align: left;\">0</td><td style = \"text-align: left;\">0</td><td style = \"text-align: left;\">0</td><td style = \"text-align: left;\">0</td><td style = \"text-align: left;\">0</td><td style = \"text-align: left;\">0</td><td style = \"text-align: left;\">0</td><td style = \"text-align: left;\">0</td><td style = \"text-align: left;\">0</td><td style = \"text-align: left;\">0</td><td style = \"text-align: left;\">0</td><td style = \"text-align: left;\">0</td><td style = \"text-align: left;\">1</td><td style = \"text-align: left;\">1</td><td style = \"text-align: left;\">0</td><td style = \"text-align: left;\">0</td><td style = \"text-align: left;\">0</td><td style = \"text-align: left;\">1</td><td style = \"text-align: left;\">0</td><td style = \"text-align: left;\">0</td><td style = \"text-align: left;\">0</td><td style = \"text-align: left;\">1</td><td style = \"text-align: left;\">0</td><td style = \"text-align: left;\">0</td><td style = \"text-align: left;\">0</td><td style = \"text-align: left;\">0</td><td style = \"text-align: left;\">0</td><td style = \"text-align: left;\">1</td><td style = \"text-align: left;\">0</td><td style = \"text-align: left;\">0</td><td style = \"text-align: left;\">0</td><td style = \"text-align: left;\">1</td><td style = \"text-align: left;\">0</td><td style = \"text-align: left;\">1</td><td style = \"text-align: left;\">0</td><td style = \"text-align: left;\">0</td><td style = \"text-align: left;\">0</td><td style = \"text-align: right;\">&ctdot;</td></tr><tr><td class = \"rowNumber\" style = \"font-weight: bold; text-align: right;\">28750</td><td style = \"text-align: left;\">396952</td><td style = \"text-align: left;\">Barnard Plantation</td><td style = \"text-align: left;\">Maine</td><td style = \"text-align: left;\">28750</td><td style = \"text-align: left;\">0</td><td style = \"text-align: left;\">0</td><td style = \"text-align: left;\">0</td><td style = \"text-align: left;\">0</td><td style = \"text-align: left;\">0</td><td style = \"text-align: left;\">0</td><td style = \"text-align: left;\">0</td><td style = \"text-align: left;\">0</td><td style = \"text-align: left;\">0</td><td style = \"text-align: left;\">0</td><td style = \"text-align: left;\">0</td><td style = \"text-align: left;\">0</td><td style = \"text-align: left;\">0</td><td style = \"text-align: left;\">0</td><td style = \"text-align: left;\">0</td><td style = \"text-align: left;\">0</td><td style = \"text-align: left;\">0</td><td style = \"text-align: left;\">0</td><td style = \"text-align: left;\">0</td><td style = \"text-align: left;\">0</td><td style = \"text-align: left;\">0</td><td style = \"text-align: left;\">0</td><td style = \"text-align: left;\">0</td><td style = \"text-align: left;\">0</td><td style = \"text-align: left;\">0</td><td style = \"text-align: left;\">0</td><td style = \"text-align: left;\">0</td><td style = \"text-align: left;\">0</td><td style = \"text-align: left;\">0</td><td style = \"text-align: left;\">0</td><td style = \"text-align: left;\">0</td><td style = \"text-align: left;\">0</td><td style = \"text-align: left;\">0</td><td style = \"text-align: left;\">0</td><td style = \"text-align: left;\">0</td><td style = \"text-align: left;\">0</td><td style = \"text-align: left;\">0</td><td style = \"text-align: left;\">0</td><td style = \"text-align: left;\">0</td><td style = \"text-align: left;\">0</td><td style = \"text-align: left;\">1</td><td style = \"text-align: left;\">0</td><td style = \"text-align: left;\">0</td><td style = \"text-align: left;\">0</td><td style = \"text-align: left;\">0</td><td style = \"text-align: left;\">0</td><td style = \"text-align: left;\">0</td><td style = \"text-align: left;\">0</td><td style = \"text-align: left;\">0</td><td style = \"text-align: left;\">0</td><td style = \"text-align: left;\">0</td><td style = \"text-align: left;\">0</td><td style = \"text-align: left;\">0</td><td style = \"text-align: left;\">0</td><td style = \"text-align: left;\">0</td><td style = \"text-align: left;\">0</td><td style = \"text-align: left;\">0</td><td style = \"text-align: left;\">0</td><td style = \"text-align: left;\">0</td><td style = \"text-align: left;\">1</td><td style = \"text-align: left;\">0</td><td style = \"text-align: left;\">1</td><td style = \"text-align: left;\">0</td><td style = \"text-align: left;\">0</td><td style = \"text-align: left;\">0</td><td style = \"text-align: left;\">0</td><td style = \"text-align: left;\">0</td><td style = \"text-align: left;\">0</td><td style = \"text-align: left;\">0</td><td style = \"text-align: left;\">0</td><td style = \"text-align: left;\">0</td><td style = \"text-align: left;\">0</td><td style = \"text-align: left;\">0</td><td style = \"text-align: left;\">0</td><td style = \"text-align: left;\">1</td><td style = \"text-align: left;\">0</td><td style = \"text-align: left;\">0</td><td style = \"text-align: left;\">0</td><td style = \"text-align: left;\">0</td><td style = \"text-align: left;\">0</td><td style = \"text-align: left;\">0</td><td style = \"text-align: left;\">0</td><td style = \"text-align: left;\">0</td><td style = \"text-align: left;\">0</td><td style = \"text-align: left;\">0</td><td style = \"text-align: left;\">0</td><td style = \"text-align: left;\">0</td><td style = \"text-align: left;\">0</td><td style = \"text-align: left;\">0</td><td style = \"text-align: left;\">1</td><td style = \"text-align: left;\">0</td><td style = \"text-align: left;\">0</td><td style = \"text-align: left;\">0</td><td style = \"text-align: left;\">0</td><td style = \"text-align: left;\">0</td><td style = \"text-align: left;\">0</td><td style = \"text-align: right;\">&ctdot;</td></tr><tr><td class = \"rowNumber\" style = \"font-weight: bold; text-align: right;\">28751</td><td style = \"text-align: left;\">397236</td><td style = \"text-align: left;\">Windsor Place</td><td style = \"text-align: left;\">Missouri</td><td style = \"text-align: left;\">28751</td><td style = \"text-align: left;\">0</td><td style = \"text-align: left;\">0</td><td style = \"text-align: left;\">0</td><td style = \"text-align: left;\">0</td><td style = \"text-align: left;\">0</td><td style = \"text-align: left;\">0</td><td style = \"text-align: left;\">0</td><td style = \"text-align: left;\">1</td><td style = \"text-align: left;\">0</td><td style = \"text-align: left;\">0</td><td style = \"text-align: left;\">0</td><td style = \"text-align: left;\">0</td><td style = \"text-align: left;\">0</td><td style = \"text-align: left;\">0</td><td style = \"text-align: left;\">0</td><td style = \"text-align: left;\">0</td><td style = \"text-align: left;\">0</td><td style = \"text-align: left;\">0</td><td style = \"text-align: left;\">0</td><td style = \"text-align: left;\">0</td><td style = \"text-align: left;\">0</td><td style = \"text-align: left;\">1</td><td style = \"text-align: left;\">0</td><td style = \"text-align: left;\">0</td><td style = \"text-align: left;\">0</td><td style = \"text-align: left;\">1</td><td style = \"text-align: left;\">0</td><td style = \"text-align: left;\">2</td><td style = \"text-align: left;\">0</td><td style = \"text-align: left;\">1</td><td style = \"text-align: left;\">0</td><td style = \"text-align: left;\">0</td><td style = \"text-align: left;\">1</td><td style = \"text-align: left;\">0</td><td style = \"text-align: left;\">0</td><td style = \"text-align: left;\">0</td><td style = \"text-align: left;\">0</td><td style = \"text-align: left;\">1</td><td style = \"text-align: left;\">2</td><td style = \"text-align: left;\">1</td><td style = \"text-align: left;\">0</td><td style = \"text-align: left;\">2</td><td style = \"text-align: left;\">0</td><td style = \"text-align: left;\">1</td><td style = \"text-align: left;\">0</td><td style = \"text-align: left;\">0</td><td style = \"text-align: left;\">0</td><td style = \"text-align: left;\">0</td><td style = \"text-align: left;\">0</td><td style = \"text-align: left;\">0</td><td style = \"text-align: left;\">0</td><td style = \"text-align: left;\">0</td><td style = \"text-align: left;\">0</td><td style = \"text-align: left;\">1</td><td style = \"text-align: left;\">0</td><td style = \"text-align: left;\">1</td><td style = \"text-align: left;\">0</td><td style = \"text-align: left;\">0</td><td style = \"text-align: left;\">0</td><td style = \"text-align: left;\">1</td><td style = \"text-align: left;\">0</td><td style = \"text-align: left;\">0</td><td style = \"text-align: left;\">0</td><td style = \"text-align: left;\">0</td><td style = \"text-align: left;\">0</td><td style = \"text-align: left;\">1</td><td style = \"text-align: left;\">0</td><td style = \"text-align: left;\">0</td><td style = \"text-align: left;\">2</td><td style = \"text-align: left;\">0</td><td style = \"text-align: left;\">0</td><td style = \"text-align: left;\">0</td><td style = \"text-align: left;\">0</td><td style = \"text-align: left;\">0</td><td style = \"text-align: left;\">0</td><td style = \"text-align: left;\">2</td><td style = \"text-align: left;\">1</td><td style = \"text-align: left;\">0</td><td style = \"text-align: left;\">0</td><td style = \"text-align: left;\">0</td><td style = \"text-align: left;\">0</td><td style = \"text-align: left;\">0</td><td style = \"text-align: left;\">0</td><td style = \"text-align: left;\">0</td><td style = \"text-align: left;\">0</td><td style = \"text-align: left;\">0</td><td style = \"text-align: left;\">2</td><td style = \"text-align: left;\">1</td><td style = \"text-align: left;\">0</td><td style = \"text-align: left;\">0</td><td style = \"text-align: left;\">0</td><td style = \"text-align: left;\">0</td><td style = \"text-align: left;\">2</td><td style = \"text-align: left;\">1</td><td style = \"text-align: left;\">1</td><td style = \"text-align: left;\">0</td><td style = \"text-align: right;\">&ctdot;</td></tr><tr><td class = \"rowNumber\" style = \"font-weight: bold; text-align: right;\">28752</td><td style = \"text-align: left;\">398030</td><td style = \"text-align: left;\">Stockbridge</td><td style = \"text-align: left;\">Wisconsin</td><td style = \"text-align: left;\">28752</td><td style = \"text-align: left;\">0</td><td style = \"text-align: left;\">0</td><td style = \"text-align: left;\">0</td><td style = \"text-align: left;\">0</td><td style = \"text-align: left;\">0</td><td style = \"text-align: left;\">0</td><td style = \"text-align: left;\">0</td><td style = \"text-align: left;\">0</td><td style = \"text-align: left;\">0</td><td style = \"text-align: left;\">1</td><td style = \"text-align: left;\">1</td><td style = \"text-align: left;\">0</td><td style = \"text-align: left;\">0</td><td style = \"text-align: left;\">0</td><td style = \"text-align: left;\">0</td><td style = \"text-align: left;\">0</td><td style = \"text-align: left;\">0</td><td style = \"text-align: left;\">0</td><td style = \"text-align: left;\">1</td><td style = \"text-align: left;\">0</td><td style = \"text-align: left;\">0</td><td style = \"text-align: left;\">0</td><td style = \"text-align: left;\">0</td><td style = \"text-align: left;\">0</td><td style = \"text-align: left;\">0</td><td style = \"text-align: left;\">2</td><td style = \"text-align: left;\">0</td><td style = \"text-align: left;\">0</td><td style = \"text-align: left;\">0</td><td style = \"text-align: left;\">0</td><td style = \"text-align: left;\">0</td><td style = \"text-align: left;\">0</td><td style = \"text-align: left;\">0</td><td style = \"text-align: left;\">0</td><td style = \"text-align: left;\">0</td><td style = \"text-align: left;\">0</td><td style = \"text-align: left;\">0</td><td style = \"text-align: left;\">0</td><td style = \"text-align: left;\">0</td><td style = \"text-align: left;\">0</td><td style = \"text-align: left;\">0</td><td style = \"text-align: left;\">0</td><td style = \"text-align: left;\">1</td><td style = \"text-align: left;\">1</td><td style = \"text-align: left;\">0</td><td style = \"text-align: left;\">0</td><td style = \"text-align: left;\">0</td><td style = \"text-align: left;\">0</td><td style = \"text-align: left;\">0</td><td style = \"text-align: left;\">0</td><td style = \"text-align: left;\">0</td><td style = \"text-align: left;\">0</td><td style = \"text-align: left;\">0</td><td style = \"text-align: left;\">0</td><td style = \"text-align: left;\">1</td><td style = \"text-align: left;\">0</td><td style = \"text-align: left;\">0</td><td style = \"text-align: left;\">0</td><td style = \"text-align: left;\">0</td><td style = \"text-align: left;\">0</td><td style = \"text-align: left;\">0</td><td style = \"text-align: left;\">0</td><td style = \"text-align: left;\">1</td><td style = \"text-align: left;\">0</td><td style = \"text-align: left;\">0</td><td style = \"text-align: left;\">0</td><td style = \"text-align: left;\">1</td><td style = \"text-align: left;\">0</td><td style = \"text-align: left;\">0</td><td style = \"text-align: left;\">0</td><td style = \"text-align: left;\">0</td><td style = \"text-align: left;\">0</td><td style = \"text-align: left;\">0</td><td style = \"text-align: left;\">0</td><td style = \"text-align: left;\">0</td><td style = \"text-align: left;\">0</td><td style = \"text-align: left;\">0</td><td style = \"text-align: left;\">0</td><td style = \"text-align: left;\">0</td><td style = \"text-align: left;\">0</td><td style = \"text-align: left;\">1</td><td style = \"text-align: left;\">0</td><td style = \"text-align: left;\">1</td><td style = \"text-align: left;\">0</td><td style = \"text-align: left;\">0</td><td style = \"text-align: left;\">0</td><td style = \"text-align: left;\">1</td><td style = \"text-align: left;\">0</td><td style = \"text-align: left;\">1</td><td style = \"text-align: left;\">1</td><td style = \"text-align: left;\">0</td><td style = \"text-align: left;\">0</td><td style = \"text-align: left;\">0</td><td style = \"text-align: left;\">0</td><td style = \"text-align: left;\">0</td><td style = \"text-align: left;\">0</td><td style = \"text-align: right;\">&ctdot;</td></tr><tr><td class = \"rowNumber\" style = \"font-weight: bold; text-align: right;\">28753</td><td style = \"text-align: left;\">398104</td><td style = \"text-align: left;\">Mattamiscontis</td><td style = \"text-align: left;\">Maine</td><td style = \"text-align: left;\">28753</td><td style = \"text-align: left;\">0</td><td style = \"text-align: left;\">0</td><td style = \"text-align: left;\">0</td><td style = \"text-align: left;\">0</td><td style = \"text-align: left;\">0</td><td style = \"text-align: left;\">0</td><td style = \"text-align: left;\">0</td><td style = \"text-align: left;\">0</td><td style = \"text-align: left;\">0</td><td style = \"text-align: left;\">0</td><td style = \"text-align: left;\">0</td><td style = \"text-align: left;\">0</td><td style = \"text-align: left;\">0</td><td style = \"text-align: left;\">0</td><td style = \"text-align: left;\">1</td><td style = \"text-align: left;\">0</td><td style = \"text-align: left;\">0</td><td style = \"text-align: left;\">0</td><td style = \"text-align: left;\">0</td><td style = \"text-align: left;\">0</td><td style = \"text-align: left;\">0</td><td style = \"text-align: left;\">0</td><td style = \"text-align: left;\">0</td><td style = \"text-align: left;\">0</td><td style = \"text-align: left;\">0</td><td style = \"text-align: left;\">0</td><td style = \"text-align: left;\">0</td><td style = \"text-align: left;\">0</td><td style = \"text-align: left;\">0</td><td style = \"text-align: left;\">0</td><td style = \"text-align: left;\">0</td><td style = \"text-align: left;\">0</td><td style = \"text-align: left;\">0</td><td style = \"text-align: left;\">0</td><td style = \"text-align: left;\">0</td><td style = \"text-align: left;\">0</td><td style = \"text-align: left;\">0</td><td style = \"text-align: left;\">0</td><td style = \"text-align: left;\">0</td><td style = \"text-align: left;\">0</td><td style = \"text-align: left;\">0</td><td style = \"text-align: left;\">1</td><td style = \"text-align: left;\">0</td><td style = \"text-align: left;\">0</td><td style = \"text-align: left;\">0</td><td style = \"text-align: left;\">0</td><td style = \"text-align: left;\">0</td><td style = \"text-align: left;\">0</td><td style = \"text-align: left;\">0</td><td style = \"text-align: left;\">0</td><td style = \"text-align: left;\">0</td><td style = \"text-align: left;\">0</td><td style = \"text-align: left;\">0</td><td style = \"text-align: left;\">0</td><td style = \"text-align: left;\">0</td><td style = \"text-align: left;\">0</td><td style = \"text-align: left;\">0</td><td style = \"text-align: left;\">0</td><td style = \"text-align: left;\">0</td><td style = \"text-align: left;\">0</td><td style = \"text-align: left;\">0</td><td style = \"text-align: left;\">0</td><td style = \"text-align: left;\">0</td><td style = \"text-align: left;\">0</td><td style = \"text-align: left;\">0</td><td style = \"text-align: left;\">0</td><td style = \"text-align: left;\">0</td><td style = \"text-align: left;\">0</td><td style = \"text-align: left;\">0</td><td style = \"text-align: left;\">0</td><td style = \"text-align: left;\">0</td><td style = \"text-align: left;\">0</td><td style = \"text-align: left;\">0</td><td style = \"text-align: left;\">0</td><td style = \"text-align: left;\">0</td><td style = \"text-align: left;\">0</td><td style = \"text-align: left;\">0</td><td style = \"text-align: left;\">0</td><td style = \"text-align: left;\">0</td><td style = \"text-align: left;\">0</td><td style = \"text-align: left;\">0</td><td style = \"text-align: left;\">0</td><td style = \"text-align: left;\">0</td><td style = \"text-align: left;\">0</td><td style = \"text-align: left;\">0</td><td style = \"text-align: left;\">0</td><td style = \"text-align: left;\">0</td><td style = \"text-align: left;\">0</td><td style = \"text-align: left;\">0</td><td style = \"text-align: left;\">0</td><td style = \"text-align: left;\">0</td><td style = \"text-align: left;\">0</td><td style = \"text-align: left;\">0</td><td style = \"text-align: left;\">0</td><td style = \"text-align: left;\">0</td><td style = \"text-align: left;\">0</td><td style = \"text-align: right;\">&ctdot;</td></tr><tr><td class = \"rowNumber\" style = \"font-weight: bold; text-align: right;\">28754</td><td style = \"text-align: left;\">398357</td><td style = \"text-align: left;\">Chase Stream</td><td style = \"text-align: left;\">Maine</td><td style = \"text-align: left;\">28754</td><td style = \"text-align: left;\">0</td><td style = \"text-align: left;\">0</td><td style = \"text-align: left;\">0</td><td style = \"text-align: left;\">0</td><td style = \"text-align: left;\">0</td><td style = \"text-align: left;\">0</td><td style = \"text-align: left;\">0</td><td style = \"text-align: left;\">0</td><td style = \"text-align: left;\">1</td><td style = \"text-align: left;\">0</td><td style = \"text-align: left;\">0</td><td style = \"text-align: left;\">0</td><td style = \"text-align: left;\">0</td><td style = \"text-align: left;\">1</td><td style = \"text-align: left;\">0</td><td style = \"text-align: left;\">0</td><td style = \"text-align: left;\">1</td><td style = \"text-align: left;\">1</td><td style = \"text-align: left;\">0</td><td style = \"text-align: left;\">1</td><td style = \"text-align: left;\">0</td><td style = \"text-align: left;\">0</td><td style = \"text-align: left;\">0</td><td style = \"text-align: left;\">0</td><td style = \"text-align: left;\">0</td><td style = \"text-align: left;\">0</td><td style = \"text-align: left;\">0</td><td style = \"text-align: left;\">1</td><td style = \"text-align: left;\">1</td><td style = \"text-align: left;\">0</td><td style = \"text-align: left;\">0</td><td style = \"text-align: left;\">1</td><td style = \"text-align: left;\">0</td><td style = \"text-align: left;\">1</td><td style = \"text-align: left;\">0</td><td style = \"text-align: left;\">0</td><td style = \"text-align: left;\">0</td><td style = \"text-align: left;\">0</td><td style = \"text-align: left;\">0</td><td style = \"text-align: left;\">0</td><td style = \"text-align: left;\">0</td><td style = \"text-align: left;\">0</td><td style = \"text-align: left;\">0</td><td style = \"text-align: left;\">1</td><td style = \"text-align: left;\">1</td><td style = \"text-align: left;\">0</td><td style = \"text-align: left;\">0</td><td style = \"text-align: left;\">0</td><td style = \"text-align: left;\">0</td><td style = \"text-align: left;\">1</td><td style = \"text-align: left;\">0</td><td style = \"text-align: left;\">0</td><td style = \"text-align: left;\">1</td><td style = \"text-align: left;\">1</td><td style = \"text-align: left;\">0</td><td style = \"text-align: left;\">0</td><td style = \"text-align: left;\">0</td><td style = \"text-align: left;\">0</td><td style = \"text-align: left;\">0</td><td style = \"text-align: left;\">1</td><td style = \"text-align: left;\">0</td><td style = \"text-align: left;\">0</td><td style = \"text-align: left;\">0</td><td style = \"text-align: left;\">0</td><td style = \"text-align: left;\">0</td><td style = \"text-align: left;\">1</td><td style = \"text-align: left;\">0</td><td style = \"text-align: left;\">0</td><td style = \"text-align: left;\">0</td><td style = \"text-align: left;\">0</td><td style = \"text-align: left;\">0</td><td style = \"text-align: left;\">0</td><td style = \"text-align: left;\">0</td><td style = \"text-align: left;\">0</td><td style = \"text-align: left;\">1</td><td style = \"text-align: left;\">0</td><td style = \"text-align: left;\">0</td><td style = \"text-align: left;\">0</td><td style = \"text-align: left;\">0</td><td style = \"text-align: left;\">0</td><td style = \"text-align: left;\">1</td><td style = \"text-align: left;\">1</td><td style = \"text-align: left;\">1</td><td style = \"text-align: left;\">0</td><td style = \"text-align: left;\">0</td><td style = \"text-align: left;\">0</td><td style = \"text-align: left;\">0</td><td style = \"text-align: left;\">1</td><td style = \"text-align: left;\">0</td><td style = \"text-align: left;\">0</td><td style = \"text-align: left;\">0</td><td style = \"text-align: left;\">1</td><td style = \"text-align: left;\">0</td><td style = \"text-align: left;\">0</td><td style = \"text-align: left;\">0</td><td style = \"text-align: left;\">0</td><td style = \"text-align: right;\">&ctdot;</td></tr><tr><td class = \"rowNumber\" style = \"font-weight: bold; text-align: right;\">28755</td><td style = \"text-align: left;\">398712</td><td style = \"text-align: left;\">Bowdoin College Grant West</td><td style = \"text-align: left;\">Maine</td><td style = \"text-align: left;\">28755</td><td style = \"text-align: left;\">0</td><td style = \"text-align: left;\">0</td><td style = \"text-align: left;\">0</td><td style = \"text-align: left;\">0</td><td style = \"text-align: left;\">1</td><td style = \"text-align: left;\">0</td><td style = \"text-align: left;\">0</td><td style = \"text-align: left;\">0</td><td style = \"text-align: left;\">0</td><td style = \"text-align: left;\">0</td><td style = \"text-align: left;\">0</td><td style = \"text-align: left;\">0</td><td style = \"text-align: left;\">0</td><td style = \"text-align: left;\">0</td><td style = \"text-align: left;\">0</td><td style = \"text-align: left;\">0</td><td style = \"text-align: left;\">0</td><td style = \"text-align: left;\">0</td><td style = \"text-align: left;\">0</td><td style = \"text-align: left;\">0</td><td style = \"text-align: left;\">0</td><td style = \"text-align: left;\">0</td><td style = \"text-align: left;\">0</td><td style = \"text-align: left;\">0</td><td style = \"text-align: left;\">0</td><td style = \"text-align: left;\">1</td><td style = \"text-align: left;\">1</td><td style = \"text-align: left;\">1</td><td style = \"text-align: left;\">1</td><td style = \"text-align: left;\">1</td><td style = \"text-align: left;\">0</td><td style = \"text-align: left;\">0</td><td style = \"text-align: left;\">0</td><td style = \"text-align: left;\">1</td><td style = \"text-align: left;\">1</td><td style = \"text-align: left;\">0</td><td style = \"text-align: left;\">1</td><td style = \"text-align: left;\">0</td><td style = \"text-align: left;\">1</td><td style = \"text-align: left;\">0</td><td style = \"text-align: left;\">0</td><td style = \"text-align: left;\">1</td><td style = \"text-align: left;\">0</td><td style = \"text-align: left;\">1</td><td style = \"text-align: left;\">0</td><td style = \"text-align: left;\">2</td><td style = \"text-align: left;\">0</td><td style = \"text-align: left;\">0</td><td style = \"text-align: left;\">0</td><td style = \"text-align: left;\">0</td><td style = \"text-align: left;\">0</td><td style = \"text-align: left;\">0</td><td style = \"text-align: left;\">0</td><td style = \"text-align: left;\">0</td><td style = \"text-align: left;\">0</td><td style = \"text-align: left;\">1</td><td style = \"text-align: left;\">0</td><td style = \"text-align: left;\">0</td><td style = \"text-align: left;\">0</td><td style = \"text-align: left;\">0</td><td style = \"text-align: left;\">0</td><td style = \"text-align: left;\">0</td><td style = \"text-align: left;\">0</td><td style = \"text-align: left;\">1</td><td style = \"text-align: left;\">1</td><td style = \"text-align: left;\">0</td><td style = \"text-align: left;\">0</td><td style = \"text-align: left;\">0</td><td style = \"text-align: left;\">0</td><td style = \"text-align: left;\">1</td><td style = \"text-align: left;\">0</td><td style = \"text-align: left;\">0</td><td style = \"text-align: left;\">1</td><td style = \"text-align: left;\">1</td><td style = \"text-align: left;\">0</td><td style = \"text-align: left;\">1</td><td style = \"text-align: left;\">0</td><td style = \"text-align: left;\">0</td><td style = \"text-align: left;\">0</td><td style = \"text-align: left;\">0</td><td style = \"text-align: left;\">2</td><td style = \"text-align: left;\">0</td><td style = \"text-align: left;\">0</td><td style = \"text-align: left;\">0</td><td style = \"text-align: left;\">0</td><td style = \"text-align: left;\">0</td><td style = \"text-align: left;\">0</td><td style = \"text-align: left;\">1</td><td style = \"text-align: left;\">0</td><td style = \"text-align: left;\">1</td><td style = \"text-align: left;\">1</td><td style = \"text-align: left;\">1</td><td style = \"text-align: left;\">1</td><td style = \"text-align: left;\">0</td><td style = \"text-align: left;\">0</td><td style = \"text-align: left;\">1</td><td style = \"text-align: right;\">&ctdot;</td></tr><tr><td class = \"rowNumber\" style = \"font-weight: bold; text-align: right;\">28756</td><td style = \"text-align: left;\">398716</td><td style = \"text-align: left;\">Summerset</td><td style = \"text-align: left;\">South Dakota</td><td style = \"text-align: left;\">28756</td><td style = \"text-align: left;\">0</td><td style = \"text-align: left;\">0</td><td style = \"text-align: left;\">2</td><td style = \"text-align: left;\">0</td><td style = \"text-align: left;\">1</td><td style = \"text-align: left;\">0</td><td style = \"text-align: left;\">0</td><td style = \"text-align: left;\">0</td><td style = \"text-align: left;\">0</td><td style = \"text-align: left;\">0</td><td style = \"text-align: left;\">0</td><td style = \"text-align: left;\">1</td><td style = \"text-align: left;\">2</td><td style = \"text-align: left;\">0</td><td style = \"text-align: left;\">0</td><td style = \"text-align: left;\">2</td><td style = \"text-align: left;\">5</td><td style = \"text-align: left;\">2</td><td style = \"text-align: left;\">3</td><td style = \"text-align: left;\">2</td><td style = \"text-align: left;\">4</td><td style = \"text-align: left;\">2</td><td style = \"text-align: left;\">3</td><td style = \"text-align: left;\">3</td><td style = \"text-align: left;\">0</td><td style = \"text-align: left;\">6</td><td style = \"text-align: left;\">4</td><td style = \"text-align: left;\">5</td><td style = \"text-align: left;\">3</td><td style = \"text-align: left;\">2</td><td style = \"text-align: left;\">5</td><td style = \"text-align: left;\">6</td><td style = \"text-align: left;\">1</td><td style = \"text-align: left;\">1</td><td style = \"text-align: left;\">3</td><td style = \"text-align: left;\">1</td><td style = \"text-align: left;\">3</td><td style = \"text-align: left;\">2</td><td style = \"text-align: left;\">0</td><td style = \"text-align: left;\">2</td><td style = \"text-align: left;\">0</td><td style = \"text-align: left;\">3</td><td style = \"text-align: left;\">2</td><td style = \"text-align: left;\">1</td><td style = \"text-align: left;\">0</td><td style = \"text-align: left;\">1</td><td style = \"text-align: left;\">1</td><td style = \"text-align: left;\">1</td><td style = \"text-align: left;\">1</td><td style = \"text-align: left;\">1</td><td style = \"text-align: left;\">1</td><td style = \"text-align: left;\">0</td><td style = \"text-align: left;\">0</td><td style = \"text-align: left;\">3</td><td style = \"text-align: left;\">1</td><td style = \"text-align: left;\">4</td><td style = \"text-align: left;\">1</td><td style = \"text-align: left;\">1</td><td style = \"text-align: left;\">3</td><td style = \"text-align: left;\">0</td><td style = \"text-align: left;\">4</td><td style = \"text-align: left;\">6</td><td style = \"text-align: left;\">6</td><td style = \"text-align: left;\">5</td><td style = \"text-align: left;\">8</td><td style = \"text-align: left;\">7</td><td style = \"text-align: left;\">6</td><td style = \"text-align: left;\">8</td><td style = \"text-align: left;\">0</td><td style = \"text-align: left;\">6</td><td style = \"text-align: left;\">3</td><td style = \"text-align: left;\">3</td><td style = \"text-align: left;\">7</td><td style = \"text-align: left;\">2</td><td style = \"text-align: left;\">8</td><td style = \"text-align: left;\">10</td><td style = \"text-align: left;\">5</td><td style = \"text-align: left;\">14</td><td style = \"text-align: left;\">8</td><td style = \"text-align: left;\">10</td><td style = \"text-align: left;\">3</td><td style = \"text-align: left;\">4</td><td style = \"text-align: left;\">1</td><td style = \"text-align: left;\">5</td><td style = \"text-align: left;\">10</td><td style = \"text-align: left;\">6</td><td style = \"text-align: left;\">6</td><td style = \"text-align: left;\">4</td><td style = \"text-align: left;\">9</td><td style = \"text-align: left;\">4</td><td style = \"text-align: left;\">6</td><td style = \"text-align: left;\">3</td><td style = \"text-align: left;\">4</td><td style = \"text-align: left;\">3</td><td style = \"text-align: left;\">4</td><td style = \"text-align: left;\">2</td><td style = \"text-align: right;\">&ctdot;</td></tr><tr><td class = \"rowNumber\" style = \"font-weight: bold; text-align: right;\">28757</td><td style = \"text-align: left;\">399081</td><td style = \"text-align: left;\">Long Pond</td><td style = \"text-align: left;\">Maine</td><td style = \"text-align: left;\">28757</td><td style = \"text-align: left;\">0</td><td style = \"text-align: left;\">0</td><td style = \"text-align: left;\">0</td><td style = \"text-align: left;\">0</td><td style = \"text-align: left;\">0</td><td style = \"text-align: left;\">0</td><td style = \"text-align: left;\">0</td><td style = \"text-align: left;\">0</td><td style = \"text-align: left;\">0</td><td style = \"text-align: left;\">0</td><td style = \"text-align: left;\">0</td><td style = \"text-align: left;\">0</td><td style = \"text-align: left;\">0</td><td style = \"text-align: left;\">0</td><td style = \"text-align: left;\">0</td><td style = \"text-align: left;\">0</td><td style = \"text-align: left;\">0</td><td style = \"text-align: left;\">0</td><td style = \"text-align: left;\">0</td><td style = \"text-align: left;\">0</td><td style = \"text-align: left;\">0</td><td style = \"text-align: left;\">0</td><td style = \"text-align: left;\">0</td><td style = \"text-align: left;\">0</td><td style = \"text-align: left;\">0</td><td style = \"text-align: left;\">0</td><td style = \"text-align: left;\">0</td><td style = \"text-align: left;\">0</td><td style = \"text-align: left;\">0</td><td style = \"text-align: left;\">0</td><td style = \"text-align: left;\">0</td><td style = \"text-align: left;\">0</td><td style = \"text-align: left;\">0</td><td style = \"text-align: left;\">0</td><td style = \"text-align: left;\">0</td><td style = \"text-align: left;\">0</td><td style = \"text-align: left;\">0</td><td style = \"text-align: left;\">0</td><td style = \"text-align: left;\">0</td><td style = \"text-align: left;\">0</td><td style = \"text-align: left;\">0</td><td style = \"text-align: left;\">0</td><td style = \"text-align: left;\">0</td><td style = \"text-align: left;\">0</td><td style = \"text-align: left;\">0</td><td style = \"text-align: left;\">0</td><td style = \"text-align: left;\">0</td><td style = \"text-align: left;\">0</td><td style = \"text-align: left;\">0</td><td style = \"text-align: left;\">0</td><td style = \"text-align: left;\">0</td><td style = \"text-align: left;\">0</td><td style = \"text-align: left;\">0</td><td style = \"text-align: left;\">0</td><td style = \"text-align: left;\">0</td><td style = \"text-align: left;\">0</td><td style = \"text-align: left;\">0</td><td style = \"text-align: left;\">0</td><td style = \"text-align: left;\">0</td><td style = \"text-align: left;\">0</td><td style = \"text-align: left;\">0</td><td style = \"text-align: left;\">0</td><td style = \"text-align: left;\">0</td><td style = \"text-align: left;\">0</td><td style = \"text-align: left;\">0</td><td style = \"text-align: left;\">0</td><td style = \"text-align: left;\">0</td><td style = \"text-align: left;\">0</td><td style = \"text-align: left;\">0</td><td style = \"text-align: left;\">0</td><td style = \"text-align: left;\">0</td><td style = \"text-align: left;\">0</td><td style = \"text-align: left;\">0</td><td style = \"text-align: left;\">0</td><td style = \"text-align: left;\">0</td><td style = \"text-align: left;\">0</td><td style = \"text-align: left;\">0</td><td style = \"text-align: left;\">0</td><td style = \"text-align: left;\">0</td><td style = \"text-align: left;\">0</td><td style = \"text-align: left;\">0</td><td style = \"text-align: left;\">0</td><td style = \"text-align: left;\">0</td><td style = \"text-align: left;\">0</td><td style = \"text-align: left;\">0</td><td style = \"text-align: left;\">0</td><td style = \"text-align: left;\">0</td><td style = \"text-align: left;\">0</td><td style = \"text-align: left;\">0</td><td style = \"text-align: left;\">0</td><td style = \"text-align: left;\">0</td><td style = \"text-align: left;\">0</td><td style = \"text-align: left;\">0</td><td style = \"text-align: left;\">0</td><td style = \"text-align: left;\">0</td><td style = \"text-align: left;\">0</td><td style = \"text-align: right;\">&ctdot;</td></tr><tr><td class = \"rowNumber\" style = \"font-weight: bold; text-align: right;\">28758</td><td style = \"text-align: left;\">737789</td><td style = \"text-align: left;\">Hideout</td><td style = \"text-align: left;\">Utah</td><td style = \"text-align: left;\">28758</td><td style = \"text-align: left;\">1</td><td style = \"text-align: left;\">0</td><td style = \"text-align: left;\">0</td><td style = \"text-align: left;\">0</td><td style = \"text-align: left;\">0</td><td style = \"text-align: left;\">0</td><td style = \"text-align: left;\">0</td><td style = \"text-align: left;\">0</td><td style = \"text-align: left;\">0</td><td style = \"text-align: left;\">1</td><td style = \"text-align: left;\">0</td><td style = \"text-align: left;\">0</td><td style = \"text-align: left;\">0</td><td style = \"text-align: left;\">0</td><td style = \"text-align: left;\">0</td><td style = \"text-align: left;\">0</td><td style = \"text-align: left;\">0</td><td style = \"text-align: left;\">0</td><td style = \"text-align: left;\">0</td><td style = \"text-align: left;\">0</td><td style = \"text-align: left;\">0</td><td style = \"text-align: left;\">0</td><td style = \"text-align: left;\">0</td><td style = \"text-align: left;\">0</td><td style = \"text-align: left;\">0</td><td style = \"text-align: left;\">1</td><td style = \"text-align: left;\">0</td><td style = \"text-align: left;\">0</td><td style = \"text-align: left;\">0</td><td style = \"text-align: left;\">0</td><td style = \"text-align: left;\">1</td><td style = \"text-align: left;\">0</td><td style = \"text-align: left;\">0</td><td style = \"text-align: left;\">0</td><td style = \"text-align: left;\">2</td><td style = \"text-align: left;\">0</td><td style = \"text-align: left;\">0</td><td style = \"text-align: left;\">0</td><td style = \"text-align: left;\">1</td><td style = \"text-align: left;\">0</td><td style = \"text-align: left;\">1</td><td style = \"text-align: left;\">0</td><td style = \"text-align: left;\">0</td><td style = \"text-align: left;\">0</td><td style = \"text-align: left;\">0</td><td style = \"text-align: left;\">0</td><td style = \"text-align: left;\">1</td><td style = \"text-align: left;\">0</td><td style = \"text-align: left;\">0</td><td style = \"text-align: left;\">0</td><td style = \"text-align: left;\">1</td><td style = \"text-align: left;\">0</td><td style = \"text-align: left;\">0</td><td style = \"text-align: left;\">0</td><td style = \"text-align: left;\">1</td><td style = \"text-align: left;\">0</td><td style = \"text-align: left;\">0</td><td style = \"text-align: left;\">0</td><td style = \"text-align: left;\">0</td><td style = \"text-align: left;\">1</td><td style = \"text-align: left;\">0</td><td style = \"text-align: left;\">0</td><td style = \"text-align: left;\">0</td><td style = \"text-align: left;\">0</td><td style = \"text-align: left;\">0</td><td style = \"text-align: left;\">0</td><td style = \"text-align: left;\">0</td><td style = \"text-align: left;\">0</td><td style = \"text-align: left;\">1</td><td style = \"text-align: left;\">0</td><td style = \"text-align: left;\">0</td><td style = \"text-align: left;\">0</td><td style = \"text-align: left;\">0</td><td style = \"text-align: left;\">2</td><td style = \"text-align: left;\">1</td><td style = \"text-align: left;\">1</td><td style = \"text-align: left;\">0</td><td style = \"text-align: left;\">1</td><td style = \"text-align: left;\">0</td><td style = \"text-align: left;\">0</td><td style = \"text-align: left;\">0</td><td style = \"text-align: left;\">0</td><td style = \"text-align: left;\">0</td><td style = \"text-align: left;\">0</td><td style = \"text-align: left;\">0</td><td style = \"text-align: left;\">0</td><td style = \"text-align: left;\">0</td><td style = \"text-align: left;\">0</td><td style = \"text-align: left;\">0</td><td style = \"text-align: left;\">0</td><td style = \"text-align: left;\">1</td><td style = \"text-align: left;\">0</td><td style = \"text-align: left;\">1</td><td style = \"text-align: left;\">0</td><td style = \"text-align: left;\">0</td><td style = \"text-align: left;\">0</td><td style = \"text-align: right;\">&ctdot;</td></tr><tr><td class = \"rowNumber\" style = \"font-weight: bold; text-align: right;\">28759</td><td style = \"text-align: left;\">760882</td><td style = \"text-align: left;\">Ebeemee</td><td style = \"text-align: left;\">Maine</td><td style = \"text-align: left;\">28759</td><td style = \"text-align: left;\">0</td><td style = \"text-align: left;\">0</td><td style = \"text-align: left;\">0</td><td style = \"text-align: left;\">0</td><td style = \"text-align: left;\">0</td><td style = \"text-align: left;\">0</td><td style = \"text-align: left;\">0</td><td style = \"text-align: left;\">0</td><td style = \"text-align: left;\">0</td><td style = \"text-align: left;\">0</td><td style = \"text-align: left;\">0</td><td style = \"text-align: left;\">0</td><td style = \"text-align: left;\">0</td><td style = \"text-align: left;\">0</td><td style = \"text-align: left;\">0</td><td style = \"text-align: left;\">0</td><td style = \"text-align: left;\">0</td><td style = \"text-align: left;\">0</td><td style = \"text-align: left;\">0</td><td style = \"text-align: left;\">0</td><td style = \"text-align: left;\">0</td><td style = \"text-align: left;\">0</td><td style = \"text-align: left;\">0</td><td style = \"text-align: left;\">0</td><td style = \"text-align: left;\">0</td><td style = \"text-align: left;\">0</td><td style = \"text-align: left;\">0</td><td style = \"text-align: left;\">0</td><td style = \"text-align: left;\">0</td><td style = \"text-align: left;\">0</td><td style = \"text-align: left;\">0</td><td style = \"text-align: left;\">0</td><td style = \"text-align: left;\">0</td><td style = \"text-align: left;\">0</td><td style = \"text-align: left;\">0</td><td style = \"text-align: left;\">0</td><td style = \"text-align: left;\">0</td><td style = \"text-align: left;\">0</td><td style = \"text-align: left;\">0</td><td style = \"text-align: left;\">0</td><td style = \"text-align: left;\">0</td><td style = \"text-align: left;\">0</td><td style = \"text-align: left;\">0</td><td style = \"text-align: left;\">0</td><td style = \"text-align: left;\">0</td><td style = \"text-align: left;\">0</td><td style = \"text-align: left;\">0</td><td style = \"text-align: left;\">0</td><td style = \"text-align: left;\">0</td><td style = \"text-align: left;\">0</td><td style = \"text-align: left;\">0</td><td style = \"text-align: left;\">0</td><td style = \"text-align: left;\">0</td><td style = \"text-align: left;\">0</td><td style = \"text-align: left;\">0</td><td style = \"text-align: left;\">0</td><td style = \"text-align: left;\">0</td><td style = \"text-align: left;\">0</td><td style = \"text-align: left;\">0</td><td style = \"text-align: left;\">0</td><td style = \"text-align: left;\">0</td><td style = \"text-align: left;\">0</td><td style = \"text-align: left;\">0</td><td style = \"text-align: left;\">0</td><td style = \"text-align: left;\">0</td><td style = \"text-align: left;\">0</td><td style = \"text-align: left;\">0</td><td style = \"text-align: left;\">0</td><td style = \"text-align: left;\">0</td><td style = \"text-align: left;\">0</td><td style = \"text-align: left;\">0</td><td style = \"text-align: left;\">0</td><td style = \"text-align: left;\">0</td><td style = \"text-align: left;\">0</td><td style = \"text-align: left;\">0</td><td style = \"text-align: left;\">0</td><td style = \"text-align: left;\">0</td><td style = \"text-align: left;\">0</td><td style = \"text-align: left;\">0</td><td style = \"text-align: left;\">0</td><td style = \"text-align: left;\">0</td><td style = \"text-align: left;\">0</td><td style = \"text-align: left;\">0</td><td style = \"text-align: left;\">0</td><td style = \"text-align: left;\">0</td><td style = \"text-align: left;\">0</td><td style = \"text-align: left;\">0</td><td style = \"text-align: left;\">0</td><td style = \"text-align: left;\">0</td><td style = \"text-align: left;\">0</td><td style = \"text-align: left;\">0</td><td style = \"text-align: left;\">0</td><td style = \"text-align: left;\">0</td><td style = \"text-align: left;\">0</td><td style = \"text-align: left;\">0</td><td style = \"text-align: left;\">0</td><td style = \"text-align: right;\">&ctdot;</td></tr></tbody></table></div>"
      ],
      "text/latex": [
       "\\begin{tabular}{r|cccccccc}\n",
       "\t& RegionID & RegionName & StateName & SizeRank & 2008-03 & 2008-04 & 2008-05 & \\\\\n",
       "\t\\hline\n",
       "\t& Any & Any & Any & Any & Any & Any & Any & \\\\\n",
       "\t\\hline\n",
       "\t1 & 6181 & New York & New York & 1 & \\emph{missing} & \\emph{missing} & \\emph{missing} & $\\dots$ \\\\\n",
       "\t2 & 12447 & Los Angeles & California & 2 & 1446 & 1705 & 1795 & $\\dots$ \\\\\n",
       "\t3 & 39051 & Houston & Texas & 3 & 2926 & 3121 & 3220 & $\\dots$ \\\\\n",
       "\t4 & 17426 & Chicago & Illinois & 4 & 2910 & 3022 & 2937 & $\\dots$ \\\\\n",
       "\t5 & 6915 & San Antonio & Texas & 5 & 1479 & 1529 & 1582 & $\\dots$ \\\\\n",
       "\t6 & 13271 & Philadelphia & Pennsylvania & 6 & 1609 & 1795 & 1709 & $\\dots$ \\\\\n",
       "\t7 & 40326 & Phoenix & Arizona & 7 & 1310 & 1519 & 1654 & $\\dots$ \\\\\n",
       "\t8 & 18959 & Las Vegas & Nevada & 8 & 1618 & 1856 & 1961 & $\\dots$ \\\\\n",
       "\t9 & 54296 & San Diego & California & 9 & 772 & 1057 & 1195 & $\\dots$ \\\\\n",
       "\t10 & 38128 & Dallas & Texas & 10 & 1158 & 1232 & 1240 & $\\dots$ \\\\\n",
       "\t11 & 10221 & Austin & Texas & 11 & 997 & 1140 & 1168 & $\\dots$ \\\\\n",
       "\t12 & 33839 & San Jose & California & 12 & 455 & 555 & 583 & $\\dots$ \\\\\n",
       "\t13 & 25290 & Jacksonville & Florida & 13 & 613 & 730 & 738 & $\\dots$ \\\\\n",
       "\t14 & 32149 & Indianapolis & Indiana & 14 & \\emph{missing} & \\emph{missing} & \\emph{missing} & $\\dots$ \\\\\n",
       "\t15 & 20330 & San Francisco & California & 15 & 419 & 485 & 553 & $\\dots$ \\\\\n",
       "\t16 & 24043 & Charlotte & North Carolina & 16 & 1101 & 1201 & 1380 & $\\dots$ \\\\\n",
       "\t17 & 18172 & Fort Worth & Texas & 17 & 862 & 1130 & 1000 & $\\dots$ \\\\\n",
       "\t18 & 7481 & Tucson & Arizona & 18 & 737 & 841 & 842 & $\\dots$ \\\\\n",
       "\t19 & 10920 & Columbus & Ohio & 19 & 832 & 975 & 939 & $\\dots$ \\\\\n",
       "\t20 & 12455 & Louisville & Kentucky & 20 & 881 & 1017 & 967 & $\\dots$ \\\\\n",
       "\t21 & 13121 & Orlando & Florida & 21 & 550 & 507 & 489 & $\\dots$ \\\\\n",
       "\t22 & 17933 & El Paso & Texas & 22 & \\emph{missing} & \\emph{missing} & \\emph{missing} & $\\dots$ \\\\\n",
       "\t23 & 17762 & Detroit & Michigan & 23 & \\emph{missing} & \\emph{missing} & \\emph{missing} & $\\dots$ \\\\\n",
       "\t24 & 11093 & Denver & Colorado & 24 & 975 & 1076 & 1241 & $\\dots$ \\\\\n",
       "\t25 & 16037 & Seattle & Washington & 25 & 615 & 641 & 689 & $\\dots$ \\\\\n",
       "\t26 & 32811 & Memphis & Tennessee & 26 & 872 & 802 & 775 & $\\dots$ \\\\\n",
       "\t27 & 44269 & Boston & Massachusetts & 27 & \\emph{missing} & \\emph{missing} & \\emph{missing} & $\\dots$ \\\\\n",
       "\t28 & 41568 & Washington & District of Columbia & 28 & 479 & 429 & 503 & $\\dots$ \\\\\n",
       "\t29 & 13373 & Portland & Oregon & 29 & 787 & 745 & 926 & $\\dots$ \\\\\n",
       "\t30 & 6118 & Nashville & Tennessee & 30 & 671 & 778 & 779 & $\\dots$ \\\\\n",
       "\t$\\dots$ & $\\dots$ & $\\dots$ & $\\dots$ & $\\dots$ & $\\dots$ & $\\dots$ & $\\dots$ &  \\\\\n",
       "\\end{tabular}\n"
      ],
      "text/plain": [
       "\u001b[1m28759×148 DataFrame\u001b[0m\n",
       "\u001b[1m   Row \u001b[0m│\u001b[1m RegionID \u001b[0m\u001b[1m RegionName                 \u001b[0m\u001b[1m StateName     \u001b[0m\u001b[1m SizeRank \u001b[0m\u001b[1m 2008-0\u001b[0m ⋯\n",
       "       │\u001b[90m Any      \u001b[0m\u001b[90m Any                        \u001b[0m\u001b[90m Any           \u001b[0m\u001b[90m Any      \u001b[0m\u001b[90m Any   \u001b[0m ⋯\n",
       "───────┼────────────────────────────────────────────────────────────────────────\n",
       "     1 │ 6181      New York                    New York       1        \u001b[90m missin\u001b[0m ⋯\n",
       "     2 │ 12447     Los Angeles                 California     2         1446\n",
       "     3 │ 39051     Houston                     Texas          3         2926\n",
       "     4 │ 17426     Chicago                     Illinois       4         2910\n",
       "     5 │ 6915      San Antonio                 Texas          5         1479   ⋯\n",
       "     6 │ 13271     Philadelphia                Pennsylvania   6         1609\n",
       "     7 │ 40326     Phoenix                     Arizona        7         1310\n",
       "     8 │ 18959     Las Vegas                   Nevada         8         1618\n",
       "     9 │ 54296     San Diego                   California     9         772    ⋯\n",
       "    10 │ 38128     Dallas                      Texas          10        1158\n",
       "    11 │ 10221     Austin                      Texas          11        997\n",
       "   ⋮   │    ⋮                  ⋮                     ⋮           ⋮         ⋮   ⋱\n",
       " 28750 │ 396952    Barnard Plantation          Maine          28750     0\n",
       " 28751 │ 397236    Windsor Place               Missouri       28751     0      ⋯\n",
       " 28752 │ 398030    Stockbridge                 Wisconsin      28752     0\n",
       " 28753 │ 398104    Mattamiscontis              Maine          28753     0\n",
       " 28754 │ 398357    Chase Stream                Maine          28754     0\n",
       " 28755 │ 398712    Bowdoin College Grant West  Maine          28755     0      ⋯\n",
       " 28756 │ 398716    Summerset                   South Dakota   28756     0\n",
       " 28757 │ 399081    Long Pond                   Maine          28757     0\n",
       " 28758 │ 737789    Hideout                     Utah           28758     1\n",
       " 28759 │ 760882    Ebeemee                     Maine          28759     0      ⋯\n",
       "\u001b[36m                                              144 columns and 28738 rows omitted\u001b[0m"
      ]
     },
     "execution_count": 104,
     "metadata": {},
     "output_type": "execute_result"
    }
   ],
   "source": [
    "D = DataFrame(G) # equivalent to DataFrame(G[1],G[2])"
   ]
  },
  {
   "cell_type": "markdown",
   "metadata": {},
   "source": [
    "Let us now learn how to merge two data sets"
   ]
  },
  {
   "cell_type": "code",
   "execution_count": 119,
   "metadata": {},
   "outputs": [
    {
     "name": "stdout",
     "output_type": "stream",
     "text": [
      "dataframe_calories = DataFrame(item = foods, calories = calories) = 4×2 DataFrame\n",
      " Row │ item      calories\n",
      "     │ String    Int64\n",
      "─────┼────────────────────\n",
      "   1 │ apple          105\n",
      "   2 │ cucumber        47\n",
      "   3 │ tomato          22\n",
      "   4 │ banana         105\n"
     ]
    },
    {
     "data": {
      "text/html": [
       "<div><div style = \"float: left;\"><span>4×2 DataFrame</span></div><div style = \"clear: both;\"></div></div><div class = \"data-frame\" style = \"overflow-x: scroll;\"><table class = \"data-frame\" style = \"margin-bottom: 6px;\"><thead><tr class = \"header\"><th class = \"rowNumber\" style = \"font-weight: bold; text-align: right;\">Row</th><th style = \"text-align: left;\">item</th><th style = \"text-align: left;\">price</th></tr><tr class = \"subheader headerLastRow\"><th class = \"rowNumber\" style = \"font-weight: bold; text-align: right;\"></th><th title = \"String\" style = \"text-align: left;\">String</th><th title = \"Float64\" style = \"text-align: left;\">Float64</th></tr></thead><tbody><tr><td class = \"rowNumber\" style = \"font-weight: bold; text-align: right;\">1</td><td style = \"text-align: left;\">apple</td><td style = \"text-align: right;\">0.85</td></tr><tr><td class = \"rowNumber\" style = \"font-weight: bold; text-align: right;\">2</td><td style = \"text-align: left;\">cucumber</td><td style = \"text-align: right;\">1.6</td></tr><tr><td class = \"rowNumber\" style = \"font-weight: bold; text-align: right;\">3</td><td style = \"text-align: left;\">tomato</td><td style = \"text-align: right;\">0.8</td></tr><tr><td class = \"rowNumber\" style = \"font-weight: bold; text-align: right;\">4</td><td style = \"text-align: left;\">banana</td><td style = \"text-align: right;\">0.6</td></tr></tbody></table></div>"
      ],
      "text/latex": [
       "\\begin{tabular}{r|cc}\n",
       "\t& item & price\\\\\n",
       "\t\\hline\n",
       "\t& String & Float64\\\\\n",
       "\t\\hline\n",
       "\t1 & apple & 0.85 \\\\\n",
       "\t2 & cucumber & 1.6 \\\\\n",
       "\t3 & tomato & 0.8 \\\\\n",
       "\t4 & banana & 0.6 \\\\\n",
       "\\end{tabular}\n"
      ],
      "text/plain": [
       "\u001b[1m4×2 DataFrame\u001b[0m\n",
       "\u001b[1m Row \u001b[0m│\u001b[1m item     \u001b[0m\u001b[1m price   \u001b[0m\n",
       "     │\u001b[90m String   \u001b[0m\u001b[90m Float64 \u001b[0m\n",
       "─────┼───────────────────\n",
       "   1 │ apple        0.85\n",
       "   2 │ cucumber     1.6\n",
       "   3 │ tomato       0.8\n",
       "   4 │ banana       0.6"
      ]
     },
     "execution_count": 119,
     "metadata": {},
     "output_type": "execute_result"
    }
   ],
   "source": [
    "# we manually create two different data sets\n",
    "foods = [\"apple\", \"cucumber\", \"tomato\", \"banana\"]\n",
    "calories = [105,47,22,105]\n",
    "prices = [0.85,1.6,0.8,0.6,]\n",
    "@show dataframe_calories = DataFrame(item=foods,calories=calories) #just want to check both dfs by using @show\n",
    "dataframe_prices = DataFrame(item=foods,price=prices)"
   ]
  },
  {
   "cell_type": "code",
   "execution_count": 121,
   "metadata": {},
   "outputs": [
    {
     "data": {
      "text/html": [
       "<div><div style = \"float: left;\"><span>4×3 DataFrame</span></div><div style = \"clear: both;\"></div></div><div class = \"data-frame\" style = \"overflow-x: scroll;\"><table class = \"data-frame\" style = \"margin-bottom: 6px;\"><thead><tr class = \"header\"><th class = \"rowNumber\" style = \"font-weight: bold; text-align: right;\">Row</th><th style = \"text-align: left;\">item</th><th style = \"text-align: left;\">calories</th><th style = \"text-align: left;\">price</th></tr><tr class = \"subheader headerLastRow\"><th class = \"rowNumber\" style = \"font-weight: bold; text-align: right;\"></th><th title = \"String\" style = \"text-align: left;\">String</th><th title = \"Int64\" style = \"text-align: left;\">Int64</th><th title = \"Float64\" style = \"text-align: left;\">Float64</th></tr></thead><tbody><tr><td class = \"rowNumber\" style = \"font-weight: bold; text-align: right;\">1</td><td style = \"text-align: left;\">apple</td><td style = \"text-align: right;\">105</td><td style = \"text-align: right;\">0.85</td></tr><tr><td class = \"rowNumber\" style = \"font-weight: bold; text-align: right;\">2</td><td style = \"text-align: left;\">cucumber</td><td style = \"text-align: right;\">47</td><td style = \"text-align: right;\">1.6</td></tr><tr><td class = \"rowNumber\" style = \"font-weight: bold; text-align: right;\">3</td><td style = \"text-align: left;\">tomato</td><td style = \"text-align: right;\">22</td><td style = \"text-align: right;\">0.8</td></tr><tr><td class = \"rowNumber\" style = \"font-weight: bold; text-align: right;\">4</td><td style = \"text-align: left;\">banana</td><td style = \"text-align: right;\">105</td><td style = \"text-align: right;\">0.6</td></tr></tbody></table></div>"
      ],
      "text/latex": [
       "\\begin{tabular}{r|ccc}\n",
       "\t& item & calories & price\\\\\n",
       "\t\\hline\n",
       "\t& String & Int64 & Float64\\\\\n",
       "\t\\hline\n",
       "\t1 & apple & 105 & 0.85 \\\\\n",
       "\t2 & cucumber & 47 & 1.6 \\\\\n",
       "\t3 & tomato & 22 & 0.8 \\\\\n",
       "\t4 & banana & 105 & 0.6 \\\\\n",
       "\\end{tabular}\n"
      ],
      "text/plain": [
       "\u001b[1m4×3 DataFrame\u001b[0m\n",
       "\u001b[1m Row \u001b[0m│\u001b[1m item     \u001b[0m\u001b[1m calories \u001b[0m\u001b[1m price   \u001b[0m\n",
       "     │\u001b[90m String   \u001b[0m\u001b[90m Int64    \u001b[0m\u001b[90m Float64 \u001b[0m\n",
       "─────┼─────────────────────────────\n",
       "   1 │ apple          105     0.85\n",
       "   2 │ cucumber        47     1.6\n",
       "   3 │ tomato          22     0.8\n",
       "   4 │ banana         105     0.6"
      ]
     },
     "execution_count": 121,
     "metadata": {},
     "output_type": "execute_result"
    }
   ],
   "source": [
    "# we now merge both data frames on the item column\n",
    "DF = innerjoin(dataframe_calories,dataframe_prices,on=:item)"
   ]
  },
  {
   "cell_type": "code",
   "execution_count": 123,
   "metadata": {},
   "outputs": [
    {
     "data": {
      "text/html": [
       "<div><div style = \"float: left;\"><span>9×6 DataFrame</span></div><div style = \"clear: both;\"></div></div><div class = \"data-frame\" style = \"overflow-x: scroll;\"><table class = \"data-frame\" style = \"margin-bottom: 6px;\"><thead><tr class = \"header\"><th class = \"rowNumber\" style = \"font-weight: bold; text-align: right;\">Row</th><th style = \"text-align: left;\">x1</th><th style = \"text-align: left;\">x2</th><th style = \"text-align: left;\">x3</th><th style = \"text-align: left;\">x4</th><th style = \"text-align: left;\">x5</th><th style = \"text-align: left;\">x6</th></tr><tr class = \"subheader headerLastRow\"><th class = \"rowNumber\" style = \"font-weight: bold; text-align: right;\"></th><th title = \"Any\" style = \"text-align: left;\">Any</th><th title = \"Any\" style = \"text-align: left;\">Any</th><th title = \"Any\" style = \"text-align: left;\">Any</th><th title = \"Any\" style = \"text-align: left;\">Any</th><th title = \"Any\" style = \"text-align: left;\">Any</th><th title = \"Any\" style = \"text-align: left;\">Any</th></tr></thead><tbody><tr><td class = \"rowNumber\" style = \"font-weight: bold; text-align: right;\">1</td><td style = \"text-align: left;\">RegionID</td><td style = \"text-align: left;\">RegionName</td><td style = \"text-align: left;\">StateName</td><td style = \"text-align: left;\">SizeRank</td><td style = \"text-align: left;\">2008-03</td><td style = \"text-align: left;\">2008-04</td></tr><tr><td class = \"rowNumber\" style = \"font-weight: bold; text-align: right;\">2</td><td style = \"text-align: left;\">6181</td><td style = \"text-align: left;\">New York</td><td style = \"text-align: left;\">New York</td><td style = \"text-align: left;\">1</td><td style = \"font-style: italic; text-align: left;\">missing</td><td style = \"font-style: italic; text-align: left;\">missing</td></tr><tr><td class = \"rowNumber\" style = \"font-weight: bold; text-align: right;\">3</td><td style = \"text-align: left;\">12447</td><td style = \"text-align: left;\">Los Angeles</td><td style = \"text-align: left;\">California</td><td style = \"text-align: left;\">2</td><td style = \"text-align: left;\">1446</td><td style = \"text-align: left;\">1705</td></tr><tr><td class = \"rowNumber\" style = \"font-weight: bold; text-align: right;\">4</td><td style = \"text-align: left;\">39051</td><td style = \"text-align: left;\">Houston</td><td style = \"text-align: left;\">Texas</td><td style = \"text-align: left;\">3</td><td style = \"text-align: left;\">2926</td><td style = \"text-align: left;\">3121</td></tr><tr><td class = \"rowNumber\" style = \"font-weight: bold; text-align: right;\">5</td><td style = \"text-align: left;\">17426</td><td style = \"text-align: left;\">Chicago</td><td style = \"text-align: left;\">Illinois</td><td style = \"text-align: left;\">4</td><td style = \"text-align: left;\">2910</td><td style = \"text-align: left;\">3022</td></tr><tr><td class = \"rowNumber\" style = \"font-weight: bold; text-align: right;\">6</td><td style = \"text-align: left;\">6915</td><td style = \"text-align: left;\">San Antonio</td><td style = \"text-align: left;\">Texas</td><td style = \"text-align: left;\">5</td><td style = \"text-align: left;\">1479</td><td style = \"text-align: left;\">1529</td></tr><tr><td class = \"rowNumber\" style = \"font-weight: bold; text-align: right;\">7</td><td style = \"text-align: left;\">13271</td><td style = \"text-align: left;\">Philadelphia</td><td style = \"text-align: left;\">Pennsylvania</td><td style = \"text-align: left;\">6</td><td style = \"text-align: left;\">1609</td><td style = \"text-align: left;\">1795</td></tr><tr><td class = \"rowNumber\" style = \"font-weight: bold; text-align: right;\">8</td><td style = \"text-align: left;\">40326</td><td style = \"text-align: left;\">Phoenix</td><td style = \"text-align: left;\">Arizona</td><td style = \"text-align: left;\">7</td><td style = \"text-align: left;\">1310</td><td style = \"text-align: left;\">1519</td></tr><tr><td class = \"rowNumber\" style = \"font-weight: bold; text-align: right;\">9</td><td style = \"text-align: left;\">18959</td><td style = \"text-align: left;\">Las Vegas</td><td style = \"text-align: left;\">Nevada</td><td style = \"text-align: left;\">8</td><td style = \"text-align: left;\">1618</td><td style = \"text-align: left;\">1856</td></tr></tbody></table></div>"
      ],
      "text/latex": [
       "\\begin{tabular}{r|cccccc}\n",
       "\t& x1 & x2 & x3 & x4 & x5 & x6\\\\\n",
       "\t\\hline\n",
       "\t& Any & Any & Any & Any & Any & Any\\\\\n",
       "\t\\hline\n",
       "\t1 & RegionID & RegionName & StateName & SizeRank & 2008-03 & 2008-04 \\\\\n",
       "\t2 & 6181 & New York & New York & 1 & \\emph{missing} & \\emph{missing} \\\\\n",
       "\t3 & 12447 & Los Angeles & California & 2 & 1446 & 1705 \\\\\n",
       "\t4 & 39051 & Houston & Texas & 3 & 2926 & 3121 \\\\\n",
       "\t5 & 17426 & Chicago & Illinois & 4 & 2910 & 3022 \\\\\n",
       "\t6 & 6915 & San Antonio & Texas & 5 & 1479 & 1529 \\\\\n",
       "\t7 & 13271 & Philadelphia & Pennsylvania & 6 & 1609 & 1795 \\\\\n",
       "\t8 & 40326 & Phoenix & Arizona & 7 & 1310 & 1519 \\\\\n",
       "\t9 & 18959 & Las Vegas & Nevada & 8 & 1618 & 1856 \\\\\n",
       "\\end{tabular}\n"
      ],
      "text/plain": [
       "\u001b[1m9×6 DataFrame\u001b[0m\n",
       "\u001b[1m Row \u001b[0m│\u001b[1m x1       \u001b[0m\u001b[1m x2           \u001b[0m\u001b[1m x3           \u001b[0m\u001b[1m x4       \u001b[0m\u001b[1m x5      \u001b[0m\u001b[1m x6      \u001b[0m\n",
       "     │\u001b[90m Any      \u001b[0m\u001b[90m Any          \u001b[0m\u001b[90m Any          \u001b[0m\u001b[90m Any      \u001b[0m\u001b[90m Any     \u001b[0m\u001b[90m Any     \u001b[0m\n",
       "─────┼──────────────────────────────────────────────────────────────────\n",
       "   1 │ RegionID  RegionName    StateName     SizeRank  2008-03  2008-04\n",
       "   2 │ 6181      New York      New York      1        \u001b[90m missing \u001b[0m\u001b[90m missing \u001b[0m\n",
       "   3 │ 12447     Los Angeles   California    2         1446     1705\n",
       "   4 │ 39051     Houston       Texas         3         2926     3121\n",
       "   5 │ 17426     Chicago       Illinois      4         2910     3022\n",
       "   6 │ 6915      San Antonio   Texas         5         1479     1529\n",
       "   7 │ 13271     Philadelphia  Pennsylvania  6         1609     1795\n",
       "   8 │ 40326     Phoenix       Arizona       7         1310     1519\n",
       "   9 │ 18959     Las Vegas     Nevada        8         1618     1856"
      ]
     },
     "execution_count": 123,
     "metadata": {},
     "output_type": "execute_result"
    }
   ],
   "source": [
    "# we can also use the DataFrame constructor on a Matrix\n",
    "DataFrame(T, :auto)"
   ]
  },
  {
   "cell_type": "markdown",
   "metadata": {},
   "source": [
    "## ⬇️ Importing your data\n",
    "\n",
    "Often, the data you want to import is not stored in plain text, and you might want to import different kinds of types. Here we will go over importing `jld`, `npz`, `rda`, and `mat` files. Hopefully, these four will capture the types from four common programming languages used in Data Science (Julia, Python, R, Matlab).\n",
    "\n",
    "We will use a toy example here of a very small matrix. But the same syntax will hold for bigger files.\n",
    "\n",
    "```\n",
    "4×5 Array{Int64,2}:\n",
    " 2  1446  1705  1795  1890\n",
    " 3  2926  3121  3220  3405\n",
    " 4  2910  3022  2937  3224\n",
    " 5  1479  1529  1582  1761\n",
    " ```"
   ]
  },
  {
   "cell_type": "markdown",
   "metadata": {},
   "source": [
    "### Julia"
   ]
  },
  {
   "cell_type": "code",
   "execution_count": 150,
   "metadata": {},
   "outputs": [
    {
     "name": "stdout",
     "output_type": "stream",
     "text": [
      "jld_data = Dict{String, Any}(\"tempdata\" => [2 1446 1705 1795 1890; 3 2926 3121 3220 3405; 4 2910 3022 2937 3224; 5 1479 1529 1582 1761])\n"
     ]
    }
   ],
   "source": [
    "using JLD\n",
    "jld_data = JLD.load(\"data/mytempdata.jld\")\n",
    "save(\"mywrite.jld\", \"A\", jld_data) #we have to store the data with a key, we are using key \"A\" now.\n",
    "\n",
    "@show jld_data;"
   ]
  },
  {
   "cell_type": "code",
   "execution_count": 152,
   "metadata": {},
   "outputs": [
    {
     "data": {
      "text/plain": [
       "Dict{String, Any} with 1 entry:\n",
       "  \"tempdata\" => [2 1446 … 1795 1890; 3 2926 … 3220 3405; 4 2910 … 2937 3224; 5 …"
      ]
     },
     "execution_count": 152,
     "metadata": {},
     "output_type": "execute_result"
    }
   ],
   "source": [
    "#let's load the data again and access it via the key \"A\"\n",
    "loaded = JLD.load(\"mywrite.jld\") \n",
    "loaded[\"A\"]"
   ]
  },
  {
   "cell_type": "markdown",
   "metadata": {},
   "source": [
    "### Python"
   ]
  },
  {
   "cell_type": "code",
   "execution_count": 158,
   "metadata": {},
   "outputs": [
    {
     "name": "stdout",
     "output_type": "stream",
     "text": [
      "npz_data = [2 1446 1705 1795 1890; 3 2926 3121 3220 3405; 4 2910 3022 2937 3224; 5 1479 1529 1582 1761]\n"
     ]
    }
   ],
   "source": [
    "using NPZ\n",
    "npz_data = npzread(\"data/mytempdata.npz\")\n",
    "npzwrite(\"mywrite.npz\", npz_data)\n",
    "\n",
    "@show npz_data;"
   ]
  },
  {
   "cell_type": "markdown",
   "metadata": {},
   "source": [
    "### R"
   ]
  },
  {
   "cell_type": "code",
   "execution_count": 172,
   "metadata": {},
   "outputs": [
    {
     "name": "stderr",
     "output_type": "stream",
     "text": [
      "\u001b[36m\u001b[1m[ \u001b[22m\u001b[39m\u001b[36m\u001b[1mInfo: \u001b[22m\u001b[39mPrecompiling RCall [6f49c342-dc21-5d91-9882-a32aef131414] \n"
     ]
    },
    {
     "data": {
      "text/plain": [
       "RObject{NilSxp}\n",
       "NULL\n"
      ]
     },
     "execution_count": 172,
     "metadata": {},
     "output_type": "execute_result"
    }
   ],
   "source": [
    "using RData\n",
    "R_data = RData.load(\"data/mytempdata.rda\")\n",
    "# We'll need RCall to save here. https://github.com/JuliaData/RData.jl/issues/56\n",
    "using RCall\n",
    "@rput R_data\n",
    "R\"save(R_data, file=\\\"mywrite.rda\\\")\""
   ]
  },
  {
   "cell_type": "markdown",
   "metadata": {},
   "source": [
    "### MATLAB"
   ]
  },
  {
   "cell_type": "code",
   "execution_count": 180,
   "metadata": {},
   "outputs": [],
   "source": [
    "using MAT\n",
    "Matlab_data = matread(\"data/mytempdata.mat\")\n",
    "matwrite(\"mywrite.mat\",Matlab_data)"
   ]
  },
  {
   "cell_type": "code",
   "execution_count": 182,
   "metadata": {},
   "outputs": [
    {
     "name": "stdout",
     "output_type": "stream",
     "text": [
      "typeof(jld_data) = Dict{String, Any}\n",
      "typeof(npz_data) = Matrix{Int64}\n",
      "typeof(R_data) = Dict{String, Any}\n",
      "typeof(Matlab_data) = Dict{String, Any}\n"
     ]
    }
   ],
   "source": [
    "@show typeof(jld_data)\n",
    "@show typeof(npz_data)\n",
    "@show typeof(R_data)\n",
    "@show typeof(Matlab_data)\n",
    ";"
   ]
  },
  {
   "cell_type": "markdown",
   "metadata": {},
   "source": [
    "# 🔢 Time to process the data from Julia\n",
    "We will mainly cover `Matrix` (or `Vector`), `DataFrame`s, and `dict`s (or dictionaries). Let's bring back our programming languages dataset and start playing it the matrix it's stored in."
   ]
  },
  {
   "cell_type": "code",
   "execution_count": 184,
   "metadata": {},
   "outputs": [
    {
     "data": {
      "text/plain": [
       "73×2 Matrix{Any}:\n",
       " 1951  \"Regional Assembly Language\"\n",
       " 1952  \"Autocode\"\n",
       " 1954  \"IPL\"\n",
       " 1955  \"FLOW-MATIC\"\n",
       " 1957  \"FORTRAN\"\n",
       " 1957  \"COMTRAN\"\n",
       " 1958  \"LISP\"\n",
       " 1958  \"ALGOL 58\"\n",
       " 1959  \"FACT\"\n",
       " 1959  \"COBOL\"\n",
       " 1959  \"RPG\"\n",
       " 1962  \"APL\"\n",
       " 1962  \"Simula\"\n",
       "    ⋮  \n",
       " 2003  \"Scala\"\n",
       " 2005  \"F#\"\n",
       " 2006  \"PowerShell\"\n",
       " 2007  \"Clojure\"\n",
       " 2009  \"Go\"\n",
       " 2010  \"Rust\"\n",
       " 2011  \"Dart\"\n",
       " 2011  \"Kotlin\"\n",
       " 2011  \"Red\"\n",
       " 2011  \"Elixir\"\n",
       " 2012  \"Julia\"\n",
       " 2014  \"Swift\""
      ]
     },
     "execution_count": 184,
     "metadata": {},
     "output_type": "execute_result"
    }
   ],
   "source": [
    "P"
   ]
  },
  {
   "cell_type": "markdown",
   "metadata": {},
   "source": [
    "Here are some quick questions we might want to ask about this simple data.\n",
    "- Which year was was a given language invented?\n",
    "- How many languages were created in a given year?"
   ]
  },
  {
   "cell_type": "code",
   "execution_count": 186,
   "metadata": {},
   "outputs": [
    {
     "data": {
      "text/plain": [
       "2012"
      ]
     },
     "execution_count": 186,
     "metadata": {},
     "output_type": "execute_result"
    }
   ],
   "source": [
    "# Q1: Which year was was a given language invented?\n",
    "function year_created(P,language::String)\n",
    "    loc = findfirst(P[:,2] .== language)\n",
    "    return P[loc,1]\n",
    "end\n",
    "year_created(P,\"Julia\")"
   ]
  },
  {
   "cell_type": "code",
   "execution_count": 192,
   "metadata": {},
   "outputs": [
    {
     "ename": "LoadError",
     "evalue": "ArgumentError: invalid index: nothing of type Nothing",
     "output_type": "error",
     "traceback": [
      "ArgumentError: invalid index: nothing of type Nothing",
      "",
      "Stacktrace:",
      " [1] to_index(i::Nothing)",
      "   @ Base .\\indices.jl:315",
      " [2] to_index(A::Matrix{Any}, i::Nothing)",
      "   @ Base .\\indices.jl:292",
      " [3] to_indices",
      "   @ .\\indices.jl:368 [inlined]",
      " [4] to_indices",
      "   @ .\\indices.jl:359 [inlined]",
      " [5] getindex(::Matrix{Any}, ::Nothing, ::Int64)",
      "   @ Base .\\abstractarray.jl:1312",
      " [6] year_created(P::Matrix{Any}, language::String)",
      "   @ Main .\\In[186]:4",
      " [7] top-level scope",
      "   @ In[192]:1"
     ]
    }
   ],
   "source": [
    "year_created(P,\"W\") #W does not exist"
   ]
  },
  {
   "cell_type": "code",
   "execution_count": 194,
   "metadata": {},
   "outputs": [
    {
     "ename": "LoadError",
     "evalue": "Error: Language not found.",
     "output_type": "error",
     "traceback": [
      "Error: Language not found.",
      "",
      "Stacktrace:",
      " [1] error(s::String)",
      "   @ Base .\\error.jl:35",
      " [2] year_created_handle_error(P::Matrix{Any}, language::String)",
      "   @ Main .\\In[194]:4",
      " [3] top-level scope",
      "   @ In[194]:6"
     ]
    }
   ],
   "source": [
    "function year_created_handle_error(P,language::String)\n",
    "    loc = findfirst(P[:,2] .== language)\n",
    "    !isnothing(loc) && return P[loc,1]\n",
    "    error(\"Error: Language not found.\") #Let's add an error message now\n",
    "end\n",
    "year_created_handle_error(P,\"W\")"
   ]
  },
  {
   "cell_type": "code",
   "execution_count": 196,
   "metadata": {},
   "outputs": [
    {
     "data": {
      "text/plain": [
       "4"
      ]
     },
     "execution_count": 196,
     "metadata": {},
     "output_type": "execute_result"
    }
   ],
   "source": [
    "# Q2: How many languages were created in a given year?\n",
    "function how_many_per_year(P,year::Int64)\n",
    "    year_count = length(findall(P[:,1].==year))\n",
    "    return year_count\n",
    "end\n",
    "how_many_per_year(P,2011)"
   ]
  },
  {
   "cell_type": "markdown",
   "metadata": {},
   "source": [
    "Now let's try to store this data in a DataFrame..."
   ]
  },
  {
   "cell_type": "code",
   "execution_count": 198,
   "metadata": {},
   "outputs": [
    {
     "data": {
      "text/html": [
       "<div><div style = \"float: left;\"><span>73×2 DataFrame</span></div><div style = \"float: right;\"><span style = \"font-style: italic;\">48 rows omitted</span></div><div style = \"clear: both;\"></div></div><div class = \"data-frame\" style = \"overflow-x: scroll;\"><table class = \"data-frame\" style = \"margin-bottom: 6px;\"><thead><tr class = \"header\"><th class = \"rowNumber\" style = \"font-weight: bold; text-align: right;\">Row</th><th style = \"text-align: left;\">year</th><th style = \"text-align: left;\">language</th></tr><tr class = \"subheader headerLastRow\"><th class = \"rowNumber\" style = \"font-weight: bold; text-align: right;\"></th><th title = \"Int64\" style = \"text-align: left;\">Int64</th><th title = \"String31\" style = \"text-align: left;\">String31</th></tr></thead><tbody><tr><td class = \"rowNumber\" style = \"font-weight: bold; text-align: right;\">1</td><td style = \"text-align: right;\">1951</td><td style = \"text-align: left;\">Regional Assembly Language</td></tr><tr><td class = \"rowNumber\" style = \"font-weight: bold; text-align: right;\">2</td><td style = \"text-align: right;\">1952</td><td style = \"text-align: left;\">Autocode</td></tr><tr><td class = \"rowNumber\" style = \"font-weight: bold; text-align: right;\">3</td><td style = \"text-align: right;\">1954</td><td style = \"text-align: left;\">IPL</td></tr><tr><td class = \"rowNumber\" style = \"font-weight: bold; text-align: right;\">4</td><td style = \"text-align: right;\">1955</td><td style = \"text-align: left;\">FLOW-MATIC</td></tr><tr><td class = \"rowNumber\" style = \"font-weight: bold; text-align: right;\">5</td><td style = \"text-align: right;\">1957</td><td style = \"text-align: left;\">FORTRAN</td></tr><tr><td class = \"rowNumber\" style = \"font-weight: bold; text-align: right;\">6</td><td style = \"text-align: right;\">1957</td><td style = \"text-align: left;\">COMTRAN</td></tr><tr><td class = \"rowNumber\" style = \"font-weight: bold; text-align: right;\">7</td><td style = \"text-align: right;\">1958</td><td style = \"text-align: left;\">LISP</td></tr><tr><td class = \"rowNumber\" style = \"font-weight: bold; text-align: right;\">8</td><td style = \"text-align: right;\">1958</td><td style = \"text-align: left;\">ALGOL 58</td></tr><tr><td class = \"rowNumber\" style = \"font-weight: bold; text-align: right;\">9</td><td style = \"text-align: right;\">1959</td><td style = \"text-align: left;\">FACT</td></tr><tr><td class = \"rowNumber\" style = \"font-weight: bold; text-align: right;\">10</td><td style = \"text-align: right;\">1959</td><td style = \"text-align: left;\">COBOL</td></tr><tr><td class = \"rowNumber\" style = \"font-weight: bold; text-align: right;\">11</td><td style = \"text-align: right;\">1959</td><td style = \"text-align: left;\">RPG</td></tr><tr><td class = \"rowNumber\" style = \"font-weight: bold; text-align: right;\">12</td><td style = \"text-align: right;\">1962</td><td style = \"text-align: left;\">APL</td></tr><tr><td class = \"rowNumber\" style = \"font-weight: bold; text-align: right;\">13</td><td style = \"text-align: right;\">1962</td><td style = \"text-align: left;\">Simula</td></tr><tr><td style = \"text-align: right;\">&vellip;</td><td style = \"text-align: right;\">&vellip;</td><td style = \"text-align: right;\">&vellip;</td></tr><tr><td class = \"rowNumber\" style = \"font-weight: bold; text-align: right;\">62</td><td style = \"text-align: right;\">2003</td><td style = \"text-align: left;\">Scala</td></tr><tr><td class = \"rowNumber\" style = \"font-weight: bold; text-align: right;\">63</td><td style = \"text-align: right;\">2005</td><td style = \"text-align: left;\">F#</td></tr><tr><td class = \"rowNumber\" style = \"font-weight: bold; text-align: right;\">64</td><td style = \"text-align: right;\">2006</td><td style = \"text-align: left;\">PowerShell</td></tr><tr><td class = \"rowNumber\" style = \"font-weight: bold; text-align: right;\">65</td><td style = \"text-align: right;\">2007</td><td style = \"text-align: left;\">Clojure</td></tr><tr><td class = \"rowNumber\" style = \"font-weight: bold; text-align: right;\">66</td><td style = \"text-align: right;\">2009</td><td style = \"text-align: left;\">Go</td></tr><tr><td class = \"rowNumber\" style = \"font-weight: bold; text-align: right;\">67</td><td style = \"text-align: right;\">2010</td><td style = \"text-align: left;\">Rust</td></tr><tr><td class = \"rowNumber\" style = \"font-weight: bold; text-align: right;\">68</td><td style = \"text-align: right;\">2011</td><td style = \"text-align: left;\">Dart</td></tr><tr><td class = \"rowNumber\" style = \"font-weight: bold; text-align: right;\">69</td><td style = \"text-align: right;\">2011</td><td style = \"text-align: left;\">Kotlin</td></tr><tr><td class = \"rowNumber\" style = \"font-weight: bold; text-align: right;\">70</td><td style = \"text-align: right;\">2011</td><td style = \"text-align: left;\">Red</td></tr><tr><td class = \"rowNumber\" style = \"font-weight: bold; text-align: right;\">71</td><td style = \"text-align: right;\">2011</td><td style = \"text-align: left;\">Elixir</td></tr><tr><td class = \"rowNumber\" style = \"font-weight: bold; text-align: right;\">72</td><td style = \"text-align: right;\">2012</td><td style = \"text-align: left;\">Julia</td></tr><tr><td class = \"rowNumber\" style = \"font-weight: bold; text-align: right;\">73</td><td style = \"text-align: right;\">2014</td><td style = \"text-align: left;\">Swift</td></tr></tbody></table></div>"
      ],
      "text/latex": [
       "\\begin{tabular}{r|cc}\n",
       "\t& year & language\\\\\n",
       "\t\\hline\n",
       "\t& Int64 & String31\\\\\n",
       "\t\\hline\n",
       "\t1 & 1951 & Regional Assembly Language \\\\\n",
       "\t2 & 1952 & Autocode \\\\\n",
       "\t3 & 1954 & IPL \\\\\n",
       "\t4 & 1955 & FLOW-MATIC \\\\\n",
       "\t5 & 1957 & FORTRAN \\\\\n",
       "\t6 & 1957 & COMTRAN \\\\\n",
       "\t7 & 1958 & LISP \\\\\n",
       "\t8 & 1958 & ALGOL 58 \\\\\n",
       "\t9 & 1959 & FACT \\\\\n",
       "\t10 & 1959 & COBOL \\\\\n",
       "\t11 & 1959 & RPG \\\\\n",
       "\t12 & 1962 & APL \\\\\n",
       "\t13 & 1962 & Simula \\\\\n",
       "\t14 & 1962 & SNOBOL \\\\\n",
       "\t15 & 1963 & CPL \\\\\n",
       "\t16 & 1964 & Speakeasy \\\\\n",
       "\t17 & 1964 & BASIC \\\\\n",
       "\t18 & 1964 & PL/I \\\\\n",
       "\t19 & 1966 & JOSS \\\\\n",
       "\t20 & 1967 & BCPL \\\\\n",
       "\t21 & 1968 & Logo \\\\\n",
       "\t22 & 1969 & B \\\\\n",
       "\t23 & 1970 & Pascal \\\\\n",
       "\t24 & 1970 & Forth \\\\\n",
       "\t25 & 1972 & C \\\\\n",
       "\t26 & 1972 & Smalltalk \\\\\n",
       "\t27 & 1972 & Prolog \\\\\n",
       "\t28 & 1973 & ML \\\\\n",
       "\t29 & 1975 & Scheme \\\\\n",
       "\t30 & 1978 & SQL  \\\\\n",
       "\t$\\dots$ & $\\dots$ & $\\dots$ \\\\\n",
       "\\end{tabular}\n"
      ],
      "text/plain": [
       "\u001b[1m73×2 DataFrame\u001b[0m\n",
       "\u001b[1m Row \u001b[0m│\u001b[1m year  \u001b[0m\u001b[1m language                   \u001b[0m\n",
       "     │\u001b[90m Int64 \u001b[0m\u001b[90m String31                   \u001b[0m\n",
       "─────┼───────────────────────────────────\n",
       "   1 │  1951  Regional Assembly Language\n",
       "   2 │  1952  Autocode\n",
       "   3 │  1954  IPL\n",
       "   4 │  1955  FLOW-MATIC\n",
       "   5 │  1957  FORTRAN\n",
       "   6 │  1957  COMTRAN\n",
       "   7 │  1958  LISP\n",
       "   8 │  1958  ALGOL 58\n",
       "   9 │  1959  FACT\n",
       "  10 │  1959  COBOL\n",
       "  11 │  1959  RPG\n",
       "  ⋮  │   ⋮                ⋮\n",
       "  64 │  2006  PowerShell\n",
       "  65 │  2007  Clojure\n",
       "  66 │  2009  Go\n",
       "  67 │  2010  Rust\n",
       "  68 │  2011  Dart\n",
       "  69 │  2011  Kotlin\n",
       "  70 │  2011  Red\n",
       "  71 │  2011  Elixir\n",
       "  72 │  2012  Julia\n",
       "  73 │  2014  Swift\n",
       "\u001b[36m                          52 rows omitted\u001b[0m"
      ]
     },
     "execution_count": 198,
     "metadata": {},
     "output_type": "execute_result"
    }
   ],
   "source": [
    "P_df = C #DataFrame(year = P[:,1], language = P[:,2]) # or DataFrame(P)"
   ]
  },
  {
   "cell_type": "code",
   "execution_count": 35,
   "metadata": {},
   "outputs": [],
   "source": [
    "# Even better, since we know the types of each column, we can create the DataFrame as follows:\n",
    "# P_df = DataFrame(year = Int.(P[:,1]), language = string.(P[:,2]))"
   ]
  },
  {
   "cell_type": "markdown",
   "metadata": {},
   "source": [
    "And now let's answer the same questions we just answered..."
   ]
  },
  {
   "cell_type": "code",
   "execution_count": 200,
   "metadata": {},
   "outputs": [
    {
     "data": {
      "text/plain": [
       "2012"
      ]
     },
     "execution_count": 200,
     "metadata": {},
     "output_type": "execute_result"
    }
   ],
   "source": [
    "# Q1: Which year was was a given language invented?\n",
    "# it's a little more intuitive and you don't need to remember the column ids\n",
    "function year_created(P_df,language::String)\n",
    "    loc = findfirst(P_df.language .== language)\n",
    "    return P_df.year[loc]\n",
    "end\n",
    "year_created(P_df,\"Julia\")"
   ]
  },
  {
   "cell_type": "code",
   "execution_count": 202,
   "metadata": {},
   "outputs": [
    {
     "ename": "LoadError",
     "evalue": "ArgumentError: invalid index: nothing of type Nothing",
     "output_type": "error",
     "traceback": [
      "ArgumentError: invalid index: nothing of type Nothing",
      "",
      "Stacktrace:",
      " [1] to_index(i::Nothing)",
      "   @ Base .\\indices.jl:315",
      " [2] to_index(A::Vector{Int64}, i::Nothing)",
      "   @ Base .\\indices.jl:292",
      " [3] to_indices",
      "   @ .\\indices.jl:368 [inlined]",
      " [4] to_indices",
      "   @ .\\indices.jl:360 [inlined]",
      " [5] getindex(A::Vector{Int64}, I::Nothing)",
      "   @ Base .\\abstractarray.jl:1312",
      " [6] year_created(P_df::DataFrame, language::String)",
      "   @ Main .\\In[200]:5",
      " [7] top-level scope",
      "   @ In[202]:1"
     ]
    }
   ],
   "source": [
    "year_created(P_df,\"W\")"
   ]
  },
  {
   "cell_type": "code",
   "execution_count": 204,
   "metadata": {},
   "outputs": [
    {
     "ename": "LoadError",
     "evalue": "Error: Language not found.",
     "output_type": "error",
     "traceback": [
      "Error: Language not found.",
      "",
      "Stacktrace:",
      " [1] error(s::String)",
      "   @ Base .\\error.jl:35",
      " [2] year_created_handle_error(P_df::DataFrame, language::String)",
      "   @ Main .\\In[204]:4",
      " [3] top-level scope",
      "   @ In[204]:6"
     ]
    }
   ],
   "source": [
    "function year_created_handle_error(P_df,language::String)\n",
    "    loc = findfirst(P_df.language .== language)\n",
    "    !isnothing(loc) && return P_df.year[loc]\n",
    "    error(\"Error: Language not found.\") #again, here we handle the error\n",
    "end\n",
    "year_created_handle_error(P_df,\"W\")"
   ]
  },
  {
   "cell_type": "code",
   "execution_count": 206,
   "metadata": {},
   "outputs": [
    {
     "data": {
      "text/plain": [
       "4"
      ]
     },
     "execution_count": 206,
     "metadata": {},
     "output_type": "execute_result"
    }
   ],
   "source": [
    "# Q2: How many languages were created in a given year?\n",
    "function how_many_per_year(P_df,year::Int64)\n",
    "    year_count = length(findall(P_df.year.==year))\n",
    "    return year_count\n",
    "end\n",
    "how_many_per_year(P_df,2011)"
   ]
  },
  {
   "cell_type": "markdown",
   "metadata": {},
   "source": [
    "Next, we'll use dictionaries. A quick way to create a dictionary is with the `Dict()` command. But this creates a dictionary without types. Here, we will specify the types of this dictionary."
   ]
  },
  {
   "cell_type": "code",
   "execution_count": 208,
   "metadata": {},
   "outputs": [
    {
     "data": {
      "text/plain": [
       "Dict{Any, Any} with 3 entries:\n",
       "  \"B\" => 2\n",
       "  \"A\" => 1\n",
       "  1   => [1, 2]"
      ]
     },
     "execution_count": 208,
     "metadata": {},
     "output_type": "execute_result"
    }
   ],
   "source": [
    "# A quick example to show how to build a dictionary\n",
    "Dict([(\"A\", 1), (\"B\", 2),(1,[1,2])])"
   ]
  },
  {
   "cell_type": "code",
   "execution_count": 212,
   "metadata": {},
   "outputs": [
    {
     "data": {
      "text/plain": [
       "Dict{Integer, Vector{String}}()"
      ]
     },
     "execution_count": 212,
     "metadata": {},
     "output_type": "execute_result"
    }
   ],
   "source": [
    "P_dictionary = Dict{Integer,Vector{String}}() #here we specify the type of variables for the dictionary"
   ]
  },
  {
   "cell_type": "code",
   "execution_count": 42,
   "metadata": {},
   "outputs": [],
   "source": [
    "#P_dictionary[67] = [\"julia\",\"programming\"]"
   ]
  },
  {
   "cell_type": "code",
   "execution_count": 214,
   "metadata": {},
   "outputs": [
    {
     "ename": "LoadError",
     "evalue": "MethodError: \u001b[0mCannot `convert` an object of type \u001b[92mString\u001b[39m\u001b[0m to an object of type \u001b[91mInteger\u001b[39m\nThe function `convert` exists, but no method is defined for this combination of argument types.\n\n\u001b[0mClosest candidates are:\n\u001b[0m  convert(::Type{T}, \u001b[91m::EzXML.NodeType\u001b[39m) where T<:Integer\n\u001b[0m\u001b[90m   @\u001b[39m \u001b[33mEzXML\u001b[39m \u001b[90mC:\\Users\\roell\\.julia\\packages\\EzXML\\qbIRq\\src\\\u001b[39m\u001b[90m\u001b[4mnode.jl:36\u001b[24m\u001b[39m\n\u001b[0m  convert(::Type{T}, \u001b[91m::EzXML.ReaderType\u001b[39m) where T<:Integer\n\u001b[0m\u001b[90m   @\u001b[39m \u001b[33mEzXML\u001b[39m \u001b[90mC:\\Users\\roell\\.julia\\packages\\EzXML\\qbIRq\\src\\\u001b[39m\u001b[90m\u001b[4mstreamreader.jl:74\u001b[24m\u001b[39m\n\u001b[0m  convert(::Type{S}, \u001b[91m::CategoricalArrays.CategoricalValue\u001b[39m) where S<:Union{AbstractChar, AbstractString, Number}\n\u001b[0m\u001b[90m   @\u001b[39m \u001b[36mCategoricalArrays\u001b[39m \u001b[90mC:\\Users\\roell\\.julia\\packages\\CategoricalArrays\\0yLZN\\src\\\u001b[39m\u001b[90m\u001b[4mvalue.jl:92\u001b[24m\u001b[39m\n\u001b[0m  ...\n",
     "output_type": "error",
     "traceback": [
      "MethodError: \u001b[0mCannot `convert` an object of type \u001b[92mString\u001b[39m\u001b[0m to an object of type \u001b[91mInteger\u001b[39m\nThe function `convert` exists, but no method is defined for this combination of argument types.\n\n\u001b[0mClosest candidates are:\n\u001b[0m  convert(::Type{T}, \u001b[91m::EzXML.NodeType\u001b[39m) where T<:Integer\n\u001b[0m\u001b[90m   @\u001b[39m \u001b[33mEzXML\u001b[39m \u001b[90mC:\\Users\\roell\\.julia\\packages\\EzXML\\qbIRq\\src\\\u001b[39m\u001b[90m\u001b[4mnode.jl:36\u001b[24m\u001b[39m\n\u001b[0m  convert(::Type{T}, \u001b[91m::EzXML.ReaderType\u001b[39m) where T<:Integer\n\u001b[0m\u001b[90m   @\u001b[39m \u001b[33mEzXML\u001b[39m \u001b[90mC:\\Users\\roell\\.julia\\packages\\EzXML\\qbIRq\\src\\\u001b[39m\u001b[90m\u001b[4mstreamreader.jl:74\u001b[24m\u001b[39m\n\u001b[0m  convert(::Type{S}, \u001b[91m::CategoricalArrays.CategoricalValue\u001b[39m) where S<:Union{AbstractChar, AbstractString, Number}\n\u001b[0m\u001b[90m   @\u001b[39m \u001b[36mCategoricalArrays\u001b[39m \u001b[90mC:\\Users\\roell\\.julia\\packages\\CategoricalArrays\\0yLZN\\src\\\u001b[39m\u001b[90m\u001b[4mvalue.jl:92\u001b[24m\u001b[39m\n\u001b[0m  ...\n",
      "",
      "Stacktrace:",
      " [1] setindex!(h::Dict{Integer, Vector{String}}, v0::Int64, key0::String)",
      "   @ Base .\\dict.jl:346",
      " [2] top-level scope",
      "   @ In[214]:2"
     ]
    }
   ],
   "source": [
    "# this is not going to work.\n",
    "P_dictionary[\"julia\"] = 7"
   ]
  },
  {
   "cell_type": "markdown",
   "metadata": {},
   "source": [
    "Now, let's populate the dictionary with years as keys and vectors that hold all the programming languages created in each year as their values. Even though this looks like more work, we often need to do it just once."
   ]
  },
  {
   "cell_type": "code",
   "execution_count": 216,
   "metadata": {},
   "outputs": [],
   "source": [
    "dict = Dict{Integer,Vector{String}}()\n",
    "for i = 1:size(P,1)\n",
    "    year,lang = P[i,:]\n",
    "    if year in keys(dict)\n",
    "        dict[year] = push!(dict[year],lang) \n",
    "        # note that push! is not our favorite thing to do in Julia, \n",
    "        # but we're focusing on correctness rather than speed here\n",
    "    else\n",
    "        dict[year] = [lang]\n",
    "    end\n",
    "end"
   ]
  },
  {
   "cell_type": "code",
   "execution_count": 218,
   "metadata": {},
   "outputs": [],
   "source": [
    "# Though a smarter way to do this is:\n",
    "curyear = P_df.year[1]\n",
    "P_dictionary[curyear] = [P_df.language[1]]\n",
    "for (i,nextyear) in enumerate(P_df.year[2:end])\n",
    "    if nextyear == curyear\n",
    "        #same key\n",
    "        P_dictionary[curyear] = push!(P_dictionary[curyear],P_df.language[i+1])\n",
    "        # note that push! is not our favorite thing to do in Julia, \n",
    "        # but we're focusing on correctness rather than speed here\n",
    "    else\n",
    "        curyear = nextyear\n",
    "        P_dictionary[curyear] = [P_df.language[i+1]]\n",
    "    end\n",
    "end"
   ]
  },
  {
   "cell_type": "code",
   "execution_count": 220,
   "metadata": {},
   "outputs": [
    {
     "data": {
      "text/plain": [
       "45"
      ]
     },
     "execution_count": 220,
     "metadata": {},
     "output_type": "execute_result"
    }
   ],
   "source": [
    "length(keys(P_dictionary))"
   ]
  },
  {
   "cell_type": "code",
   "execution_count": 222,
   "metadata": {},
   "outputs": [
    {
     "data": {
      "text/plain": [
       "45"
      ]
     },
     "execution_count": 222,
     "metadata": {},
     "output_type": "execute_result"
    }
   ],
   "source": [
    "length(unique(P[:,1]))"
   ]
  },
  {
   "cell_type": "code",
   "execution_count": 224,
   "metadata": {},
   "outputs": [
    {
     "data": {
      "text/plain": [
       "2012"
      ]
     },
     "execution_count": 224,
     "metadata": {},
     "output_type": "execute_result"
    }
   ],
   "source": [
    "# Q1: Which year was was a given language invented?\n",
    "# now instead of looking in one long vector, we will look in many small vectors\n",
    "function year_created(P_dictionary,language::String)\n",
    "    keys_vec = collect(keys(P_dictionary))\n",
    "    lookup = map(keyid -> findfirst(P_dictionary[keyid].==language),keys_vec)\n",
    "    # now the lookup vector has `nothing` or a numeric value. We want to find the index of the numeric value.\n",
    "    return keys_vec[findfirst((!isnothing).(lookup))]\n",
    "end\n",
    "year_created(P_dictionary,\"Julia\")"
   ]
  },
  {
   "cell_type": "code",
   "execution_count": 226,
   "metadata": {},
   "outputs": [
    {
     "data": {
      "text/plain": [
       "4"
      ]
     },
     "execution_count": 226,
     "metadata": {},
     "output_type": "execute_result"
    }
   ],
   "source": [
    "# Q2: How many languages were created in a given year?\n",
    "how_many_per_year(P_dictionary,year::Int64) = length(P_dictionary[year])\n",
    "how_many_per_year(P_dictionary,2011)"
   ]
  },
  {
   "cell_type": "markdown",
   "metadata": {},
   "source": [
    "# 📝 A note about missing data"
   ]
  },
  {
   "cell_type": "code",
   "execution_count": 228,
   "metadata": {},
   "outputs": [
    {
     "data": {
      "text/html": [
       "<div><div style = \"float: left;\"><span>73×2 DataFrame</span></div><div style = \"float: right;\"><span style = \"font-style: italic;\">48 rows omitted</span></div><div style = \"clear: both;\"></div></div><div class = \"data-frame\" style = \"overflow-x: scroll;\"><table class = \"data-frame\" style = \"margin-bottom: 6px;\"><thead><tr class = \"header\"><th class = \"rowNumber\" style = \"font-weight: bold; text-align: right;\">Row</th><th style = \"text-align: left;\">year</th><th style = \"text-align: left;\">language</th></tr><tr class = \"subheader headerLastRow\"><th class = \"rowNumber\" style = \"font-weight: bold; text-align: right;\"></th><th title = \"Any\" style = \"text-align: left;\">Any</th><th title = \"Any\" style = \"text-align: left;\">Any</th></tr></thead><tbody><tr><td class = \"rowNumber\" style = \"font-weight: bold; text-align: right;\">1</td><td style = \"font-style: italic; text-align: left;\">missing</td><td style = \"text-align: left;\">Regional Assembly Language</td></tr><tr><td class = \"rowNumber\" style = \"font-weight: bold; text-align: right;\">2</td><td style = \"text-align: left;\">1952</td><td style = \"text-align: left;\">Autocode</td></tr><tr><td class = \"rowNumber\" style = \"font-weight: bold; text-align: right;\">3</td><td style = \"text-align: left;\">1954</td><td style = \"text-align: left;\">IPL</td></tr><tr><td class = \"rowNumber\" style = \"font-weight: bold; text-align: right;\">4</td><td style = \"text-align: left;\">1955</td><td style = \"text-align: left;\">FLOW-MATIC</td></tr><tr><td class = \"rowNumber\" style = \"font-weight: bold; text-align: right;\">5</td><td style = \"text-align: left;\">1957</td><td style = \"text-align: left;\">FORTRAN</td></tr><tr><td class = \"rowNumber\" style = \"font-weight: bold; text-align: right;\">6</td><td style = \"text-align: left;\">1957</td><td style = \"text-align: left;\">COMTRAN</td></tr><tr><td class = \"rowNumber\" style = \"font-weight: bold; text-align: right;\">7</td><td style = \"text-align: left;\">1958</td><td style = \"text-align: left;\">LISP</td></tr><tr><td class = \"rowNumber\" style = \"font-weight: bold; text-align: right;\">8</td><td style = \"text-align: left;\">1958</td><td style = \"text-align: left;\">ALGOL 58</td></tr><tr><td class = \"rowNumber\" style = \"font-weight: bold; text-align: right;\">9</td><td style = \"text-align: left;\">1959</td><td style = \"text-align: left;\">FACT</td></tr><tr><td class = \"rowNumber\" style = \"font-weight: bold; text-align: right;\">10</td><td style = \"text-align: left;\">1959</td><td style = \"text-align: left;\">COBOL</td></tr><tr><td class = \"rowNumber\" style = \"font-weight: bold; text-align: right;\">11</td><td style = \"text-align: left;\">1959</td><td style = \"text-align: left;\">RPG</td></tr><tr><td class = \"rowNumber\" style = \"font-weight: bold; text-align: right;\">12</td><td style = \"text-align: left;\">1962</td><td style = \"text-align: left;\">APL</td></tr><tr><td class = \"rowNumber\" style = \"font-weight: bold; text-align: right;\">13</td><td style = \"text-align: left;\">1962</td><td style = \"text-align: left;\">Simula</td></tr><tr><td style = \"text-align: right;\">&vellip;</td><td style = \"text-align: right;\">&vellip;</td><td style = \"text-align: right;\">&vellip;</td></tr><tr><td class = \"rowNumber\" style = \"font-weight: bold; text-align: right;\">62</td><td style = \"text-align: left;\">2003</td><td style = \"text-align: left;\">Scala</td></tr><tr><td class = \"rowNumber\" style = \"font-weight: bold; text-align: right;\">63</td><td style = \"text-align: left;\">2005</td><td style = \"text-align: left;\">F#</td></tr><tr><td class = \"rowNumber\" style = \"font-weight: bold; text-align: right;\">64</td><td style = \"text-align: left;\">2006</td><td style = \"text-align: left;\">PowerShell</td></tr><tr><td class = \"rowNumber\" style = \"font-weight: bold; text-align: right;\">65</td><td style = \"text-align: left;\">2007</td><td style = \"text-align: left;\">Clojure</td></tr><tr><td class = \"rowNumber\" style = \"font-weight: bold; text-align: right;\">66</td><td style = \"text-align: left;\">2009</td><td style = \"text-align: left;\">Go</td></tr><tr><td class = \"rowNumber\" style = \"font-weight: bold; text-align: right;\">67</td><td style = \"text-align: left;\">2010</td><td style = \"text-align: left;\">Rust</td></tr><tr><td class = \"rowNumber\" style = \"font-weight: bold; text-align: right;\">68</td><td style = \"text-align: left;\">2011</td><td style = \"text-align: left;\">Dart</td></tr><tr><td class = \"rowNumber\" style = \"font-weight: bold; text-align: right;\">69</td><td style = \"text-align: left;\">2011</td><td style = \"text-align: left;\">Kotlin</td></tr><tr><td class = \"rowNumber\" style = \"font-weight: bold; text-align: right;\">70</td><td style = \"text-align: left;\">2011</td><td style = \"text-align: left;\">Red</td></tr><tr><td class = \"rowNumber\" style = \"font-weight: bold; text-align: right;\">71</td><td style = \"text-align: left;\">2011</td><td style = \"text-align: left;\">Elixir</td></tr><tr><td class = \"rowNumber\" style = \"font-weight: bold; text-align: right;\">72</td><td style = \"text-align: left;\">2012</td><td style = \"text-align: left;\">Julia</td></tr><tr><td class = \"rowNumber\" style = \"font-weight: bold; text-align: right;\">73</td><td style = \"text-align: left;\">2014</td><td style = \"text-align: left;\">Swift</td></tr></tbody></table></div>"
      ],
      "text/latex": [
       "\\begin{tabular}{r|cc}\n",
       "\t& year & language\\\\\n",
       "\t\\hline\n",
       "\t& Any & Any\\\\\n",
       "\t\\hline\n",
       "\t1 & \\emph{missing} & Regional Assembly Language \\\\\n",
       "\t2 & 1952 & Autocode \\\\\n",
       "\t3 & 1954 & IPL \\\\\n",
       "\t4 & 1955 & FLOW-MATIC \\\\\n",
       "\t5 & 1957 & FORTRAN \\\\\n",
       "\t6 & 1957 & COMTRAN \\\\\n",
       "\t7 & 1958 & LISP \\\\\n",
       "\t8 & 1958 & ALGOL 58 \\\\\n",
       "\t9 & 1959 & FACT \\\\\n",
       "\t10 & 1959 & COBOL \\\\\n",
       "\t11 & 1959 & RPG \\\\\n",
       "\t12 & 1962 & APL \\\\\n",
       "\t13 & 1962 & Simula \\\\\n",
       "\t14 & 1962 & SNOBOL \\\\\n",
       "\t15 & 1963 & CPL \\\\\n",
       "\t16 & 1964 & Speakeasy \\\\\n",
       "\t17 & 1964 & BASIC \\\\\n",
       "\t18 & 1964 & PL/I \\\\\n",
       "\t19 & 1966 & JOSS \\\\\n",
       "\t20 & 1967 & BCPL \\\\\n",
       "\t21 & 1968 & Logo \\\\\n",
       "\t22 & 1969 & B \\\\\n",
       "\t23 & 1970 & Pascal \\\\\n",
       "\t24 & 1970 & Forth \\\\\n",
       "\t25 & 1972 & C \\\\\n",
       "\t26 & 1972 & Smalltalk \\\\\n",
       "\t27 & 1972 & Prolog \\\\\n",
       "\t28 & 1973 & ML \\\\\n",
       "\t29 & 1975 & Scheme \\\\\n",
       "\t30 & 1978 & SQL  \\\\\n",
       "\t$\\dots$ & $\\dots$ & $\\dots$ \\\\\n",
       "\\end{tabular}\n"
      ],
      "text/plain": [
       "\u001b[1m73×2 DataFrame\u001b[0m\n",
       "\u001b[1m Row \u001b[0m│\u001b[1m year    \u001b[0m\u001b[1m language                   \u001b[0m\n",
       "     │\u001b[90m Any     \u001b[0m\u001b[90m Any                        \u001b[0m\n",
       "─────┼─────────────────────────────────────\n",
       "   1 │\u001b[90m missing \u001b[0m Regional Assembly Language\n",
       "   2 │ 1952     Autocode\n",
       "   3 │ 1954     IPL\n",
       "   4 │ 1955     FLOW-MATIC\n",
       "   5 │ 1957     FORTRAN\n",
       "   6 │ 1957     COMTRAN\n",
       "   7 │ 1958     LISP\n",
       "   8 │ 1958     ALGOL 58\n",
       "   9 │ 1959     FACT\n",
       "  10 │ 1959     COBOL\n",
       "  11 │ 1959     RPG\n",
       "  ⋮  │    ⋮                 ⋮\n",
       "  64 │ 2006     PowerShell\n",
       "  65 │ 2007     Clojure\n",
       "  66 │ 2009     Go\n",
       "  67 │ 2010     Rust\n",
       "  68 │ 2011     Dart\n",
       "  69 │ 2011     Kotlin\n",
       "  70 │ 2011     Red\n",
       "  71 │ 2011     Elixir\n",
       "  72 │ 2012     Julia\n",
       "  73 │ 2014     Swift\n",
       "\u001b[36m                            52 rows omitted\u001b[0m"
      ]
     },
     "execution_count": 228,
     "metadata": {},
     "output_type": "execute_result"
    }
   ],
   "source": [
    "# assume there were missing values in our dataframe\n",
    "P[1,1] = missing\n",
    "P_df = DataFrame(year = P[:,1], language = P[:,2])"
   ]
  },
  {
   "cell_type": "code",
   "execution_count": 232,
   "metadata": {},
   "outputs": [
    {
     "data": {
      "text/html": [
       "<div><div style = \"float: left;\"><span>72×2 DataFrame</span></div><div style = \"float: right;\"><span style = \"font-style: italic;\">47 rows omitted</span></div><div style = \"clear: both;\"></div></div><div class = \"data-frame\" style = \"overflow-x: scroll;\"><table class = \"data-frame\" style = \"margin-bottom: 6px;\"><thead><tr class = \"header\"><th class = \"rowNumber\" style = \"font-weight: bold; text-align: right;\">Row</th><th style = \"text-align: left;\">year</th><th style = \"text-align: left;\">language</th></tr><tr class = \"subheader headerLastRow\"><th class = \"rowNumber\" style = \"font-weight: bold; text-align: right;\"></th><th title = \"Any\" style = \"text-align: left;\">Any</th><th title = \"Any\" style = \"text-align: left;\">Any</th></tr></thead><tbody><tr><td class = \"rowNumber\" style = \"font-weight: bold; text-align: right;\">1</td><td style = \"text-align: left;\">1952</td><td style = \"text-align: left;\">Autocode</td></tr><tr><td class = \"rowNumber\" style = \"font-weight: bold; text-align: right;\">2</td><td style = \"text-align: left;\">1954</td><td style = \"text-align: left;\">IPL</td></tr><tr><td class = \"rowNumber\" style = \"font-weight: bold; text-align: right;\">3</td><td style = \"text-align: left;\">1955</td><td style = \"text-align: left;\">FLOW-MATIC</td></tr><tr><td class = \"rowNumber\" style = \"font-weight: bold; text-align: right;\">4</td><td style = \"text-align: left;\">1957</td><td style = \"text-align: left;\">FORTRAN</td></tr><tr><td class = \"rowNumber\" style = \"font-weight: bold; text-align: right;\">5</td><td style = \"text-align: left;\">1957</td><td style = \"text-align: left;\">COMTRAN</td></tr><tr><td class = \"rowNumber\" style = \"font-weight: bold; text-align: right;\">6</td><td style = \"text-align: left;\">1958</td><td style = \"text-align: left;\">LISP</td></tr><tr><td class = \"rowNumber\" style = \"font-weight: bold; text-align: right;\">7</td><td style = \"text-align: left;\">1958</td><td style = \"text-align: left;\">ALGOL 58</td></tr><tr><td class = \"rowNumber\" style = \"font-weight: bold; text-align: right;\">8</td><td style = \"text-align: left;\">1959</td><td style = \"text-align: left;\">FACT</td></tr><tr><td class = \"rowNumber\" style = \"font-weight: bold; text-align: right;\">9</td><td style = \"text-align: left;\">1959</td><td style = \"text-align: left;\">COBOL</td></tr><tr><td class = \"rowNumber\" style = \"font-weight: bold; text-align: right;\">10</td><td style = \"text-align: left;\">1959</td><td style = \"text-align: left;\">RPG</td></tr><tr><td class = \"rowNumber\" style = \"font-weight: bold; text-align: right;\">11</td><td style = \"text-align: left;\">1962</td><td style = \"text-align: left;\">APL</td></tr><tr><td class = \"rowNumber\" style = \"font-weight: bold; text-align: right;\">12</td><td style = \"text-align: left;\">1962</td><td style = \"text-align: left;\">Simula</td></tr><tr><td class = \"rowNumber\" style = \"font-weight: bold; text-align: right;\">13</td><td style = \"text-align: left;\">1962</td><td style = \"text-align: left;\">SNOBOL</td></tr><tr><td style = \"text-align: right;\">&vellip;</td><td style = \"text-align: right;\">&vellip;</td><td style = \"text-align: right;\">&vellip;</td></tr><tr><td class = \"rowNumber\" style = \"font-weight: bold; text-align: right;\">61</td><td style = \"text-align: left;\">2003</td><td style = \"text-align: left;\">Scala</td></tr><tr><td class = \"rowNumber\" style = \"font-weight: bold; text-align: right;\">62</td><td style = \"text-align: left;\">2005</td><td style = \"text-align: left;\">F#</td></tr><tr><td class = \"rowNumber\" style = \"font-weight: bold; text-align: right;\">63</td><td style = \"text-align: left;\">2006</td><td style = \"text-align: left;\">PowerShell</td></tr><tr><td class = \"rowNumber\" style = \"font-weight: bold; text-align: right;\">64</td><td style = \"text-align: left;\">2007</td><td style = \"text-align: left;\">Clojure</td></tr><tr><td class = \"rowNumber\" style = \"font-weight: bold; text-align: right;\">65</td><td style = \"text-align: left;\">2009</td><td style = \"text-align: left;\">Go</td></tr><tr><td class = \"rowNumber\" style = \"font-weight: bold; text-align: right;\">66</td><td style = \"text-align: left;\">2010</td><td style = \"text-align: left;\">Rust</td></tr><tr><td class = \"rowNumber\" style = \"font-weight: bold; text-align: right;\">67</td><td style = \"text-align: left;\">2011</td><td style = \"text-align: left;\">Dart</td></tr><tr><td class = \"rowNumber\" style = \"font-weight: bold; text-align: right;\">68</td><td style = \"text-align: left;\">2011</td><td style = \"text-align: left;\">Kotlin</td></tr><tr><td class = \"rowNumber\" style = \"font-weight: bold; text-align: right;\">69</td><td style = \"text-align: left;\">2011</td><td style = \"text-align: left;\">Red</td></tr><tr><td class = \"rowNumber\" style = \"font-weight: bold; text-align: right;\">70</td><td style = \"text-align: left;\">2011</td><td style = \"text-align: left;\">Elixir</td></tr><tr><td class = \"rowNumber\" style = \"font-weight: bold; text-align: right;\">71</td><td style = \"text-align: left;\">2012</td><td style = \"text-align: left;\">Julia</td></tr><tr><td class = \"rowNumber\" style = \"font-weight: bold; text-align: right;\">72</td><td style = \"text-align: left;\">2014</td><td style = \"text-align: left;\">Swift</td></tr></tbody></table></div>"
      ],
      "text/latex": [
       "\\begin{tabular}{r|cc}\n",
       "\t& year & language\\\\\n",
       "\t\\hline\n",
       "\t& Any & Any\\\\\n",
       "\t\\hline\n",
       "\t1 & 1952 & Autocode \\\\\n",
       "\t2 & 1954 & IPL \\\\\n",
       "\t3 & 1955 & FLOW-MATIC \\\\\n",
       "\t4 & 1957 & FORTRAN \\\\\n",
       "\t5 & 1957 & COMTRAN \\\\\n",
       "\t6 & 1958 & LISP \\\\\n",
       "\t7 & 1958 & ALGOL 58 \\\\\n",
       "\t8 & 1959 & FACT \\\\\n",
       "\t9 & 1959 & COBOL \\\\\n",
       "\t10 & 1959 & RPG \\\\\n",
       "\t11 & 1962 & APL \\\\\n",
       "\t12 & 1962 & Simula \\\\\n",
       "\t13 & 1962 & SNOBOL \\\\\n",
       "\t14 & 1963 & CPL \\\\\n",
       "\t15 & 1964 & Speakeasy \\\\\n",
       "\t16 & 1964 & BASIC \\\\\n",
       "\t17 & 1964 & PL/I \\\\\n",
       "\t18 & 1966 & JOSS \\\\\n",
       "\t19 & 1967 & BCPL \\\\\n",
       "\t20 & 1968 & Logo \\\\\n",
       "\t21 & 1969 & B \\\\\n",
       "\t22 & 1970 & Pascal \\\\\n",
       "\t23 & 1970 & Forth \\\\\n",
       "\t24 & 1972 & C \\\\\n",
       "\t25 & 1972 & Smalltalk \\\\\n",
       "\t26 & 1972 & Prolog \\\\\n",
       "\t27 & 1973 & ML \\\\\n",
       "\t28 & 1975 & Scheme \\\\\n",
       "\t29 & 1978 & SQL  \\\\\n",
       "\t30 & 1980 & C++  \\\\\n",
       "\t$\\dots$ & $\\dots$ & $\\dots$ \\\\\n",
       "\\end{tabular}\n"
      ],
      "text/plain": [
       "\u001b[1m72×2 DataFrame\u001b[0m\n",
       "\u001b[1m Row \u001b[0m│\u001b[1m year \u001b[0m\u001b[1m language   \u001b[0m\n",
       "     │\u001b[90m Any  \u001b[0m\u001b[90m Any        \u001b[0m\n",
       "─────┼──────────────────\n",
       "   1 │ 1952  Autocode\n",
       "   2 │ 1954  IPL\n",
       "   3 │ 1955  FLOW-MATIC\n",
       "   4 │ 1957  FORTRAN\n",
       "   5 │ 1957  COMTRAN\n",
       "   6 │ 1958  LISP\n",
       "   7 │ 1958  ALGOL 58\n",
       "   8 │ 1959  FACT\n",
       "   9 │ 1959  COBOL\n",
       "  10 │ 1959  RPG\n",
       "  11 │ 1962  APL\n",
       "  ⋮  │  ⋮        ⋮\n",
       "  63 │ 2006  PowerShell\n",
       "  64 │ 2007  Clojure\n",
       "  65 │ 2009  Go\n",
       "  66 │ 2010  Rust\n",
       "  67 │ 2011  Dart\n",
       "  68 │ 2011  Kotlin\n",
       "  69 │ 2011  Red\n",
       "  70 │ 2011  Elixir\n",
       "  71 │ 2012  Julia\n",
       "  72 │ 2014  Swift\n",
       "\u001b[36m         51 rows omitted\u001b[0m"
      ]
     },
     "execution_count": 232,
     "metadata": {},
     "output_type": "execute_result"
    }
   ],
   "source": [
    "dropmissing(P_df) #we can easily drop missing data using dropmissing"
   ]
  },
  {
   "cell_type": "markdown",
   "metadata": {},
   "source": [
    "# Finally...\n",
    "After finishing this notebook, you should be able to:\n",
    "- [ ] dowload a data file from the web given a url\n",
    "- [ ] load data from a file from a text file via DelimitedFiles or CSV\n",
    "- [ ] write your data to a text file or csv file\n",
    "- [ ] load data from file types xlsx, jld, npz, mat, rda\n",
    "- [ ] write your data to an xlsx file, jld, npz, mat, rda\n",
    "- [ ] store data in a 2D array (`Matrix`), or `DataFrame` or `Dict`\n",
    "- [ ] write functions to perform basic lookups on `Matrix`, `DataFrame`, and `Dict` types\n",
    "- [ ] use some of the basic functions on `DataFrame`s such as: `dropmissing`, `describe`, `combine(groupby)`, and `innerjoin`"
   ]
  },
  {
   "cell_type": "markdown",
   "metadata": {},
   "source": [
    "# 🥳 One cool finding\n",
    "\n",
    "Julia was created in 2012"
   ]
  }
 ],
 "metadata": {
  "@webio": {
   "lastCommId": null,
   "lastKernelId": null
  },
  "kernelspec": {
   "display_name": "Julia 1.11.4",
   "language": "julia",
   "name": "julia-1.11"
  },
  "language_info": {
   "file_extension": ".jl",
   "mimetype": "application/julia",
   "name": "julia",
   "version": "1.11.4"
  }
 },
 "nbformat": 4,
 "nbformat_minor": 4
}
