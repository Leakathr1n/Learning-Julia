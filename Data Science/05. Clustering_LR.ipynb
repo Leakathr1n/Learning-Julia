{
 "cells": [
  {
   "cell_type": "markdown",
   "metadata": {},
   "source": [
    "## Clustering\n",
    "Put simply, the task of clustering is to place observations that seem similar within the same cluster. Clustering is commonly used in two dimensional data where the goal is to create clusters based on coordinates. Here, we will use something similar. We will cluster houses based on their latitude-longitude locations using several different clustering methods."
   ]
  },
  {
   "cell_type": "markdown",
   "metadata": {},
   "source": [
    "NOTE: Maps are commented out to make sure file is not too large"
   ]
  },
  {
   "cell_type": "code",
   "execution_count": 11,
   "metadata": {},
   "outputs": [],
   "source": [
    "#importing the packages that we will need\n",
    "import Pkg\n",
    "# Pkg.add(\"Clustering\")\n",
    "# Pkg.add(\"VegaLite\")\n",
    "# Pkg.add(\"JSON\")"
   ]
  },
  {
   "cell_type": "code",
   "execution_count": 3,
   "metadata": {},
   "outputs": [],
   "source": [
    "# Packages we will use throughout this notebook\n",
    "using Clustering\n",
    "using VegaLite\n",
    "using VegaDatasets\n",
    "using DataFrames\n",
    "using Statistics\n",
    "using JSON\n",
    "using CSV\n",
    "using Distances"
   ]
  },
  {
   "cell_type": "markdown",
   "metadata": {},
   "source": [
    "We will start off by getting some data. We will use data of 20,000+ California houses dataset. We will then learn whether housing prices directly correlate with map location."
   ]
  },
  {
   "cell_type": "code",
   "execution_count": 5,
   "metadata": {},
   "outputs": [
    {
     "data": {
      "text/html": [
       "<div><div style = \"float: left;\"><span>20640×10 DataFrame</span></div><div style = \"float: right;\"><span style = \"font-style: italic;\">20615 rows omitted</span></div><div style = \"clear: both;\"></div></div><div class = \"data-frame\" style = \"overflow-x: scroll;\"><table class = \"data-frame\" style = \"margin-bottom: 6px;\"><thead><tr class = \"header\"><th class = \"rowNumber\" style = \"font-weight: bold; text-align: right;\">Row</th><th style = \"text-align: left;\">longitude</th><th style = \"text-align: left;\">latitude</th><th style = \"text-align: left;\">housing_median_age</th><th style = \"text-align: left;\">total_rooms</th><th style = \"text-align: left;\">total_bedrooms</th><th style = \"text-align: left;\">population</th><th style = \"text-align: left;\">households</th><th style = \"text-align: left;\">median_income</th><th style = \"text-align: left;\">median_house_value</th><th style = \"text-align: left;\">ocean_proximity</th></tr><tr class = \"subheader headerLastRow\"><th class = \"rowNumber\" style = \"font-weight: bold; text-align: right;\"></th><th title = \"Float64\" style = \"text-align: left;\">Float64</th><th title = \"Float64\" style = \"text-align: left;\">Float64</th><th title = \"Float64\" style = \"text-align: left;\">Float64</th><th title = \"Float64\" style = \"text-align: left;\">Float64</th><th title = \"Union{Missing, Float64}\" style = \"text-align: left;\">Float64?</th><th title = \"Float64\" style = \"text-align: left;\">Float64</th><th title = \"Float64\" style = \"text-align: left;\">Float64</th><th title = \"Float64\" style = \"text-align: left;\">Float64</th><th title = \"Float64\" style = \"text-align: left;\">Float64</th><th title = \"String15\" style = \"text-align: left;\">String15</th></tr></thead><tbody><tr><td class = \"rowNumber\" style = \"font-weight: bold; text-align: right;\">1</td><td style = \"text-align: right;\">-122.23</td><td style = \"text-align: right;\">37.88</td><td style = \"text-align: right;\">41.0</td><td style = \"text-align: right;\">880.0</td><td style = \"text-align: right;\">129.0</td><td style = \"text-align: right;\">322.0</td><td style = \"text-align: right;\">126.0</td><td style = \"text-align: right;\">8.3252</td><td style = \"text-align: right;\">452600.0</td><td style = \"text-align: left;\">NEAR BAY</td></tr><tr><td class = \"rowNumber\" style = \"font-weight: bold; text-align: right;\">2</td><td style = \"text-align: right;\">-122.22</td><td style = \"text-align: right;\">37.86</td><td style = \"text-align: right;\">21.0</td><td style = \"text-align: right;\">7099.0</td><td style = \"text-align: right;\">1106.0</td><td style = \"text-align: right;\">2401.0</td><td style = \"text-align: right;\">1138.0</td><td style = \"text-align: right;\">8.3014</td><td style = \"text-align: right;\">358500.0</td><td style = \"text-align: left;\">NEAR BAY</td></tr><tr><td class = \"rowNumber\" style = \"font-weight: bold; text-align: right;\">3</td><td style = \"text-align: right;\">-122.24</td><td style = \"text-align: right;\">37.85</td><td style = \"text-align: right;\">52.0</td><td style = \"text-align: right;\">1467.0</td><td style = \"text-align: right;\">190.0</td><td style = \"text-align: right;\">496.0</td><td style = \"text-align: right;\">177.0</td><td style = \"text-align: right;\">7.2574</td><td style = \"text-align: right;\">352100.0</td><td style = \"text-align: left;\">NEAR BAY</td></tr><tr><td class = \"rowNumber\" style = \"font-weight: bold; text-align: right;\">4</td><td style = \"text-align: right;\">-122.25</td><td style = \"text-align: right;\">37.85</td><td style = \"text-align: right;\">52.0</td><td style = \"text-align: right;\">1274.0</td><td style = \"text-align: right;\">235.0</td><td style = \"text-align: right;\">558.0</td><td style = \"text-align: right;\">219.0</td><td style = \"text-align: right;\">5.6431</td><td style = \"text-align: right;\">341300.0</td><td style = \"text-align: left;\">NEAR BAY</td></tr><tr><td class = \"rowNumber\" style = \"font-weight: bold; text-align: right;\">5</td><td style = \"text-align: right;\">-122.25</td><td style = \"text-align: right;\">37.85</td><td style = \"text-align: right;\">52.0</td><td style = \"text-align: right;\">1627.0</td><td style = \"text-align: right;\">280.0</td><td style = \"text-align: right;\">565.0</td><td style = \"text-align: right;\">259.0</td><td style = \"text-align: right;\">3.8462</td><td style = \"text-align: right;\">342200.0</td><td style = \"text-align: left;\">NEAR BAY</td></tr><tr><td class = \"rowNumber\" style = \"font-weight: bold; text-align: right;\">6</td><td style = \"text-align: right;\">-122.25</td><td style = \"text-align: right;\">37.85</td><td style = \"text-align: right;\">52.0</td><td style = \"text-align: right;\">919.0</td><td style = \"text-align: right;\">213.0</td><td style = \"text-align: right;\">413.0</td><td style = \"text-align: right;\">193.0</td><td style = \"text-align: right;\">4.0368</td><td style = \"text-align: right;\">269700.0</td><td style = \"text-align: left;\">NEAR BAY</td></tr><tr><td class = \"rowNumber\" style = \"font-weight: bold; text-align: right;\">7</td><td style = \"text-align: right;\">-122.25</td><td style = \"text-align: right;\">37.84</td><td style = \"text-align: right;\">52.0</td><td style = \"text-align: right;\">2535.0</td><td style = \"text-align: right;\">489.0</td><td style = \"text-align: right;\">1094.0</td><td style = \"text-align: right;\">514.0</td><td style = \"text-align: right;\">3.6591</td><td style = \"text-align: right;\">299200.0</td><td style = \"text-align: left;\">NEAR BAY</td></tr><tr><td class = \"rowNumber\" style = \"font-weight: bold; text-align: right;\">8</td><td style = \"text-align: right;\">-122.25</td><td style = \"text-align: right;\">37.84</td><td style = \"text-align: right;\">52.0</td><td style = \"text-align: right;\">3104.0</td><td style = \"text-align: right;\">687.0</td><td style = \"text-align: right;\">1157.0</td><td style = \"text-align: right;\">647.0</td><td style = \"text-align: right;\">3.12</td><td style = \"text-align: right;\">241400.0</td><td style = \"text-align: left;\">NEAR BAY</td></tr><tr><td class = \"rowNumber\" style = \"font-weight: bold; text-align: right;\">9</td><td style = \"text-align: right;\">-122.26</td><td style = \"text-align: right;\">37.84</td><td style = \"text-align: right;\">42.0</td><td style = \"text-align: right;\">2555.0</td><td style = \"text-align: right;\">665.0</td><td style = \"text-align: right;\">1206.0</td><td style = \"text-align: right;\">595.0</td><td style = \"text-align: right;\">2.0804</td><td style = \"text-align: right;\">226700.0</td><td style = \"text-align: left;\">NEAR BAY</td></tr><tr><td class = \"rowNumber\" style = \"font-weight: bold; text-align: right;\">10</td><td style = \"text-align: right;\">-122.25</td><td style = \"text-align: right;\">37.84</td><td style = \"text-align: right;\">52.0</td><td style = \"text-align: right;\">3549.0</td><td style = \"text-align: right;\">707.0</td><td style = \"text-align: right;\">1551.0</td><td style = \"text-align: right;\">714.0</td><td style = \"text-align: right;\">3.6912</td><td style = \"text-align: right;\">261100.0</td><td style = \"text-align: left;\">NEAR BAY</td></tr><tr><td class = \"rowNumber\" style = \"font-weight: bold; text-align: right;\">11</td><td style = \"text-align: right;\">-122.26</td><td style = \"text-align: right;\">37.85</td><td style = \"text-align: right;\">52.0</td><td style = \"text-align: right;\">2202.0</td><td style = \"text-align: right;\">434.0</td><td style = \"text-align: right;\">910.0</td><td style = \"text-align: right;\">402.0</td><td style = \"text-align: right;\">3.2031</td><td style = \"text-align: right;\">281500.0</td><td style = \"text-align: left;\">NEAR BAY</td></tr><tr><td class = \"rowNumber\" style = \"font-weight: bold; text-align: right;\">12</td><td style = \"text-align: right;\">-122.26</td><td style = \"text-align: right;\">37.85</td><td style = \"text-align: right;\">52.0</td><td style = \"text-align: right;\">3503.0</td><td style = \"text-align: right;\">752.0</td><td style = \"text-align: right;\">1504.0</td><td style = \"text-align: right;\">734.0</td><td style = \"text-align: right;\">3.2705</td><td style = \"text-align: right;\">241800.0</td><td style = \"text-align: left;\">NEAR BAY</td></tr><tr><td class = \"rowNumber\" style = \"font-weight: bold; text-align: right;\">13</td><td style = \"text-align: right;\">-122.26</td><td style = \"text-align: right;\">37.85</td><td style = \"text-align: right;\">52.0</td><td style = \"text-align: right;\">2491.0</td><td style = \"text-align: right;\">474.0</td><td style = \"text-align: right;\">1098.0</td><td style = \"text-align: right;\">468.0</td><td style = \"text-align: right;\">3.075</td><td style = \"text-align: right;\">213500.0</td><td style = \"text-align: left;\">NEAR BAY</td></tr><tr><td style = \"text-align: right;\">&vellip;</td><td style = \"text-align: right;\">&vellip;</td><td style = \"text-align: right;\">&vellip;</td><td style = \"text-align: right;\">&vellip;</td><td style = \"text-align: right;\">&vellip;</td><td style = \"text-align: right;\">&vellip;</td><td style = \"text-align: right;\">&vellip;</td><td style = \"text-align: right;\">&vellip;</td><td style = \"text-align: right;\">&vellip;</td><td style = \"text-align: right;\">&vellip;</td><td style = \"text-align: right;\">&vellip;</td></tr><tr><td class = \"rowNumber\" style = \"font-weight: bold; text-align: right;\">20629</td><td style = \"text-align: right;\">-121.48</td><td style = \"text-align: right;\">39.1</td><td style = \"text-align: right;\">19.0</td><td style = \"text-align: right;\">2043.0</td><td style = \"text-align: right;\">421.0</td><td style = \"text-align: right;\">1018.0</td><td style = \"text-align: right;\">390.0</td><td style = \"text-align: right;\">2.5952</td><td style = \"text-align: right;\">92400.0</td><td style = \"text-align: left;\">INLAND</td></tr><tr><td class = \"rowNumber\" style = \"font-weight: bold; text-align: right;\">20630</td><td style = \"text-align: right;\">-121.39</td><td style = \"text-align: right;\">39.12</td><td style = \"text-align: right;\">28.0</td><td style = \"text-align: right;\">10035.0</td><td style = \"text-align: right;\">1856.0</td><td style = \"text-align: right;\">6912.0</td><td style = \"text-align: right;\">1818.0</td><td style = \"text-align: right;\">2.0943</td><td style = \"text-align: right;\">108300.0</td><td style = \"text-align: left;\">INLAND</td></tr><tr><td class = \"rowNumber\" style = \"font-weight: bold; text-align: right;\">20631</td><td style = \"text-align: right;\">-121.32</td><td style = \"text-align: right;\">39.29</td><td style = \"text-align: right;\">11.0</td><td style = \"text-align: right;\">2640.0</td><td style = \"text-align: right;\">505.0</td><td style = \"text-align: right;\">1257.0</td><td style = \"text-align: right;\">445.0</td><td style = \"text-align: right;\">3.5673</td><td style = \"text-align: right;\">112000.0</td><td style = \"text-align: left;\">INLAND</td></tr><tr><td class = \"rowNumber\" style = \"font-weight: bold; text-align: right;\">20632</td><td style = \"text-align: right;\">-121.4</td><td style = \"text-align: right;\">39.33</td><td style = \"text-align: right;\">15.0</td><td style = \"text-align: right;\">2655.0</td><td style = \"text-align: right;\">493.0</td><td style = \"text-align: right;\">1200.0</td><td style = \"text-align: right;\">432.0</td><td style = \"text-align: right;\">3.5179</td><td style = \"text-align: right;\">107200.0</td><td style = \"text-align: left;\">INLAND</td></tr><tr><td class = \"rowNumber\" style = \"font-weight: bold; text-align: right;\">20633</td><td style = \"text-align: right;\">-121.45</td><td style = \"text-align: right;\">39.26</td><td style = \"text-align: right;\">15.0</td><td style = \"text-align: right;\">2319.0</td><td style = \"text-align: right;\">416.0</td><td style = \"text-align: right;\">1047.0</td><td style = \"text-align: right;\">385.0</td><td style = \"text-align: right;\">3.125</td><td style = \"text-align: right;\">115600.0</td><td style = \"text-align: left;\">INLAND</td></tr><tr><td class = \"rowNumber\" style = \"font-weight: bold; text-align: right;\">20634</td><td style = \"text-align: right;\">-121.53</td><td style = \"text-align: right;\">39.19</td><td style = \"text-align: right;\">27.0</td><td style = \"text-align: right;\">2080.0</td><td style = \"text-align: right;\">412.0</td><td style = \"text-align: right;\">1082.0</td><td style = \"text-align: right;\">382.0</td><td style = \"text-align: right;\">2.5495</td><td style = \"text-align: right;\">98300.0</td><td style = \"text-align: left;\">INLAND</td></tr><tr><td class = \"rowNumber\" style = \"font-weight: bold; text-align: right;\">20635</td><td style = \"text-align: right;\">-121.56</td><td style = \"text-align: right;\">39.27</td><td style = \"text-align: right;\">28.0</td><td style = \"text-align: right;\">2332.0</td><td style = \"text-align: right;\">395.0</td><td style = \"text-align: right;\">1041.0</td><td style = \"text-align: right;\">344.0</td><td style = \"text-align: right;\">3.7125</td><td style = \"text-align: right;\">116800.0</td><td style = \"text-align: left;\">INLAND</td></tr><tr><td class = \"rowNumber\" style = \"font-weight: bold; text-align: right;\">20636</td><td style = \"text-align: right;\">-121.09</td><td style = \"text-align: right;\">39.48</td><td style = \"text-align: right;\">25.0</td><td style = \"text-align: right;\">1665.0</td><td style = \"text-align: right;\">374.0</td><td style = \"text-align: right;\">845.0</td><td style = \"text-align: right;\">330.0</td><td style = \"text-align: right;\">1.5603</td><td style = \"text-align: right;\">78100.0</td><td style = \"text-align: left;\">INLAND</td></tr><tr><td class = \"rowNumber\" style = \"font-weight: bold; text-align: right;\">20637</td><td style = \"text-align: right;\">-121.21</td><td style = \"text-align: right;\">39.49</td><td style = \"text-align: right;\">18.0</td><td style = \"text-align: right;\">697.0</td><td style = \"text-align: right;\">150.0</td><td style = \"text-align: right;\">356.0</td><td style = \"text-align: right;\">114.0</td><td style = \"text-align: right;\">2.5568</td><td style = \"text-align: right;\">77100.0</td><td style = \"text-align: left;\">INLAND</td></tr><tr><td class = \"rowNumber\" style = \"font-weight: bold; text-align: right;\">20638</td><td style = \"text-align: right;\">-121.22</td><td style = \"text-align: right;\">39.43</td><td style = \"text-align: right;\">17.0</td><td style = \"text-align: right;\">2254.0</td><td style = \"text-align: right;\">485.0</td><td style = \"text-align: right;\">1007.0</td><td style = \"text-align: right;\">433.0</td><td style = \"text-align: right;\">1.7</td><td style = \"text-align: right;\">92300.0</td><td style = \"text-align: left;\">INLAND</td></tr><tr><td class = \"rowNumber\" style = \"font-weight: bold; text-align: right;\">20639</td><td style = \"text-align: right;\">-121.32</td><td style = \"text-align: right;\">39.43</td><td style = \"text-align: right;\">18.0</td><td style = \"text-align: right;\">1860.0</td><td style = \"text-align: right;\">409.0</td><td style = \"text-align: right;\">741.0</td><td style = \"text-align: right;\">349.0</td><td style = \"text-align: right;\">1.8672</td><td style = \"text-align: right;\">84700.0</td><td style = \"text-align: left;\">INLAND</td></tr><tr><td class = \"rowNumber\" style = \"font-weight: bold; text-align: right;\">20640</td><td style = \"text-align: right;\">-121.24</td><td style = \"text-align: right;\">39.37</td><td style = \"text-align: right;\">16.0</td><td style = \"text-align: right;\">2785.0</td><td style = \"text-align: right;\">616.0</td><td style = \"text-align: right;\">1387.0</td><td style = \"text-align: right;\">530.0</td><td style = \"text-align: right;\">2.3886</td><td style = \"text-align: right;\">89400.0</td><td style = \"text-align: left;\">INLAND</td></tr></tbody></table></div>"
      ],
      "text/latex": [
       "\\begin{tabular}{r|ccccccc}\n",
       "\t& longitude & latitude & housing\\_median\\_age & total\\_rooms & total\\_bedrooms & population & \\\\\n",
       "\t\\hline\n",
       "\t& Float64 & Float64 & Float64 & Float64 & Float64? & Float64 & \\\\\n",
       "\t\\hline\n",
       "\t1 & -122.23 & 37.88 & 41.0 & 880.0 & 129.0 & 322.0 & $\\dots$ \\\\\n",
       "\t2 & -122.22 & 37.86 & 21.0 & 7099.0 & 1106.0 & 2401.0 & $\\dots$ \\\\\n",
       "\t3 & -122.24 & 37.85 & 52.0 & 1467.0 & 190.0 & 496.0 & $\\dots$ \\\\\n",
       "\t4 & -122.25 & 37.85 & 52.0 & 1274.0 & 235.0 & 558.0 & $\\dots$ \\\\\n",
       "\t5 & -122.25 & 37.85 & 52.0 & 1627.0 & 280.0 & 565.0 & $\\dots$ \\\\\n",
       "\t6 & -122.25 & 37.85 & 52.0 & 919.0 & 213.0 & 413.0 & $\\dots$ \\\\\n",
       "\t7 & -122.25 & 37.84 & 52.0 & 2535.0 & 489.0 & 1094.0 & $\\dots$ \\\\\n",
       "\t8 & -122.25 & 37.84 & 52.0 & 3104.0 & 687.0 & 1157.0 & $\\dots$ \\\\\n",
       "\t9 & -122.26 & 37.84 & 42.0 & 2555.0 & 665.0 & 1206.0 & $\\dots$ \\\\\n",
       "\t10 & -122.25 & 37.84 & 52.0 & 3549.0 & 707.0 & 1551.0 & $\\dots$ \\\\\n",
       "\t11 & -122.26 & 37.85 & 52.0 & 2202.0 & 434.0 & 910.0 & $\\dots$ \\\\\n",
       "\t12 & -122.26 & 37.85 & 52.0 & 3503.0 & 752.0 & 1504.0 & $\\dots$ \\\\\n",
       "\t13 & -122.26 & 37.85 & 52.0 & 2491.0 & 474.0 & 1098.0 & $\\dots$ \\\\\n",
       "\t14 & -122.26 & 37.84 & 52.0 & 696.0 & 191.0 & 345.0 & $\\dots$ \\\\\n",
       "\t15 & -122.26 & 37.85 & 52.0 & 2643.0 & 626.0 & 1212.0 & $\\dots$ \\\\\n",
       "\t16 & -122.26 & 37.85 & 50.0 & 1120.0 & 283.0 & 697.0 & $\\dots$ \\\\\n",
       "\t17 & -122.27 & 37.85 & 52.0 & 1966.0 & 347.0 & 793.0 & $\\dots$ \\\\\n",
       "\t18 & -122.27 & 37.85 & 52.0 & 1228.0 & 293.0 & 648.0 & $\\dots$ \\\\\n",
       "\t19 & -122.26 & 37.84 & 50.0 & 2239.0 & 455.0 & 990.0 & $\\dots$ \\\\\n",
       "\t20 & -122.27 & 37.84 & 52.0 & 1503.0 & 298.0 & 690.0 & $\\dots$ \\\\\n",
       "\t21 & -122.27 & 37.85 & 40.0 & 751.0 & 184.0 & 409.0 & $\\dots$ \\\\\n",
       "\t22 & -122.27 & 37.85 & 42.0 & 1639.0 & 367.0 & 929.0 & $\\dots$ \\\\\n",
       "\t23 & -122.27 & 37.84 & 52.0 & 2436.0 & 541.0 & 1015.0 & $\\dots$ \\\\\n",
       "\t24 & -122.27 & 37.84 & 52.0 & 1688.0 & 337.0 & 853.0 & $\\dots$ \\\\\n",
       "\t25 & -122.27 & 37.84 & 52.0 & 2224.0 & 437.0 & 1006.0 & $\\dots$ \\\\\n",
       "\t26 & -122.28 & 37.85 & 41.0 & 535.0 & 123.0 & 317.0 & $\\dots$ \\\\\n",
       "\t27 & -122.28 & 37.85 & 49.0 & 1130.0 & 244.0 & 607.0 & $\\dots$ \\\\\n",
       "\t28 & -122.28 & 37.85 & 52.0 & 1898.0 & 421.0 & 1102.0 & $\\dots$ \\\\\n",
       "\t29 & -122.28 & 37.84 & 50.0 & 2082.0 & 492.0 & 1131.0 & $\\dots$ \\\\\n",
       "\t30 & -122.28 & 37.84 & 52.0 & 729.0 & 160.0 & 395.0 & $\\dots$ \\\\\n",
       "\t$\\dots$ & $\\dots$ & $\\dots$ & $\\dots$ & $\\dots$ & $\\dots$ & $\\dots$ &  \\\\\n",
       "\\end{tabular}\n"
      ],
      "text/plain": [
       "\u001b[1m20640×10 DataFrame\u001b[0m\n",
       "\u001b[1m   Row \u001b[0m│\u001b[1m longitude \u001b[0m\u001b[1m latitude \u001b[0m\u001b[1m housing_median_age \u001b[0m\u001b[1m total_rooms \u001b[0m\u001b[1m total_bedrooms \u001b[0m\u001b[1m\u001b[0m ⋯\n",
       "       │\u001b[90m Float64   \u001b[0m\u001b[90m Float64  \u001b[0m\u001b[90m Float64            \u001b[0m\u001b[90m Float64     \u001b[0m\u001b[90m Float64?       \u001b[0m\u001b[90m\u001b[0m ⋯\n",
       "───────┼────────────────────────────────────────────────────────────────────────\n",
       "     1 │   -122.23     37.88                41.0        880.0           129.0  ⋯\n",
       "     2 │   -122.22     37.86                21.0       7099.0          1106.0\n",
       "     3 │   -122.24     37.85                52.0       1467.0           190.0\n",
       "     4 │   -122.25     37.85                52.0       1274.0           235.0\n",
       "     5 │   -122.25     37.85                52.0       1627.0           280.0  ⋯\n",
       "     6 │   -122.25     37.85                52.0        919.0           213.0\n",
       "     7 │   -122.25     37.84                52.0       2535.0           489.0\n",
       "     8 │   -122.25     37.84                52.0       3104.0           687.0\n",
       "     9 │   -122.26     37.84                42.0       2555.0           665.0  ⋯\n",
       "    10 │   -122.25     37.84                52.0       3549.0           707.0\n",
       "    11 │   -122.26     37.85                52.0       2202.0           434.0\n",
       "   ⋮   │     ⋮         ⋮              ⋮                ⋮             ⋮         ⋱\n",
       " 20631 │   -121.32     39.29                11.0       2640.0           505.0\n",
       " 20632 │   -121.4      39.33                15.0       2655.0           493.0  ⋯\n",
       " 20633 │   -121.45     39.26                15.0       2319.0           416.0\n",
       " 20634 │   -121.53     39.19                27.0       2080.0           412.0\n",
       " 20635 │   -121.56     39.27                28.0       2332.0           395.0\n",
       " 20636 │   -121.09     39.48                25.0       1665.0           374.0  ⋯\n",
       " 20637 │   -121.21     39.49                18.0        697.0           150.0\n",
       " 20638 │   -121.22     39.43                17.0       2254.0           485.0\n",
       " 20639 │   -121.32     39.43                18.0       1860.0           409.0\n",
       " 20640 │   -121.24     39.37                16.0       2785.0           616.0  ⋯\n",
       "\u001b[36m                                                5 columns and 20619 rows omitted\u001b[0m"
      ]
     },
     "execution_count": 5,
     "metadata": {},
     "output_type": "execute_result"
    }
   ],
   "source": [
    "#download the data\n",
    "download(\"https://raw.githubusercontent.com/ageron/handson-ml/master/datasets/housing/housing.csv\",\"newhouses.csv\")\n",
    "houses = CSV.read(\"newhouses.csv\", DataFrame)"
   ]
  },
  {
   "cell_type": "code",
   "execution_count": 7,
   "metadata": {},
   "outputs": [
    {
     "data": {
      "text/plain": [
       "10-element Vector{String}:\n",
       " \"longitude\"\n",
       " \"latitude\"\n",
       " \"housing_median_age\"\n",
       " \"total_rooms\"\n",
       " \"total_bedrooms\"\n",
       " \"population\"\n",
       " \"households\"\n",
       " \"median_income\"\n",
       " \"median_house_value\"\n",
       " \"ocean_proximity\""
      ]
     },
     "execution_count": 7,
     "metadata": {},
     "output_type": "execute_result"
    }
   ],
   "source": [
    "#pull the names\n",
    "names(houses) # we will use longitude and latitude for clustering"
   ]
  },
  {
   "cell_type": "markdown",
   "metadata": {},
   "source": [
    "We will use the `VegaLite` package here for plotting. This package makes it very easy to plot information on a map. All you need is a JSON file of the map you intend to draw. Here, we will use the California counties JSON file and plot each house on the map and color code it via a heatmap of the price. This is done by this line `color=\"median_house_value:q\"`"
   ]
  },
  {
   "cell_type": "code",
   "execution_count": 29,
   "metadata": {},
   "outputs": [],
   "source": [
    "#=\n",
    "\n",
    "#plot will take a long time to load\n",
    "cali_shape = JSON.parsefile(\"data/california-counties.json\") #load json california shape\n",
    "# you will generally need a JSON file if you want to plot other countries / regions etc.\n",
    "VV = VegaDatasets.VegaJSONDataset(cali_shape,\"data/california-counties.json\")\n",
    "\n",
    "@vlplot(width=500, height=300) +\n",
    "@vlplot(\n",
    "    mark={\n",
    "        :geoshape,\n",
    "        fill=:black, #black background\n",
    "        stroke=:white\n",
    "    },\n",
    "    data={\n",
    "        values=VV,\n",
    "        format={\n",
    "            type=:topojson,\n",
    "            feature=:cb_2015_california_county_20m\n",
    "        }\n",
    "    },\n",
    "    projection={type=:albersUsa},\n",
    ")+ # as of here, this is plotting the actual scatter\n",
    "@vlplot(\n",
    "    :circle,\n",
    "    data=houses,\n",
    "    projection={type=:albersUsa},\n",
    "    longitude=\"longitude:q\", #specific longitude\n",
    "    latitude=\"latitude:q\", #specific latitude\n",
    "    size={value=12},\n",
    "    color=\"median_house_value:q\"\n",
    "                    \n",
    ")\n",
    "#houses in the inside are a little cheaper\n",
    "\n",
    "=#"
   ]
  },
  {
   "cell_type": "code",
   "execution_count": 18,
   "metadata": {},
   "outputs": [
    {
     "data": {
      "text/plain": [
       "10-element Vector{String}:\n",
       " \"longitude\"\n",
       " \"latitude\"\n",
       " \"housing_median_age\"\n",
       " \"total_rooms\"\n",
       " \"total_bedrooms\"\n",
       " \"population\"\n",
       " \"households\"\n",
       " \"median_income\"\n",
       " \"median_house_value\"\n",
       " \"ocean_proximity\""
      ]
     },
     "execution_count": 18,
     "metadata": {},
     "output_type": "execute_result"
    }
   ],
   "source": [
    "names(houses)"
   ]
  },
  {
   "cell_type": "markdown",
   "metadata": {},
   "source": [
    "Note that the cell above may take a few minutes to run!\n",
    "\n",
    "One thing we will try and explore in this notebook is if clustering the houses has any direct relationship with their prices, so we will bucket the houses into intervals of $50000 and re perform the color codes based on each bucket."
   ]
  },
  {
   "cell_type": "code",
   "execution_count": 31,
   "metadata": {},
   "outputs": [],
   "source": [
    "#=\n",
    "bucketprice = Int.(div.(houses[!,:median_house_value],50000)) #you can bucket houses based on 50k, giving us around 10 buckets\n",
    "insertcols!(houses,3,:cprice=>bucketprice) #we insert the bucket prices in here\n",
    "\n",
    "@vlplot(width=500, height=300) +\n",
    "@vlplot(\n",
    "    mark={\n",
    "        :geoshape,\n",
    "        fill=:black,\n",
    "        stroke=:white\n",
    "    },\n",
    "    data={\n",
    "        values=VV,\n",
    "        format={\n",
    "            type=:topojson,\n",
    "            feature=:cb_2015_california_county_20m\n",
    "        }\n",
    "    },\n",
    "    projection={type=:albersUsa},\n",
    ")+\n",
    "@vlplot(\n",
    "    :circle,\n",
    "    data=houses,\n",
    "    projection={type=:albersUsa},\n",
    "    longitude=\"longitude:q\",\n",
    "    latitude=\"latitude:q\",\n",
    "    size={value=12},\n",
    "    color=\"cprice:n\" #we are using the bucket prices here\n",
    "                    \n",
    ")\n",
    "=#"
   ]
  },
  {
   "cell_type": "markdown",
   "metadata": {},
   "source": [
    "### 🟤K-means clustering"
   ]
  },
  {
   "cell_type": "code",
   "execution_count": 9,
   "metadata": {},
   "outputs": [
    {
     "data": {
      "text/html": [
       "<div><div style = \"float: left;\"><span>20640×11 DataFrame</span></div><div style = \"float: right;\"><span style = \"font-style: italic;\">20615 rows omitted</span></div><div style = \"clear: both;\"></div></div><div class = \"data-frame\" style = \"overflow-x: scroll;\"><table class = \"data-frame\" style = \"margin-bottom: 6px;\"><thead><tr class = \"header\"><th class = \"rowNumber\" style = \"font-weight: bold; text-align: right;\">Row</th><th style = \"text-align: left;\">longitude</th><th style = \"text-align: left;\">latitude</th><th style = \"text-align: left;\">cluster10</th><th style = \"text-align: left;\">housing_median_age</th><th style = \"text-align: left;\">total_rooms</th><th style = \"text-align: left;\">total_bedrooms</th><th style = \"text-align: left;\">population</th><th style = \"text-align: left;\">households</th><th style = \"text-align: left;\">median_income</th><th style = \"text-align: left;\">median_house_value</th><th style = \"text-align: left;\">ocean_proximity</th></tr><tr class = \"subheader headerLastRow\"><th class = \"rowNumber\" style = \"font-weight: bold; text-align: right;\"></th><th title = \"Float64\" style = \"text-align: left;\">Float64</th><th title = \"Float64\" style = \"text-align: left;\">Float64</th><th title = \"Int64\" style = \"text-align: left;\">Int64</th><th title = \"Float64\" style = \"text-align: left;\">Float64</th><th title = \"Float64\" style = \"text-align: left;\">Float64</th><th title = \"Union{Missing, Float64}\" style = \"text-align: left;\">Float64?</th><th title = \"Float64\" style = \"text-align: left;\">Float64</th><th title = \"Float64\" style = \"text-align: left;\">Float64</th><th title = \"Float64\" style = \"text-align: left;\">Float64</th><th title = \"Float64\" style = \"text-align: left;\">Float64</th><th title = \"String15\" style = \"text-align: left;\">String15</th></tr></thead><tbody><tr><td class = \"rowNumber\" style = \"font-weight: bold; text-align: right;\">1</td><td style = \"text-align: right;\">-122.23</td><td style = \"text-align: right;\">37.88</td><td style = \"text-align: right;\">7</td><td style = \"text-align: right;\">41.0</td><td style = \"text-align: right;\">880.0</td><td style = \"text-align: right;\">129.0</td><td style = \"text-align: right;\">322.0</td><td style = \"text-align: right;\">126.0</td><td style = \"text-align: right;\">8.3252</td><td style = \"text-align: right;\">452600.0</td><td style = \"text-align: left;\">NEAR BAY</td></tr><tr><td class = \"rowNumber\" style = \"font-weight: bold; text-align: right;\">2</td><td style = \"text-align: right;\">-122.22</td><td style = \"text-align: right;\">37.86</td><td style = \"text-align: right;\">7</td><td style = \"text-align: right;\">21.0</td><td style = \"text-align: right;\">7099.0</td><td style = \"text-align: right;\">1106.0</td><td style = \"text-align: right;\">2401.0</td><td style = \"text-align: right;\">1138.0</td><td style = \"text-align: right;\">8.3014</td><td style = \"text-align: right;\">358500.0</td><td style = \"text-align: left;\">NEAR BAY</td></tr><tr><td class = \"rowNumber\" style = \"font-weight: bold; text-align: right;\">3</td><td style = \"text-align: right;\">-122.24</td><td style = \"text-align: right;\">37.85</td><td style = \"text-align: right;\">7</td><td style = \"text-align: right;\">52.0</td><td style = \"text-align: right;\">1467.0</td><td style = \"text-align: right;\">190.0</td><td style = \"text-align: right;\">496.0</td><td style = \"text-align: right;\">177.0</td><td style = \"text-align: right;\">7.2574</td><td style = \"text-align: right;\">352100.0</td><td style = \"text-align: left;\">NEAR BAY</td></tr><tr><td class = \"rowNumber\" style = \"font-weight: bold; text-align: right;\">4</td><td style = \"text-align: right;\">-122.25</td><td style = \"text-align: right;\">37.85</td><td style = \"text-align: right;\">7</td><td style = \"text-align: right;\">52.0</td><td style = \"text-align: right;\">1274.0</td><td style = \"text-align: right;\">235.0</td><td style = \"text-align: right;\">558.0</td><td style = \"text-align: right;\">219.0</td><td style = \"text-align: right;\">5.6431</td><td style = \"text-align: right;\">341300.0</td><td style = \"text-align: left;\">NEAR BAY</td></tr><tr><td class = \"rowNumber\" style = \"font-weight: bold; text-align: right;\">5</td><td style = \"text-align: right;\">-122.25</td><td style = \"text-align: right;\">37.85</td><td style = \"text-align: right;\">7</td><td style = \"text-align: right;\">52.0</td><td style = \"text-align: right;\">1627.0</td><td style = \"text-align: right;\">280.0</td><td style = \"text-align: right;\">565.0</td><td style = \"text-align: right;\">259.0</td><td style = \"text-align: right;\">3.8462</td><td style = \"text-align: right;\">342200.0</td><td style = \"text-align: left;\">NEAR BAY</td></tr><tr><td class = \"rowNumber\" style = \"font-weight: bold; text-align: right;\">6</td><td style = \"text-align: right;\">-122.25</td><td style = \"text-align: right;\">37.85</td><td style = \"text-align: right;\">7</td><td style = \"text-align: right;\">52.0</td><td style = \"text-align: right;\">919.0</td><td style = \"text-align: right;\">213.0</td><td style = \"text-align: right;\">413.0</td><td style = \"text-align: right;\">193.0</td><td style = \"text-align: right;\">4.0368</td><td style = \"text-align: right;\">269700.0</td><td style = \"text-align: left;\">NEAR BAY</td></tr><tr><td class = \"rowNumber\" style = \"font-weight: bold; text-align: right;\">7</td><td style = \"text-align: right;\">-122.25</td><td style = \"text-align: right;\">37.84</td><td style = \"text-align: right;\">7</td><td style = \"text-align: right;\">52.0</td><td style = \"text-align: right;\">2535.0</td><td style = \"text-align: right;\">489.0</td><td style = \"text-align: right;\">1094.0</td><td style = \"text-align: right;\">514.0</td><td style = \"text-align: right;\">3.6591</td><td style = \"text-align: right;\">299200.0</td><td style = \"text-align: left;\">NEAR BAY</td></tr><tr><td class = \"rowNumber\" style = \"font-weight: bold; text-align: right;\">8</td><td style = \"text-align: right;\">-122.25</td><td style = \"text-align: right;\">37.84</td><td style = \"text-align: right;\">7</td><td style = \"text-align: right;\">52.0</td><td style = \"text-align: right;\">3104.0</td><td style = \"text-align: right;\">687.0</td><td style = \"text-align: right;\">1157.0</td><td style = \"text-align: right;\">647.0</td><td style = \"text-align: right;\">3.12</td><td style = \"text-align: right;\">241400.0</td><td style = \"text-align: left;\">NEAR BAY</td></tr><tr><td class = \"rowNumber\" style = \"font-weight: bold; text-align: right;\">9</td><td style = \"text-align: right;\">-122.26</td><td style = \"text-align: right;\">37.84</td><td style = \"text-align: right;\">7</td><td style = \"text-align: right;\">42.0</td><td style = \"text-align: right;\">2555.0</td><td style = \"text-align: right;\">665.0</td><td style = \"text-align: right;\">1206.0</td><td style = \"text-align: right;\">595.0</td><td style = \"text-align: right;\">2.0804</td><td style = \"text-align: right;\">226700.0</td><td style = \"text-align: left;\">NEAR BAY</td></tr><tr><td class = \"rowNumber\" style = \"font-weight: bold; text-align: right;\">10</td><td style = \"text-align: right;\">-122.25</td><td style = \"text-align: right;\">37.84</td><td style = \"text-align: right;\">7</td><td style = \"text-align: right;\">52.0</td><td style = \"text-align: right;\">3549.0</td><td style = \"text-align: right;\">707.0</td><td style = \"text-align: right;\">1551.0</td><td style = \"text-align: right;\">714.0</td><td style = \"text-align: right;\">3.6912</td><td style = \"text-align: right;\">261100.0</td><td style = \"text-align: left;\">NEAR BAY</td></tr><tr><td class = \"rowNumber\" style = \"font-weight: bold; text-align: right;\">11</td><td style = \"text-align: right;\">-122.26</td><td style = \"text-align: right;\">37.85</td><td style = \"text-align: right;\">7</td><td style = \"text-align: right;\">52.0</td><td style = \"text-align: right;\">2202.0</td><td style = \"text-align: right;\">434.0</td><td style = \"text-align: right;\">910.0</td><td style = \"text-align: right;\">402.0</td><td style = \"text-align: right;\">3.2031</td><td style = \"text-align: right;\">281500.0</td><td style = \"text-align: left;\">NEAR BAY</td></tr><tr><td class = \"rowNumber\" style = \"font-weight: bold; text-align: right;\">12</td><td style = \"text-align: right;\">-122.26</td><td style = \"text-align: right;\">37.85</td><td style = \"text-align: right;\">7</td><td style = \"text-align: right;\">52.0</td><td style = \"text-align: right;\">3503.0</td><td style = \"text-align: right;\">752.0</td><td style = \"text-align: right;\">1504.0</td><td style = \"text-align: right;\">734.0</td><td style = \"text-align: right;\">3.2705</td><td style = \"text-align: right;\">241800.0</td><td style = \"text-align: left;\">NEAR BAY</td></tr><tr><td class = \"rowNumber\" style = \"font-weight: bold; text-align: right;\">13</td><td style = \"text-align: right;\">-122.26</td><td style = \"text-align: right;\">37.85</td><td style = \"text-align: right;\">7</td><td style = \"text-align: right;\">52.0</td><td style = \"text-align: right;\">2491.0</td><td style = \"text-align: right;\">474.0</td><td style = \"text-align: right;\">1098.0</td><td style = \"text-align: right;\">468.0</td><td style = \"text-align: right;\">3.075</td><td style = \"text-align: right;\">213500.0</td><td style = \"text-align: left;\">NEAR BAY</td></tr><tr><td style = \"text-align: right;\">&vellip;</td><td style = \"text-align: right;\">&vellip;</td><td style = \"text-align: right;\">&vellip;</td><td style = \"text-align: right;\">&vellip;</td><td style = \"text-align: right;\">&vellip;</td><td style = \"text-align: right;\">&vellip;</td><td style = \"text-align: right;\">&vellip;</td><td style = \"text-align: right;\">&vellip;</td><td style = \"text-align: right;\">&vellip;</td><td style = \"text-align: right;\">&vellip;</td><td style = \"text-align: right;\">&vellip;</td><td style = \"text-align: right;\">&vellip;</td></tr><tr><td class = \"rowNumber\" style = \"font-weight: bold; text-align: right;\">20629</td><td style = \"text-align: right;\">-121.48</td><td style = \"text-align: right;\">39.1</td><td style = \"text-align: right;\">10</td><td style = \"text-align: right;\">19.0</td><td style = \"text-align: right;\">2043.0</td><td style = \"text-align: right;\">421.0</td><td style = \"text-align: right;\">1018.0</td><td style = \"text-align: right;\">390.0</td><td style = \"text-align: right;\">2.5952</td><td style = \"text-align: right;\">92400.0</td><td style = \"text-align: left;\">INLAND</td></tr><tr><td class = \"rowNumber\" style = \"font-weight: bold; text-align: right;\">20630</td><td style = \"text-align: right;\">-121.39</td><td style = \"text-align: right;\">39.12</td><td style = \"text-align: right;\">10</td><td style = \"text-align: right;\">28.0</td><td style = \"text-align: right;\">10035.0</td><td style = \"text-align: right;\">1856.0</td><td style = \"text-align: right;\">6912.0</td><td style = \"text-align: right;\">1818.0</td><td style = \"text-align: right;\">2.0943</td><td style = \"text-align: right;\">108300.0</td><td style = \"text-align: left;\">INLAND</td></tr><tr><td class = \"rowNumber\" style = \"font-weight: bold; text-align: right;\">20631</td><td style = \"text-align: right;\">-121.32</td><td style = \"text-align: right;\">39.29</td><td style = \"text-align: right;\">10</td><td style = \"text-align: right;\">11.0</td><td style = \"text-align: right;\">2640.0</td><td style = \"text-align: right;\">505.0</td><td style = \"text-align: right;\">1257.0</td><td style = \"text-align: right;\">445.0</td><td style = \"text-align: right;\">3.5673</td><td style = \"text-align: right;\">112000.0</td><td style = \"text-align: left;\">INLAND</td></tr><tr><td class = \"rowNumber\" style = \"font-weight: bold; text-align: right;\">20632</td><td style = \"text-align: right;\">-121.4</td><td style = \"text-align: right;\">39.33</td><td style = \"text-align: right;\">5</td><td style = \"text-align: right;\">15.0</td><td style = \"text-align: right;\">2655.0</td><td style = \"text-align: right;\">493.0</td><td style = \"text-align: right;\">1200.0</td><td style = \"text-align: right;\">432.0</td><td style = \"text-align: right;\">3.5179</td><td style = \"text-align: right;\">107200.0</td><td style = \"text-align: left;\">INLAND</td></tr><tr><td class = \"rowNumber\" style = \"font-weight: bold; text-align: right;\">20633</td><td style = \"text-align: right;\">-121.45</td><td style = \"text-align: right;\">39.26</td><td style = \"text-align: right;\">5</td><td style = \"text-align: right;\">15.0</td><td style = \"text-align: right;\">2319.0</td><td style = \"text-align: right;\">416.0</td><td style = \"text-align: right;\">1047.0</td><td style = \"text-align: right;\">385.0</td><td style = \"text-align: right;\">3.125</td><td style = \"text-align: right;\">115600.0</td><td style = \"text-align: left;\">INLAND</td></tr><tr><td class = \"rowNumber\" style = \"font-weight: bold; text-align: right;\">20634</td><td style = \"text-align: right;\">-121.53</td><td style = \"text-align: right;\">39.19</td><td style = \"text-align: right;\">10</td><td style = \"text-align: right;\">27.0</td><td style = \"text-align: right;\">2080.0</td><td style = \"text-align: right;\">412.0</td><td style = \"text-align: right;\">1082.0</td><td style = \"text-align: right;\">382.0</td><td style = \"text-align: right;\">2.5495</td><td style = \"text-align: right;\">98300.0</td><td style = \"text-align: left;\">INLAND</td></tr><tr><td class = \"rowNumber\" style = \"font-weight: bold; text-align: right;\">20635</td><td style = \"text-align: right;\">-121.56</td><td style = \"text-align: right;\">39.27</td><td style = \"text-align: right;\">5</td><td style = \"text-align: right;\">28.0</td><td style = \"text-align: right;\">2332.0</td><td style = \"text-align: right;\">395.0</td><td style = \"text-align: right;\">1041.0</td><td style = \"text-align: right;\">344.0</td><td style = \"text-align: right;\">3.7125</td><td style = \"text-align: right;\">116800.0</td><td style = \"text-align: left;\">INLAND</td></tr><tr><td class = \"rowNumber\" style = \"font-weight: bold; text-align: right;\">20636</td><td style = \"text-align: right;\">-121.09</td><td style = \"text-align: right;\">39.48</td><td style = \"text-align: right;\">5</td><td style = \"text-align: right;\">25.0</td><td style = \"text-align: right;\">1665.0</td><td style = \"text-align: right;\">374.0</td><td style = \"text-align: right;\">845.0</td><td style = \"text-align: right;\">330.0</td><td style = \"text-align: right;\">1.5603</td><td style = \"text-align: right;\">78100.0</td><td style = \"text-align: left;\">INLAND</td></tr><tr><td class = \"rowNumber\" style = \"font-weight: bold; text-align: right;\">20637</td><td style = \"text-align: right;\">-121.21</td><td style = \"text-align: right;\">39.49</td><td style = \"text-align: right;\">5</td><td style = \"text-align: right;\">18.0</td><td style = \"text-align: right;\">697.0</td><td style = \"text-align: right;\">150.0</td><td style = \"text-align: right;\">356.0</td><td style = \"text-align: right;\">114.0</td><td style = \"text-align: right;\">2.5568</td><td style = \"text-align: right;\">77100.0</td><td style = \"text-align: left;\">INLAND</td></tr><tr><td class = \"rowNumber\" style = \"font-weight: bold; text-align: right;\">20638</td><td style = \"text-align: right;\">-121.22</td><td style = \"text-align: right;\">39.43</td><td style = \"text-align: right;\">5</td><td style = \"text-align: right;\">17.0</td><td style = \"text-align: right;\">2254.0</td><td style = \"text-align: right;\">485.0</td><td style = \"text-align: right;\">1007.0</td><td style = \"text-align: right;\">433.0</td><td style = \"text-align: right;\">1.7</td><td style = \"text-align: right;\">92300.0</td><td style = \"text-align: left;\">INLAND</td></tr><tr><td class = \"rowNumber\" style = \"font-weight: bold; text-align: right;\">20639</td><td style = \"text-align: right;\">-121.32</td><td style = \"text-align: right;\">39.43</td><td style = \"text-align: right;\">5</td><td style = \"text-align: right;\">18.0</td><td style = \"text-align: right;\">1860.0</td><td style = \"text-align: right;\">409.0</td><td style = \"text-align: right;\">741.0</td><td style = \"text-align: right;\">349.0</td><td style = \"text-align: right;\">1.8672</td><td style = \"text-align: right;\">84700.0</td><td style = \"text-align: left;\">INLAND</td></tr><tr><td class = \"rowNumber\" style = \"font-weight: bold; text-align: right;\">20640</td><td style = \"text-align: right;\">-121.24</td><td style = \"text-align: right;\">39.37</td><td style = \"text-align: right;\">5</td><td style = \"text-align: right;\">16.0</td><td style = \"text-align: right;\">2785.0</td><td style = \"text-align: right;\">616.0</td><td style = \"text-align: right;\">1387.0</td><td style = \"text-align: right;\">530.0</td><td style = \"text-align: right;\">2.3886</td><td style = \"text-align: right;\">89400.0</td><td style = \"text-align: left;\">INLAND</td></tr></tbody></table></div>"
      ],
      "text/latex": [
       "\\begin{tabular}{r|ccccccc}\n",
       "\t& longitude & latitude & cluster10 & housing\\_median\\_age & total\\_rooms & total\\_bedrooms & \\\\\n",
       "\t\\hline\n",
       "\t& Float64 & Float64 & Int64 & Float64 & Float64 & Float64? & \\\\\n",
       "\t\\hline\n",
       "\t1 & -122.23 & 37.88 & 7 & 41.0 & 880.0 & 129.0 & $\\dots$ \\\\\n",
       "\t2 & -122.22 & 37.86 & 7 & 21.0 & 7099.0 & 1106.0 & $\\dots$ \\\\\n",
       "\t3 & -122.24 & 37.85 & 7 & 52.0 & 1467.0 & 190.0 & $\\dots$ \\\\\n",
       "\t4 & -122.25 & 37.85 & 7 & 52.0 & 1274.0 & 235.0 & $\\dots$ \\\\\n",
       "\t5 & -122.25 & 37.85 & 7 & 52.0 & 1627.0 & 280.0 & $\\dots$ \\\\\n",
       "\t6 & -122.25 & 37.85 & 7 & 52.0 & 919.0 & 213.0 & $\\dots$ \\\\\n",
       "\t7 & -122.25 & 37.84 & 7 & 52.0 & 2535.0 & 489.0 & $\\dots$ \\\\\n",
       "\t8 & -122.25 & 37.84 & 7 & 52.0 & 3104.0 & 687.0 & $\\dots$ \\\\\n",
       "\t9 & -122.26 & 37.84 & 7 & 42.0 & 2555.0 & 665.0 & $\\dots$ \\\\\n",
       "\t10 & -122.25 & 37.84 & 7 & 52.0 & 3549.0 & 707.0 & $\\dots$ \\\\\n",
       "\t11 & -122.26 & 37.85 & 7 & 52.0 & 2202.0 & 434.0 & $\\dots$ \\\\\n",
       "\t12 & -122.26 & 37.85 & 7 & 52.0 & 3503.0 & 752.0 & $\\dots$ \\\\\n",
       "\t13 & -122.26 & 37.85 & 7 & 52.0 & 2491.0 & 474.0 & $\\dots$ \\\\\n",
       "\t14 & -122.26 & 37.84 & 7 & 52.0 & 696.0 & 191.0 & $\\dots$ \\\\\n",
       "\t15 & -122.26 & 37.85 & 7 & 52.0 & 2643.0 & 626.0 & $\\dots$ \\\\\n",
       "\t16 & -122.26 & 37.85 & 7 & 50.0 & 1120.0 & 283.0 & $\\dots$ \\\\\n",
       "\t17 & -122.27 & 37.85 & 7 & 52.0 & 1966.0 & 347.0 & $\\dots$ \\\\\n",
       "\t18 & -122.27 & 37.85 & 7 & 52.0 & 1228.0 & 293.0 & $\\dots$ \\\\\n",
       "\t19 & -122.26 & 37.84 & 7 & 50.0 & 2239.0 & 455.0 & $\\dots$ \\\\\n",
       "\t20 & -122.27 & 37.84 & 7 & 52.0 & 1503.0 & 298.0 & $\\dots$ \\\\\n",
       "\t21 & -122.27 & 37.85 & 7 & 40.0 & 751.0 & 184.0 & $\\dots$ \\\\\n",
       "\t22 & -122.27 & 37.85 & 7 & 42.0 & 1639.0 & 367.0 & $\\dots$ \\\\\n",
       "\t23 & -122.27 & 37.84 & 7 & 52.0 & 2436.0 & 541.0 & $\\dots$ \\\\\n",
       "\t24 & -122.27 & 37.84 & 7 & 52.0 & 1688.0 & 337.0 & $\\dots$ \\\\\n",
       "\t25 & -122.27 & 37.84 & 7 & 52.0 & 2224.0 & 437.0 & $\\dots$ \\\\\n",
       "\t26 & -122.28 & 37.85 & 7 & 41.0 & 535.0 & 123.0 & $\\dots$ \\\\\n",
       "\t27 & -122.28 & 37.85 & 7 & 49.0 & 1130.0 & 244.0 & $\\dots$ \\\\\n",
       "\t28 & -122.28 & 37.85 & 7 & 52.0 & 1898.0 & 421.0 & $\\dots$ \\\\\n",
       "\t29 & -122.28 & 37.84 & 7 & 50.0 & 2082.0 & 492.0 & $\\dots$ \\\\\n",
       "\t30 & -122.28 & 37.84 & 7 & 52.0 & 729.0 & 160.0 & $\\dots$ \\\\\n",
       "\t$\\dots$ & $\\dots$ & $\\dots$ & $\\dots$ & $\\dots$ & $\\dots$ & $\\dots$ &  \\\\\n",
       "\\end{tabular}\n"
      ],
      "text/plain": [
       "\u001b[1m20640×11 DataFrame\u001b[0m\n",
       "\u001b[1m   Row \u001b[0m│\u001b[1m longitude \u001b[0m\u001b[1m latitude \u001b[0m\u001b[1m cluster10 \u001b[0m\u001b[1m housing_median_age \u001b[0m\u001b[1m total_rooms \u001b[0m\u001b[1m tota\u001b[0m ⋯\n",
       "       │\u001b[90m Float64   \u001b[0m\u001b[90m Float64  \u001b[0m\u001b[90m Int64     \u001b[0m\u001b[90m Float64            \u001b[0m\u001b[90m Float64     \u001b[0m\u001b[90m Floa\u001b[0m ⋯\n",
       "───────┼────────────────────────────────────────────────────────────────────────\n",
       "     1 │   -122.23     37.88          7                41.0        880.0       ⋯\n",
       "     2 │   -122.22     37.86          7                21.0       7099.0\n",
       "     3 │   -122.24     37.85          7                52.0       1467.0\n",
       "     4 │   -122.25     37.85          7                52.0       1274.0\n",
       "     5 │   -122.25     37.85          7                52.0       1627.0       ⋯\n",
       "     6 │   -122.25     37.85          7                52.0        919.0\n",
       "     7 │   -122.25     37.84          7                52.0       2535.0\n",
       "     8 │   -122.25     37.84          7                52.0       3104.0\n",
       "     9 │   -122.26     37.84          7                42.0       2555.0       ⋯\n",
       "    10 │   -122.25     37.84          7                52.0       3549.0\n",
       "    11 │   -122.26     37.85          7                52.0       2202.0\n",
       "   ⋮   │     ⋮         ⋮          ⋮              ⋮                ⋮            ⋱\n",
       " 20631 │   -121.32     39.29         10                11.0       2640.0\n",
       " 20632 │   -121.4      39.33          5                15.0       2655.0       ⋯\n",
       " 20633 │   -121.45     39.26          5                15.0       2319.0\n",
       " 20634 │   -121.53     39.19         10                27.0       2080.0\n",
       " 20635 │   -121.56     39.27          5                28.0       2332.0\n",
       " 20636 │   -121.09     39.48          5                25.0       1665.0       ⋯\n",
       " 20637 │   -121.21     39.49          5                18.0        697.0\n",
       " 20638 │   -121.22     39.43          5                17.0       2254.0\n",
       " 20639 │   -121.32     39.43          5                18.0       1860.0\n",
       " 20640 │   -121.24     39.37          5                16.0       2785.0       ⋯\n",
       "\u001b[36m                                                6 columns and 20619 rows omitted\u001b[0m"
      ]
     },
     "execution_count": 9,
     "metadata": {},
     "output_type": "execute_result"
    }
   ],
   "source": [
    "X = houses[!, [:latitude,:longitude]] # get latitude and longitude and put it into dataframe\n",
    "C = kmeans(Matrix(X)', 10)  #run kmeans on the data but as matrix\n",
    "# we need it to transpose though because kmeans expects every column to be one house\n",
    "# we use 10 clusters\n",
    "insertcols!(houses,3,:cluster10=>C.assignments) #added cluster10 back to the dataset"
   ]
  },
  {
   "cell_type": "code",
   "execution_count": 33,
   "metadata": {},
   "outputs": [],
   "source": [
    "#=\n",
    "@vlplot(width=500, height=300) +\n",
    "@vlplot(\n",
    "    mark={\n",
    "        :geoshape,\n",
    "        fill=:black,\n",
    "        stroke=:white\n",
    "    },\n",
    "    data={\n",
    "        values=VV,\n",
    "        format={\n",
    "            type=:topojson,\n",
    "            feature=:cb_2015_california_county_20m\n",
    "        }\n",
    "    },\n",
    "    projection={type=:albersUsa},\n",
    ")+\n",
    "@vlplot(\n",
    "    :circle,\n",
    "    data=houses,\n",
    "    projection={type=:albersUsa},\n",
    "    longitude=\"longitude:q\",\n",
    "    latitude=\"latitude:q\",\n",
    "    size={value=12},\n",
    "    color=\"cluster10:n\" #using k-means data\n",
    "                    \n",
    ")\n",
    "=#"
   ]
  },
  {
   "cell_type": "markdown",
   "metadata": {},
   "source": [
    "Yes, location affects price of the house but this means location as in proximity to water, prosimity to downtown, promisity to a bus stop and so on\n",
    "\n",
    "lets' see if this remains true for the rest."
   ]
  },
  {
   "cell_type": "markdown",
   "metadata": {},
   "source": [
    "### 🟤K-medoids clustering\n",
    "For this type of clustering, we need to build a distance matrix. We will use the `Distances` package for this purpose and compute the pairwise Euclidean distances."
   ]
  },
  {
   "cell_type": "code",
   "execution_count": 11,
   "metadata": {},
   "outputs": [
    {
     "data": {
      "text/html": [
       "<div><div style = \"float: left;\"><span>20640×12 DataFrame</span></div><div style = \"float: right;\"><span style = \"font-style: italic;\">20615 rows omitted</span></div><div style = \"clear: both;\"></div></div><div class = \"data-frame\" style = \"overflow-x: scroll;\"><table class = \"data-frame\" style = \"margin-bottom: 6px;\"><thead><tr class = \"header\"><th class = \"rowNumber\" style = \"font-weight: bold; text-align: right;\">Row</th><th style = \"text-align: left;\">longitude</th><th style = \"text-align: left;\">latitude</th><th style = \"text-align: left;\">medoids_clusters</th><th style = \"text-align: left;\">cluster10</th><th style = \"text-align: left;\">housing_median_age</th><th style = \"text-align: left;\">total_rooms</th><th style = \"text-align: left;\">total_bedrooms</th><th style = \"text-align: left;\">population</th><th style = \"text-align: left;\">households</th><th style = \"text-align: left;\">median_income</th><th style = \"text-align: left;\">median_house_value</th><th style = \"text-align: left;\">ocean_proximity</th></tr><tr class = \"subheader headerLastRow\"><th class = \"rowNumber\" style = \"font-weight: bold; text-align: right;\"></th><th title = \"Float64\" style = \"text-align: left;\">Float64</th><th title = \"Float64\" style = \"text-align: left;\">Float64</th><th title = \"Int64\" style = \"text-align: left;\">Int64</th><th title = \"Int64\" style = \"text-align: left;\">Int64</th><th title = \"Float64\" style = \"text-align: left;\">Float64</th><th title = \"Float64\" style = \"text-align: left;\">Float64</th><th title = \"Union{Missing, Float64}\" style = \"text-align: left;\">Float64?</th><th title = \"Float64\" style = \"text-align: left;\">Float64</th><th title = \"Float64\" style = \"text-align: left;\">Float64</th><th title = \"Float64\" style = \"text-align: left;\">Float64</th><th title = \"Float64\" style = \"text-align: left;\">Float64</th><th title = \"String15\" style = \"text-align: left;\">String15</th></tr></thead><tbody><tr><td class = \"rowNumber\" style = \"font-weight: bold; text-align: right;\">1</td><td style = \"text-align: right;\">-122.23</td><td style = \"text-align: right;\">37.88</td><td style = \"text-align: right;\">5</td><td style = \"text-align: right;\">7</td><td style = \"text-align: right;\">41.0</td><td style = \"text-align: right;\">880.0</td><td style = \"text-align: right;\">129.0</td><td style = \"text-align: right;\">322.0</td><td style = \"text-align: right;\">126.0</td><td style = \"text-align: right;\">8.3252</td><td style = \"text-align: right;\">452600.0</td><td style = \"text-align: left;\">NEAR BAY</td></tr><tr><td class = \"rowNumber\" style = \"font-weight: bold; text-align: right;\">2</td><td style = \"text-align: right;\">-122.22</td><td style = \"text-align: right;\">37.86</td><td style = \"text-align: right;\">5</td><td style = \"text-align: right;\">7</td><td style = \"text-align: right;\">21.0</td><td style = \"text-align: right;\">7099.0</td><td style = \"text-align: right;\">1106.0</td><td style = \"text-align: right;\">2401.0</td><td style = \"text-align: right;\">1138.0</td><td style = \"text-align: right;\">8.3014</td><td style = \"text-align: right;\">358500.0</td><td style = \"text-align: left;\">NEAR BAY</td></tr><tr><td class = \"rowNumber\" style = \"font-weight: bold; text-align: right;\">3</td><td style = \"text-align: right;\">-122.24</td><td style = \"text-align: right;\">37.85</td><td style = \"text-align: right;\">5</td><td style = \"text-align: right;\">7</td><td style = \"text-align: right;\">52.0</td><td style = \"text-align: right;\">1467.0</td><td style = \"text-align: right;\">190.0</td><td style = \"text-align: right;\">496.0</td><td style = \"text-align: right;\">177.0</td><td style = \"text-align: right;\">7.2574</td><td style = \"text-align: right;\">352100.0</td><td style = \"text-align: left;\">NEAR BAY</td></tr><tr><td class = \"rowNumber\" style = \"font-weight: bold; text-align: right;\">4</td><td style = \"text-align: right;\">-122.25</td><td style = \"text-align: right;\">37.85</td><td style = \"text-align: right;\">5</td><td style = \"text-align: right;\">7</td><td style = \"text-align: right;\">52.0</td><td style = \"text-align: right;\">1274.0</td><td style = \"text-align: right;\">235.0</td><td style = \"text-align: right;\">558.0</td><td style = \"text-align: right;\">219.0</td><td style = \"text-align: right;\">5.6431</td><td style = \"text-align: right;\">341300.0</td><td style = \"text-align: left;\">NEAR BAY</td></tr><tr><td class = \"rowNumber\" style = \"font-weight: bold; text-align: right;\">5</td><td style = \"text-align: right;\">-122.25</td><td style = \"text-align: right;\">37.85</td><td style = \"text-align: right;\">5</td><td style = \"text-align: right;\">7</td><td style = \"text-align: right;\">52.0</td><td style = \"text-align: right;\">1627.0</td><td style = \"text-align: right;\">280.0</td><td style = \"text-align: right;\">565.0</td><td style = \"text-align: right;\">259.0</td><td style = \"text-align: right;\">3.8462</td><td style = \"text-align: right;\">342200.0</td><td style = \"text-align: left;\">NEAR BAY</td></tr><tr><td class = \"rowNumber\" style = \"font-weight: bold; text-align: right;\">6</td><td style = \"text-align: right;\">-122.25</td><td style = \"text-align: right;\">37.85</td><td style = \"text-align: right;\">5</td><td style = \"text-align: right;\">7</td><td style = \"text-align: right;\">52.0</td><td style = \"text-align: right;\">919.0</td><td style = \"text-align: right;\">213.0</td><td style = \"text-align: right;\">413.0</td><td style = \"text-align: right;\">193.0</td><td style = \"text-align: right;\">4.0368</td><td style = \"text-align: right;\">269700.0</td><td style = \"text-align: left;\">NEAR BAY</td></tr><tr><td class = \"rowNumber\" style = \"font-weight: bold; text-align: right;\">7</td><td style = \"text-align: right;\">-122.25</td><td style = \"text-align: right;\">37.84</td><td style = \"text-align: right;\">5</td><td style = \"text-align: right;\">7</td><td style = \"text-align: right;\">52.0</td><td style = \"text-align: right;\">2535.0</td><td style = \"text-align: right;\">489.0</td><td style = \"text-align: right;\">1094.0</td><td style = \"text-align: right;\">514.0</td><td style = \"text-align: right;\">3.6591</td><td style = \"text-align: right;\">299200.0</td><td style = \"text-align: left;\">NEAR BAY</td></tr><tr><td class = \"rowNumber\" style = \"font-weight: bold; text-align: right;\">8</td><td style = \"text-align: right;\">-122.25</td><td style = \"text-align: right;\">37.84</td><td style = \"text-align: right;\">5</td><td style = \"text-align: right;\">7</td><td style = \"text-align: right;\">52.0</td><td style = \"text-align: right;\">3104.0</td><td style = \"text-align: right;\">687.0</td><td style = \"text-align: right;\">1157.0</td><td style = \"text-align: right;\">647.0</td><td style = \"text-align: right;\">3.12</td><td style = \"text-align: right;\">241400.0</td><td style = \"text-align: left;\">NEAR BAY</td></tr><tr><td class = \"rowNumber\" style = \"font-weight: bold; text-align: right;\">9</td><td style = \"text-align: right;\">-122.26</td><td style = \"text-align: right;\">37.84</td><td style = \"text-align: right;\">5</td><td style = \"text-align: right;\">7</td><td style = \"text-align: right;\">42.0</td><td style = \"text-align: right;\">2555.0</td><td style = \"text-align: right;\">665.0</td><td style = \"text-align: right;\">1206.0</td><td style = \"text-align: right;\">595.0</td><td style = \"text-align: right;\">2.0804</td><td style = \"text-align: right;\">226700.0</td><td style = \"text-align: left;\">NEAR BAY</td></tr><tr><td class = \"rowNumber\" style = \"font-weight: bold; text-align: right;\">10</td><td style = \"text-align: right;\">-122.25</td><td style = \"text-align: right;\">37.84</td><td style = \"text-align: right;\">5</td><td style = \"text-align: right;\">7</td><td style = \"text-align: right;\">52.0</td><td style = \"text-align: right;\">3549.0</td><td style = \"text-align: right;\">707.0</td><td style = \"text-align: right;\">1551.0</td><td style = \"text-align: right;\">714.0</td><td style = \"text-align: right;\">3.6912</td><td style = \"text-align: right;\">261100.0</td><td style = \"text-align: left;\">NEAR BAY</td></tr><tr><td class = \"rowNumber\" style = \"font-weight: bold; text-align: right;\">11</td><td style = \"text-align: right;\">-122.26</td><td style = \"text-align: right;\">37.85</td><td style = \"text-align: right;\">5</td><td style = \"text-align: right;\">7</td><td style = \"text-align: right;\">52.0</td><td style = \"text-align: right;\">2202.0</td><td style = \"text-align: right;\">434.0</td><td style = \"text-align: right;\">910.0</td><td style = \"text-align: right;\">402.0</td><td style = \"text-align: right;\">3.2031</td><td style = \"text-align: right;\">281500.0</td><td style = \"text-align: left;\">NEAR BAY</td></tr><tr><td class = \"rowNumber\" style = \"font-weight: bold; text-align: right;\">12</td><td style = \"text-align: right;\">-122.26</td><td style = \"text-align: right;\">37.85</td><td style = \"text-align: right;\">5</td><td style = \"text-align: right;\">7</td><td style = \"text-align: right;\">52.0</td><td style = \"text-align: right;\">3503.0</td><td style = \"text-align: right;\">752.0</td><td style = \"text-align: right;\">1504.0</td><td style = \"text-align: right;\">734.0</td><td style = \"text-align: right;\">3.2705</td><td style = \"text-align: right;\">241800.0</td><td style = \"text-align: left;\">NEAR BAY</td></tr><tr><td class = \"rowNumber\" style = \"font-weight: bold; text-align: right;\">13</td><td style = \"text-align: right;\">-122.26</td><td style = \"text-align: right;\">37.85</td><td style = \"text-align: right;\">5</td><td style = \"text-align: right;\">7</td><td style = \"text-align: right;\">52.0</td><td style = \"text-align: right;\">2491.0</td><td style = \"text-align: right;\">474.0</td><td style = \"text-align: right;\">1098.0</td><td style = \"text-align: right;\">468.0</td><td style = \"text-align: right;\">3.075</td><td style = \"text-align: right;\">213500.0</td><td style = \"text-align: left;\">NEAR BAY</td></tr><tr><td style = \"text-align: right;\">&vellip;</td><td style = \"text-align: right;\">&vellip;</td><td style = \"text-align: right;\">&vellip;</td><td style = \"text-align: right;\">&vellip;</td><td style = \"text-align: right;\">&vellip;</td><td style = \"text-align: right;\">&vellip;</td><td style = \"text-align: right;\">&vellip;</td><td style = \"text-align: right;\">&vellip;</td><td style = \"text-align: right;\">&vellip;</td><td style = \"text-align: right;\">&vellip;</td><td style = \"text-align: right;\">&vellip;</td><td style = \"text-align: right;\">&vellip;</td><td style = \"text-align: right;\">&vellip;</td></tr><tr><td class = \"rowNumber\" style = \"font-weight: bold; text-align: right;\">20629</td><td style = \"text-align: right;\">-121.48</td><td style = \"text-align: right;\">39.1</td><td style = \"text-align: right;\">6</td><td style = \"text-align: right;\">10</td><td style = \"text-align: right;\">19.0</td><td style = \"text-align: right;\">2043.0</td><td style = \"text-align: right;\">421.0</td><td style = \"text-align: right;\">1018.0</td><td style = \"text-align: right;\">390.0</td><td style = \"text-align: right;\">2.5952</td><td style = \"text-align: right;\">92400.0</td><td style = \"text-align: left;\">INLAND</td></tr><tr><td class = \"rowNumber\" style = \"font-weight: bold; text-align: right;\">20630</td><td style = \"text-align: right;\">-121.39</td><td style = \"text-align: right;\">39.12</td><td style = \"text-align: right;\">6</td><td style = \"text-align: right;\">10</td><td style = \"text-align: right;\">28.0</td><td style = \"text-align: right;\">10035.0</td><td style = \"text-align: right;\">1856.0</td><td style = \"text-align: right;\">6912.0</td><td style = \"text-align: right;\">1818.0</td><td style = \"text-align: right;\">2.0943</td><td style = \"text-align: right;\">108300.0</td><td style = \"text-align: left;\">INLAND</td></tr><tr><td class = \"rowNumber\" style = \"font-weight: bold; text-align: right;\">20631</td><td style = \"text-align: right;\">-121.32</td><td style = \"text-align: right;\">39.29</td><td style = \"text-align: right;\">6</td><td style = \"text-align: right;\">10</td><td style = \"text-align: right;\">11.0</td><td style = \"text-align: right;\">2640.0</td><td style = \"text-align: right;\">505.0</td><td style = \"text-align: right;\">1257.0</td><td style = \"text-align: right;\">445.0</td><td style = \"text-align: right;\">3.5673</td><td style = \"text-align: right;\">112000.0</td><td style = \"text-align: left;\">INLAND</td></tr><tr><td class = \"rowNumber\" style = \"font-weight: bold; text-align: right;\">20632</td><td style = \"text-align: right;\">-121.4</td><td style = \"text-align: right;\">39.33</td><td style = \"text-align: right;\">6</td><td style = \"text-align: right;\">5</td><td style = \"text-align: right;\">15.0</td><td style = \"text-align: right;\">2655.0</td><td style = \"text-align: right;\">493.0</td><td style = \"text-align: right;\">1200.0</td><td style = \"text-align: right;\">432.0</td><td style = \"text-align: right;\">3.5179</td><td style = \"text-align: right;\">107200.0</td><td style = \"text-align: left;\">INLAND</td></tr><tr><td class = \"rowNumber\" style = \"font-weight: bold; text-align: right;\">20633</td><td style = \"text-align: right;\">-121.45</td><td style = \"text-align: right;\">39.26</td><td style = \"text-align: right;\">6</td><td style = \"text-align: right;\">5</td><td style = \"text-align: right;\">15.0</td><td style = \"text-align: right;\">2319.0</td><td style = \"text-align: right;\">416.0</td><td style = \"text-align: right;\">1047.0</td><td style = \"text-align: right;\">385.0</td><td style = \"text-align: right;\">3.125</td><td style = \"text-align: right;\">115600.0</td><td style = \"text-align: left;\">INLAND</td></tr><tr><td class = \"rowNumber\" style = \"font-weight: bold; text-align: right;\">20634</td><td style = \"text-align: right;\">-121.53</td><td style = \"text-align: right;\">39.19</td><td style = \"text-align: right;\">6</td><td style = \"text-align: right;\">10</td><td style = \"text-align: right;\">27.0</td><td style = \"text-align: right;\">2080.0</td><td style = \"text-align: right;\">412.0</td><td style = \"text-align: right;\">1082.0</td><td style = \"text-align: right;\">382.0</td><td style = \"text-align: right;\">2.5495</td><td style = \"text-align: right;\">98300.0</td><td style = \"text-align: left;\">INLAND</td></tr><tr><td class = \"rowNumber\" style = \"font-weight: bold; text-align: right;\">20635</td><td style = \"text-align: right;\">-121.56</td><td style = \"text-align: right;\">39.27</td><td style = \"text-align: right;\">6</td><td style = \"text-align: right;\">5</td><td style = \"text-align: right;\">28.0</td><td style = \"text-align: right;\">2332.0</td><td style = \"text-align: right;\">395.0</td><td style = \"text-align: right;\">1041.0</td><td style = \"text-align: right;\">344.0</td><td style = \"text-align: right;\">3.7125</td><td style = \"text-align: right;\">116800.0</td><td style = \"text-align: left;\">INLAND</td></tr><tr><td class = \"rowNumber\" style = \"font-weight: bold; text-align: right;\">20636</td><td style = \"text-align: right;\">-121.09</td><td style = \"text-align: right;\">39.48</td><td style = \"text-align: right;\">6</td><td style = \"text-align: right;\">5</td><td style = \"text-align: right;\">25.0</td><td style = \"text-align: right;\">1665.0</td><td style = \"text-align: right;\">374.0</td><td style = \"text-align: right;\">845.0</td><td style = \"text-align: right;\">330.0</td><td style = \"text-align: right;\">1.5603</td><td style = \"text-align: right;\">78100.0</td><td style = \"text-align: left;\">INLAND</td></tr><tr><td class = \"rowNumber\" style = \"font-weight: bold; text-align: right;\">20637</td><td style = \"text-align: right;\">-121.21</td><td style = \"text-align: right;\">39.49</td><td style = \"text-align: right;\">6</td><td style = \"text-align: right;\">5</td><td style = \"text-align: right;\">18.0</td><td style = \"text-align: right;\">697.0</td><td style = \"text-align: right;\">150.0</td><td style = \"text-align: right;\">356.0</td><td style = \"text-align: right;\">114.0</td><td style = \"text-align: right;\">2.5568</td><td style = \"text-align: right;\">77100.0</td><td style = \"text-align: left;\">INLAND</td></tr><tr><td class = \"rowNumber\" style = \"font-weight: bold; text-align: right;\">20638</td><td style = \"text-align: right;\">-121.22</td><td style = \"text-align: right;\">39.43</td><td style = \"text-align: right;\">6</td><td style = \"text-align: right;\">5</td><td style = \"text-align: right;\">17.0</td><td style = \"text-align: right;\">2254.0</td><td style = \"text-align: right;\">485.0</td><td style = \"text-align: right;\">1007.0</td><td style = \"text-align: right;\">433.0</td><td style = \"text-align: right;\">1.7</td><td style = \"text-align: right;\">92300.0</td><td style = \"text-align: left;\">INLAND</td></tr><tr><td class = \"rowNumber\" style = \"font-weight: bold; text-align: right;\">20639</td><td style = \"text-align: right;\">-121.32</td><td style = \"text-align: right;\">39.43</td><td style = \"text-align: right;\">6</td><td style = \"text-align: right;\">5</td><td style = \"text-align: right;\">18.0</td><td style = \"text-align: right;\">1860.0</td><td style = \"text-align: right;\">409.0</td><td style = \"text-align: right;\">741.0</td><td style = \"text-align: right;\">349.0</td><td style = \"text-align: right;\">1.8672</td><td style = \"text-align: right;\">84700.0</td><td style = \"text-align: left;\">INLAND</td></tr><tr><td class = \"rowNumber\" style = \"font-weight: bold; text-align: right;\">20640</td><td style = \"text-align: right;\">-121.24</td><td style = \"text-align: right;\">39.37</td><td style = \"text-align: right;\">6</td><td style = \"text-align: right;\">5</td><td style = \"text-align: right;\">16.0</td><td style = \"text-align: right;\">2785.0</td><td style = \"text-align: right;\">616.0</td><td style = \"text-align: right;\">1387.0</td><td style = \"text-align: right;\">530.0</td><td style = \"text-align: right;\">2.3886</td><td style = \"text-align: right;\">89400.0</td><td style = \"text-align: left;\">INLAND</td></tr></tbody></table></div>"
      ],
      "text/latex": [
       "\\begin{tabular}{r|ccccccc}\n",
       "\t& longitude & latitude & medoids\\_clusters & cluster10 & housing\\_median\\_age & total\\_rooms & \\\\\n",
       "\t\\hline\n",
       "\t& Float64 & Float64 & Int64 & Int64 & Float64 & Float64 & \\\\\n",
       "\t\\hline\n",
       "\t1 & -122.23 & 37.88 & 5 & 7 & 41.0 & 880.0 & $\\dots$ \\\\\n",
       "\t2 & -122.22 & 37.86 & 5 & 7 & 21.0 & 7099.0 & $\\dots$ \\\\\n",
       "\t3 & -122.24 & 37.85 & 5 & 7 & 52.0 & 1467.0 & $\\dots$ \\\\\n",
       "\t4 & -122.25 & 37.85 & 5 & 7 & 52.0 & 1274.0 & $\\dots$ \\\\\n",
       "\t5 & -122.25 & 37.85 & 5 & 7 & 52.0 & 1627.0 & $\\dots$ \\\\\n",
       "\t6 & -122.25 & 37.85 & 5 & 7 & 52.0 & 919.0 & $\\dots$ \\\\\n",
       "\t7 & -122.25 & 37.84 & 5 & 7 & 52.0 & 2535.0 & $\\dots$ \\\\\n",
       "\t8 & -122.25 & 37.84 & 5 & 7 & 52.0 & 3104.0 & $\\dots$ \\\\\n",
       "\t9 & -122.26 & 37.84 & 5 & 7 & 42.0 & 2555.0 & $\\dots$ \\\\\n",
       "\t10 & -122.25 & 37.84 & 5 & 7 & 52.0 & 3549.0 & $\\dots$ \\\\\n",
       "\t11 & -122.26 & 37.85 & 5 & 7 & 52.0 & 2202.0 & $\\dots$ \\\\\n",
       "\t12 & -122.26 & 37.85 & 5 & 7 & 52.0 & 3503.0 & $\\dots$ \\\\\n",
       "\t13 & -122.26 & 37.85 & 5 & 7 & 52.0 & 2491.0 & $\\dots$ \\\\\n",
       "\t14 & -122.26 & 37.84 & 5 & 7 & 52.0 & 696.0 & $\\dots$ \\\\\n",
       "\t15 & -122.26 & 37.85 & 5 & 7 & 52.0 & 2643.0 & $\\dots$ \\\\\n",
       "\t16 & -122.26 & 37.85 & 5 & 7 & 50.0 & 1120.0 & $\\dots$ \\\\\n",
       "\t17 & -122.27 & 37.85 & 5 & 7 & 52.0 & 1966.0 & $\\dots$ \\\\\n",
       "\t18 & -122.27 & 37.85 & 5 & 7 & 52.0 & 1228.0 & $\\dots$ \\\\\n",
       "\t19 & -122.26 & 37.84 & 5 & 7 & 50.0 & 2239.0 & $\\dots$ \\\\\n",
       "\t20 & -122.27 & 37.84 & 5 & 7 & 52.0 & 1503.0 & $\\dots$ \\\\\n",
       "\t21 & -122.27 & 37.85 & 5 & 7 & 40.0 & 751.0 & $\\dots$ \\\\\n",
       "\t22 & -122.27 & 37.85 & 5 & 7 & 42.0 & 1639.0 & $\\dots$ \\\\\n",
       "\t23 & -122.27 & 37.84 & 5 & 7 & 52.0 & 2436.0 & $\\dots$ \\\\\n",
       "\t24 & -122.27 & 37.84 & 5 & 7 & 52.0 & 1688.0 & $\\dots$ \\\\\n",
       "\t25 & -122.27 & 37.84 & 5 & 7 & 52.0 & 2224.0 & $\\dots$ \\\\\n",
       "\t26 & -122.28 & 37.85 & 5 & 7 & 41.0 & 535.0 & $\\dots$ \\\\\n",
       "\t27 & -122.28 & 37.85 & 5 & 7 & 49.0 & 1130.0 & $\\dots$ \\\\\n",
       "\t28 & -122.28 & 37.85 & 5 & 7 & 52.0 & 1898.0 & $\\dots$ \\\\\n",
       "\t29 & -122.28 & 37.84 & 5 & 7 & 50.0 & 2082.0 & $\\dots$ \\\\\n",
       "\t30 & -122.28 & 37.84 & 5 & 7 & 52.0 & 729.0 & $\\dots$ \\\\\n",
       "\t$\\dots$ & $\\dots$ & $\\dots$ & $\\dots$ & $\\dots$ & $\\dots$ & $\\dots$ &  \\\\\n",
       "\\end{tabular}\n"
      ],
      "text/plain": [
       "\u001b[1m20640×12 DataFrame\u001b[0m\n",
       "\u001b[1m   Row \u001b[0m│\u001b[1m longitude \u001b[0m\u001b[1m latitude \u001b[0m\u001b[1m medoids_clusters \u001b[0m\u001b[1m cluster10 \u001b[0m\u001b[1m housing_median_age \u001b[0m\u001b[1m\u001b[0m ⋯\n",
       "       │\u001b[90m Float64   \u001b[0m\u001b[90m Float64  \u001b[0m\u001b[90m Int64            \u001b[0m\u001b[90m Int64     \u001b[0m\u001b[90m Float64            \u001b[0m\u001b[90m\u001b[0m ⋯\n",
       "───────┼────────────────────────────────────────────────────────────────────────\n",
       "     1 │   -122.23     37.88                 5          7                41.0  ⋯\n",
       "     2 │   -122.22     37.86                 5          7                21.0\n",
       "     3 │   -122.24     37.85                 5          7                52.0\n",
       "     4 │   -122.25     37.85                 5          7                52.0\n",
       "     5 │   -122.25     37.85                 5          7                52.0  ⋯\n",
       "     6 │   -122.25     37.85                 5          7                52.0\n",
       "     7 │   -122.25     37.84                 5          7                52.0\n",
       "     8 │   -122.25     37.84                 5          7                52.0\n",
       "     9 │   -122.26     37.84                 5          7                42.0  ⋯\n",
       "    10 │   -122.25     37.84                 5          7                52.0\n",
       "    11 │   -122.26     37.85                 5          7                52.0\n",
       "   ⋮   │     ⋮         ⋮             ⋮              ⋮              ⋮           ⋱\n",
       " 20631 │   -121.32     39.29                 6         10                11.0\n",
       " 20632 │   -121.4      39.33                 6          5                15.0  ⋯\n",
       " 20633 │   -121.45     39.26                 6          5                15.0\n",
       " 20634 │   -121.53     39.19                 6         10                27.0\n",
       " 20635 │   -121.56     39.27                 6          5                28.0\n",
       " 20636 │   -121.09     39.48                 6          5                25.0  ⋯\n",
       " 20637 │   -121.21     39.49                 6          5                18.0\n",
       " 20638 │   -121.22     39.43                 6          5                17.0\n",
       " 20639 │   -121.32     39.43                 6          5                18.0\n",
       " 20640 │   -121.24     39.37                 6          5                16.0  ⋯\n",
       "\u001b[36m                                                7 columns and 20619 rows omitted\u001b[0m"
      ]
     },
     "execution_count": 11,
     "metadata": {},
     "output_type": "execute_result"
    }
   ],
   "source": [
    "xmatrix = Matrix(X)' #get the transpose\n",
    "D = pairwise(Euclidean(), xmatrix, xmatrix,dims=2) #get a distance matrix\n",
    "\n",
    "K = kmedoids(D,10) #getting 10 clusters\n",
    "insertcols!(houses,3,:medoids_clusters=>K.assignments) #and add a new column"
   ]
  },
  {
   "cell_type": "code",
   "execution_count": 35,
   "metadata": {},
   "outputs": [],
   "source": [
    "#=\n",
    "@vlplot(width=500, height=300) +\n",
    "@vlplot(\n",
    "    mark={\n",
    "        :geoshape,\n",
    "        fill=:black,\n",
    "        stroke=:white\n",
    "    },\n",
    "    data={\n",
    "        values=VV,\n",
    "        format={\n",
    "            type=:topojson,\n",
    "            feature=:cb_2015_california_county_20m\n",
    "        }\n",
    "    },\n",
    "    projection={type=:albersUsa},\n",
    ")+\n",
    "@vlplot(\n",
    "    :circle,\n",
    "    data=houses,\n",
    "    projection={type=:albersUsa},\n",
    "    longitude=\"longitude:q\",\n",
    "    latitude=\"latitude:q\",\n",
    "    size={value=12},\n",
    "    color=\"medoids_clusters:n\"\n",
    "                    \n",
    ")\n",
    "=#"
   ]
  },
  {
   "cell_type": "markdown",
   "metadata": {},
   "source": [
    "### 🟤Hierarchial Clustering"
   ]
  },
  {
   "cell_type": "code",
   "execution_count": 13,
   "metadata": {},
   "outputs": [
    {
     "data": {
      "text/html": [
       "<div><div style = \"float: left;\"><span>20640×13 DataFrame</span></div><div style = \"float: right;\"><span style = \"font-style: italic;\">20615 rows omitted</span></div><div style = \"clear: both;\"></div></div><div class = \"data-frame\" style = \"overflow-x: scroll;\"><table class = \"data-frame\" style = \"margin-bottom: 6px;\"><thead><tr class = \"header\"><th class = \"rowNumber\" style = \"font-weight: bold; text-align: right;\">Row</th><th style = \"text-align: left;\">longitude</th><th style = \"text-align: left;\">latitude</th><th style = \"text-align: left;\">hclust_clusters</th><th style = \"text-align: left;\">medoids_clusters</th><th style = \"text-align: left;\">cluster10</th><th style = \"text-align: left;\">housing_median_age</th><th style = \"text-align: left;\">total_rooms</th><th style = \"text-align: left;\">total_bedrooms</th><th style = \"text-align: left;\">population</th><th style = \"text-align: left;\">households</th><th style = \"text-align: left;\">median_income</th><th style = \"text-align: left;\">median_house_value</th><th style = \"text-align: left;\">ocean_proximity</th></tr><tr class = \"subheader headerLastRow\"><th class = \"rowNumber\" style = \"font-weight: bold; text-align: right;\"></th><th title = \"Float64\" style = \"text-align: left;\">Float64</th><th title = \"Float64\" style = \"text-align: left;\">Float64</th><th title = \"Int64\" style = \"text-align: left;\">Int64</th><th title = \"Int64\" style = \"text-align: left;\">Int64</th><th title = \"Int64\" style = \"text-align: left;\">Int64</th><th title = \"Float64\" style = \"text-align: left;\">Float64</th><th title = \"Float64\" style = \"text-align: left;\">Float64</th><th title = \"Union{Missing, Float64}\" style = \"text-align: left;\">Float64?</th><th title = \"Float64\" style = \"text-align: left;\">Float64</th><th title = \"Float64\" style = \"text-align: left;\">Float64</th><th title = \"Float64\" style = \"text-align: left;\">Float64</th><th title = \"Float64\" style = \"text-align: left;\">Float64</th><th title = \"String15\" style = \"text-align: left;\">String15</th></tr></thead><tbody><tr><td class = \"rowNumber\" style = \"font-weight: bold; text-align: right;\">1</td><td style = \"text-align: right;\">-122.23</td><td style = \"text-align: right;\">37.88</td><td style = \"text-align: right;\">1</td><td style = \"text-align: right;\">5</td><td style = \"text-align: right;\">7</td><td style = \"text-align: right;\">41.0</td><td style = \"text-align: right;\">880.0</td><td style = \"text-align: right;\">129.0</td><td style = \"text-align: right;\">322.0</td><td style = \"text-align: right;\">126.0</td><td style = \"text-align: right;\">8.3252</td><td style = \"text-align: right;\">452600.0</td><td style = \"text-align: left;\">NEAR BAY</td></tr><tr><td class = \"rowNumber\" style = \"font-weight: bold; text-align: right;\">2</td><td style = \"text-align: right;\">-122.22</td><td style = \"text-align: right;\">37.86</td><td style = \"text-align: right;\">1</td><td style = \"text-align: right;\">5</td><td style = \"text-align: right;\">7</td><td style = \"text-align: right;\">21.0</td><td style = \"text-align: right;\">7099.0</td><td style = \"text-align: right;\">1106.0</td><td style = \"text-align: right;\">2401.0</td><td style = \"text-align: right;\">1138.0</td><td style = \"text-align: right;\">8.3014</td><td style = \"text-align: right;\">358500.0</td><td style = \"text-align: left;\">NEAR BAY</td></tr><tr><td class = \"rowNumber\" style = \"font-weight: bold; text-align: right;\">3</td><td style = \"text-align: right;\">-122.24</td><td style = \"text-align: right;\">37.85</td><td style = \"text-align: right;\">1</td><td style = \"text-align: right;\">5</td><td style = \"text-align: right;\">7</td><td style = \"text-align: right;\">52.0</td><td style = \"text-align: right;\">1467.0</td><td style = \"text-align: right;\">190.0</td><td style = \"text-align: right;\">496.0</td><td style = \"text-align: right;\">177.0</td><td style = \"text-align: right;\">7.2574</td><td style = \"text-align: right;\">352100.0</td><td style = \"text-align: left;\">NEAR BAY</td></tr><tr><td class = \"rowNumber\" style = \"font-weight: bold; text-align: right;\">4</td><td style = \"text-align: right;\">-122.25</td><td style = \"text-align: right;\">37.85</td><td style = \"text-align: right;\">1</td><td style = \"text-align: right;\">5</td><td style = \"text-align: right;\">7</td><td style = \"text-align: right;\">52.0</td><td style = \"text-align: right;\">1274.0</td><td style = \"text-align: right;\">235.0</td><td style = \"text-align: right;\">558.0</td><td style = \"text-align: right;\">219.0</td><td style = \"text-align: right;\">5.6431</td><td style = \"text-align: right;\">341300.0</td><td style = \"text-align: left;\">NEAR BAY</td></tr><tr><td class = \"rowNumber\" style = \"font-weight: bold; text-align: right;\">5</td><td style = \"text-align: right;\">-122.25</td><td style = \"text-align: right;\">37.85</td><td style = \"text-align: right;\">1</td><td style = \"text-align: right;\">5</td><td style = \"text-align: right;\">7</td><td style = \"text-align: right;\">52.0</td><td style = \"text-align: right;\">1627.0</td><td style = \"text-align: right;\">280.0</td><td style = \"text-align: right;\">565.0</td><td style = \"text-align: right;\">259.0</td><td style = \"text-align: right;\">3.8462</td><td style = \"text-align: right;\">342200.0</td><td style = \"text-align: left;\">NEAR BAY</td></tr><tr><td class = \"rowNumber\" style = \"font-weight: bold; text-align: right;\">6</td><td style = \"text-align: right;\">-122.25</td><td style = \"text-align: right;\">37.85</td><td style = \"text-align: right;\">1</td><td style = \"text-align: right;\">5</td><td style = \"text-align: right;\">7</td><td style = \"text-align: right;\">52.0</td><td style = \"text-align: right;\">919.0</td><td style = \"text-align: right;\">213.0</td><td style = \"text-align: right;\">413.0</td><td style = \"text-align: right;\">193.0</td><td style = \"text-align: right;\">4.0368</td><td style = \"text-align: right;\">269700.0</td><td style = \"text-align: left;\">NEAR BAY</td></tr><tr><td class = \"rowNumber\" style = \"font-weight: bold; text-align: right;\">7</td><td style = \"text-align: right;\">-122.25</td><td style = \"text-align: right;\">37.84</td><td style = \"text-align: right;\">1</td><td style = \"text-align: right;\">5</td><td style = \"text-align: right;\">7</td><td style = \"text-align: right;\">52.0</td><td style = \"text-align: right;\">2535.0</td><td style = \"text-align: right;\">489.0</td><td style = \"text-align: right;\">1094.0</td><td style = \"text-align: right;\">514.0</td><td style = \"text-align: right;\">3.6591</td><td style = \"text-align: right;\">299200.0</td><td style = \"text-align: left;\">NEAR BAY</td></tr><tr><td class = \"rowNumber\" style = \"font-weight: bold; text-align: right;\">8</td><td style = \"text-align: right;\">-122.25</td><td style = \"text-align: right;\">37.84</td><td style = \"text-align: right;\">1</td><td style = \"text-align: right;\">5</td><td style = \"text-align: right;\">7</td><td style = \"text-align: right;\">52.0</td><td style = \"text-align: right;\">3104.0</td><td style = \"text-align: right;\">687.0</td><td style = \"text-align: right;\">1157.0</td><td style = \"text-align: right;\">647.0</td><td style = \"text-align: right;\">3.12</td><td style = \"text-align: right;\">241400.0</td><td style = \"text-align: left;\">NEAR BAY</td></tr><tr><td class = \"rowNumber\" style = \"font-weight: bold; text-align: right;\">9</td><td style = \"text-align: right;\">-122.26</td><td style = \"text-align: right;\">37.84</td><td style = \"text-align: right;\">1</td><td style = \"text-align: right;\">5</td><td style = \"text-align: right;\">7</td><td style = \"text-align: right;\">42.0</td><td style = \"text-align: right;\">2555.0</td><td style = \"text-align: right;\">665.0</td><td style = \"text-align: right;\">1206.0</td><td style = \"text-align: right;\">595.0</td><td style = \"text-align: right;\">2.0804</td><td style = \"text-align: right;\">226700.0</td><td style = \"text-align: left;\">NEAR BAY</td></tr><tr><td class = \"rowNumber\" style = \"font-weight: bold; text-align: right;\">10</td><td style = \"text-align: right;\">-122.25</td><td style = \"text-align: right;\">37.84</td><td style = \"text-align: right;\">1</td><td style = \"text-align: right;\">5</td><td style = \"text-align: right;\">7</td><td style = \"text-align: right;\">52.0</td><td style = \"text-align: right;\">3549.0</td><td style = \"text-align: right;\">707.0</td><td style = \"text-align: right;\">1551.0</td><td style = \"text-align: right;\">714.0</td><td style = \"text-align: right;\">3.6912</td><td style = \"text-align: right;\">261100.0</td><td style = \"text-align: left;\">NEAR BAY</td></tr><tr><td class = \"rowNumber\" style = \"font-weight: bold; text-align: right;\">11</td><td style = \"text-align: right;\">-122.26</td><td style = \"text-align: right;\">37.85</td><td style = \"text-align: right;\">1</td><td style = \"text-align: right;\">5</td><td style = \"text-align: right;\">7</td><td style = \"text-align: right;\">52.0</td><td style = \"text-align: right;\">2202.0</td><td style = \"text-align: right;\">434.0</td><td style = \"text-align: right;\">910.0</td><td style = \"text-align: right;\">402.0</td><td style = \"text-align: right;\">3.2031</td><td style = \"text-align: right;\">281500.0</td><td style = \"text-align: left;\">NEAR BAY</td></tr><tr><td class = \"rowNumber\" style = \"font-weight: bold; text-align: right;\">12</td><td style = \"text-align: right;\">-122.26</td><td style = \"text-align: right;\">37.85</td><td style = \"text-align: right;\">1</td><td style = \"text-align: right;\">5</td><td style = \"text-align: right;\">7</td><td style = \"text-align: right;\">52.0</td><td style = \"text-align: right;\">3503.0</td><td style = \"text-align: right;\">752.0</td><td style = \"text-align: right;\">1504.0</td><td style = \"text-align: right;\">734.0</td><td style = \"text-align: right;\">3.2705</td><td style = \"text-align: right;\">241800.0</td><td style = \"text-align: left;\">NEAR BAY</td></tr><tr><td class = \"rowNumber\" style = \"font-weight: bold; text-align: right;\">13</td><td style = \"text-align: right;\">-122.26</td><td style = \"text-align: right;\">37.85</td><td style = \"text-align: right;\">1</td><td style = \"text-align: right;\">5</td><td style = \"text-align: right;\">7</td><td style = \"text-align: right;\">52.0</td><td style = \"text-align: right;\">2491.0</td><td style = \"text-align: right;\">474.0</td><td style = \"text-align: right;\">1098.0</td><td style = \"text-align: right;\">468.0</td><td style = \"text-align: right;\">3.075</td><td style = \"text-align: right;\">213500.0</td><td style = \"text-align: left;\">NEAR BAY</td></tr><tr><td style = \"text-align: right;\">&vellip;</td><td style = \"text-align: right;\">&vellip;</td><td style = \"text-align: right;\">&vellip;</td><td style = \"text-align: right;\">&vellip;</td><td style = \"text-align: right;\">&vellip;</td><td style = \"text-align: right;\">&vellip;</td><td style = \"text-align: right;\">&vellip;</td><td style = \"text-align: right;\">&vellip;</td><td style = \"text-align: right;\">&vellip;</td><td style = \"text-align: right;\">&vellip;</td><td style = \"text-align: right;\">&vellip;</td><td style = \"text-align: right;\">&vellip;</td><td style = \"text-align: right;\">&vellip;</td><td style = \"text-align: right;\">&vellip;</td></tr><tr><td class = \"rowNumber\" style = \"font-weight: bold; text-align: right;\">20629</td><td style = \"text-align: right;\">-121.48</td><td style = \"text-align: right;\">39.1</td><td style = \"text-align: right;\">1</td><td style = \"text-align: right;\">6</td><td style = \"text-align: right;\">10</td><td style = \"text-align: right;\">19.0</td><td style = \"text-align: right;\">2043.0</td><td style = \"text-align: right;\">421.0</td><td style = \"text-align: right;\">1018.0</td><td style = \"text-align: right;\">390.0</td><td style = \"text-align: right;\">2.5952</td><td style = \"text-align: right;\">92400.0</td><td style = \"text-align: left;\">INLAND</td></tr><tr><td class = \"rowNumber\" style = \"font-weight: bold; text-align: right;\">20630</td><td style = \"text-align: right;\">-121.39</td><td style = \"text-align: right;\">39.12</td><td style = \"text-align: right;\">1</td><td style = \"text-align: right;\">6</td><td style = \"text-align: right;\">10</td><td style = \"text-align: right;\">28.0</td><td style = \"text-align: right;\">10035.0</td><td style = \"text-align: right;\">1856.0</td><td style = \"text-align: right;\">6912.0</td><td style = \"text-align: right;\">1818.0</td><td style = \"text-align: right;\">2.0943</td><td style = \"text-align: right;\">108300.0</td><td style = \"text-align: left;\">INLAND</td></tr><tr><td class = \"rowNumber\" style = \"font-weight: bold; text-align: right;\">20631</td><td style = \"text-align: right;\">-121.32</td><td style = \"text-align: right;\">39.29</td><td style = \"text-align: right;\">1</td><td style = \"text-align: right;\">6</td><td style = \"text-align: right;\">10</td><td style = \"text-align: right;\">11.0</td><td style = \"text-align: right;\">2640.0</td><td style = \"text-align: right;\">505.0</td><td style = \"text-align: right;\">1257.0</td><td style = \"text-align: right;\">445.0</td><td style = \"text-align: right;\">3.5673</td><td style = \"text-align: right;\">112000.0</td><td style = \"text-align: left;\">INLAND</td></tr><tr><td class = \"rowNumber\" style = \"font-weight: bold; text-align: right;\">20632</td><td style = \"text-align: right;\">-121.4</td><td style = \"text-align: right;\">39.33</td><td style = \"text-align: right;\">1</td><td style = \"text-align: right;\">6</td><td style = \"text-align: right;\">5</td><td style = \"text-align: right;\">15.0</td><td style = \"text-align: right;\">2655.0</td><td style = \"text-align: right;\">493.0</td><td style = \"text-align: right;\">1200.0</td><td style = \"text-align: right;\">432.0</td><td style = \"text-align: right;\">3.5179</td><td style = \"text-align: right;\">107200.0</td><td style = \"text-align: left;\">INLAND</td></tr><tr><td class = \"rowNumber\" style = \"font-weight: bold; text-align: right;\">20633</td><td style = \"text-align: right;\">-121.45</td><td style = \"text-align: right;\">39.26</td><td style = \"text-align: right;\">1</td><td style = \"text-align: right;\">6</td><td style = \"text-align: right;\">5</td><td style = \"text-align: right;\">15.0</td><td style = \"text-align: right;\">2319.0</td><td style = \"text-align: right;\">416.0</td><td style = \"text-align: right;\">1047.0</td><td style = \"text-align: right;\">385.0</td><td style = \"text-align: right;\">3.125</td><td style = \"text-align: right;\">115600.0</td><td style = \"text-align: left;\">INLAND</td></tr><tr><td class = \"rowNumber\" style = \"font-weight: bold; text-align: right;\">20634</td><td style = \"text-align: right;\">-121.53</td><td style = \"text-align: right;\">39.19</td><td style = \"text-align: right;\">1</td><td style = \"text-align: right;\">6</td><td style = \"text-align: right;\">10</td><td style = \"text-align: right;\">27.0</td><td style = \"text-align: right;\">2080.0</td><td style = \"text-align: right;\">412.0</td><td style = \"text-align: right;\">1082.0</td><td style = \"text-align: right;\">382.0</td><td style = \"text-align: right;\">2.5495</td><td style = \"text-align: right;\">98300.0</td><td style = \"text-align: left;\">INLAND</td></tr><tr><td class = \"rowNumber\" style = \"font-weight: bold; text-align: right;\">20635</td><td style = \"text-align: right;\">-121.56</td><td style = \"text-align: right;\">39.27</td><td style = \"text-align: right;\">1</td><td style = \"text-align: right;\">6</td><td style = \"text-align: right;\">5</td><td style = \"text-align: right;\">28.0</td><td style = \"text-align: right;\">2332.0</td><td style = \"text-align: right;\">395.0</td><td style = \"text-align: right;\">1041.0</td><td style = \"text-align: right;\">344.0</td><td style = \"text-align: right;\">3.7125</td><td style = \"text-align: right;\">116800.0</td><td style = \"text-align: left;\">INLAND</td></tr><tr><td class = \"rowNumber\" style = \"font-weight: bold; text-align: right;\">20636</td><td style = \"text-align: right;\">-121.09</td><td style = \"text-align: right;\">39.48</td><td style = \"text-align: right;\">1</td><td style = \"text-align: right;\">6</td><td style = \"text-align: right;\">5</td><td style = \"text-align: right;\">25.0</td><td style = \"text-align: right;\">1665.0</td><td style = \"text-align: right;\">374.0</td><td style = \"text-align: right;\">845.0</td><td style = \"text-align: right;\">330.0</td><td style = \"text-align: right;\">1.5603</td><td style = \"text-align: right;\">78100.0</td><td style = \"text-align: left;\">INLAND</td></tr><tr><td class = \"rowNumber\" style = \"font-weight: bold; text-align: right;\">20637</td><td style = \"text-align: right;\">-121.21</td><td style = \"text-align: right;\">39.49</td><td style = \"text-align: right;\">1</td><td style = \"text-align: right;\">6</td><td style = \"text-align: right;\">5</td><td style = \"text-align: right;\">18.0</td><td style = \"text-align: right;\">697.0</td><td style = \"text-align: right;\">150.0</td><td style = \"text-align: right;\">356.0</td><td style = \"text-align: right;\">114.0</td><td style = \"text-align: right;\">2.5568</td><td style = \"text-align: right;\">77100.0</td><td style = \"text-align: left;\">INLAND</td></tr><tr><td class = \"rowNumber\" style = \"font-weight: bold; text-align: right;\">20638</td><td style = \"text-align: right;\">-121.22</td><td style = \"text-align: right;\">39.43</td><td style = \"text-align: right;\">1</td><td style = \"text-align: right;\">6</td><td style = \"text-align: right;\">5</td><td style = \"text-align: right;\">17.0</td><td style = \"text-align: right;\">2254.0</td><td style = \"text-align: right;\">485.0</td><td style = \"text-align: right;\">1007.0</td><td style = \"text-align: right;\">433.0</td><td style = \"text-align: right;\">1.7</td><td style = \"text-align: right;\">92300.0</td><td style = \"text-align: left;\">INLAND</td></tr><tr><td class = \"rowNumber\" style = \"font-weight: bold; text-align: right;\">20639</td><td style = \"text-align: right;\">-121.32</td><td style = \"text-align: right;\">39.43</td><td style = \"text-align: right;\">1</td><td style = \"text-align: right;\">6</td><td style = \"text-align: right;\">5</td><td style = \"text-align: right;\">18.0</td><td style = \"text-align: right;\">1860.0</td><td style = \"text-align: right;\">409.0</td><td style = \"text-align: right;\">741.0</td><td style = \"text-align: right;\">349.0</td><td style = \"text-align: right;\">1.8672</td><td style = \"text-align: right;\">84700.0</td><td style = \"text-align: left;\">INLAND</td></tr><tr><td class = \"rowNumber\" style = \"font-weight: bold; text-align: right;\">20640</td><td style = \"text-align: right;\">-121.24</td><td style = \"text-align: right;\">39.37</td><td style = \"text-align: right;\">1</td><td style = \"text-align: right;\">6</td><td style = \"text-align: right;\">5</td><td style = \"text-align: right;\">16.0</td><td style = \"text-align: right;\">2785.0</td><td style = \"text-align: right;\">616.0</td><td style = \"text-align: right;\">1387.0</td><td style = \"text-align: right;\">530.0</td><td style = \"text-align: right;\">2.3886</td><td style = \"text-align: right;\">89400.0</td><td style = \"text-align: left;\">INLAND</td></tr></tbody></table></div>"
      ],
      "text/latex": [
       "\\begin{tabular}{r|ccccccc}\n",
       "\t& longitude & latitude & hclust\\_clusters & medoids\\_clusters & cluster10 & housing\\_median\\_age & \\\\\n",
       "\t\\hline\n",
       "\t& Float64 & Float64 & Int64 & Int64 & Int64 & Float64 & \\\\\n",
       "\t\\hline\n",
       "\t1 & -122.23 & 37.88 & 1 & 5 & 7 & 41.0 & $\\dots$ \\\\\n",
       "\t2 & -122.22 & 37.86 & 1 & 5 & 7 & 21.0 & $\\dots$ \\\\\n",
       "\t3 & -122.24 & 37.85 & 1 & 5 & 7 & 52.0 & $\\dots$ \\\\\n",
       "\t4 & -122.25 & 37.85 & 1 & 5 & 7 & 52.0 & $\\dots$ \\\\\n",
       "\t5 & -122.25 & 37.85 & 1 & 5 & 7 & 52.0 & $\\dots$ \\\\\n",
       "\t6 & -122.25 & 37.85 & 1 & 5 & 7 & 52.0 & $\\dots$ \\\\\n",
       "\t7 & -122.25 & 37.84 & 1 & 5 & 7 & 52.0 & $\\dots$ \\\\\n",
       "\t8 & -122.25 & 37.84 & 1 & 5 & 7 & 52.0 & $\\dots$ \\\\\n",
       "\t9 & -122.26 & 37.84 & 1 & 5 & 7 & 42.0 & $\\dots$ \\\\\n",
       "\t10 & -122.25 & 37.84 & 1 & 5 & 7 & 52.0 & $\\dots$ \\\\\n",
       "\t11 & -122.26 & 37.85 & 1 & 5 & 7 & 52.0 & $\\dots$ \\\\\n",
       "\t12 & -122.26 & 37.85 & 1 & 5 & 7 & 52.0 & $\\dots$ \\\\\n",
       "\t13 & -122.26 & 37.85 & 1 & 5 & 7 & 52.0 & $\\dots$ \\\\\n",
       "\t14 & -122.26 & 37.84 & 1 & 5 & 7 & 52.0 & $\\dots$ \\\\\n",
       "\t15 & -122.26 & 37.85 & 1 & 5 & 7 & 52.0 & $\\dots$ \\\\\n",
       "\t16 & -122.26 & 37.85 & 1 & 5 & 7 & 50.0 & $\\dots$ \\\\\n",
       "\t17 & -122.27 & 37.85 & 1 & 5 & 7 & 52.0 & $\\dots$ \\\\\n",
       "\t18 & -122.27 & 37.85 & 1 & 5 & 7 & 52.0 & $\\dots$ \\\\\n",
       "\t19 & -122.26 & 37.84 & 1 & 5 & 7 & 50.0 & $\\dots$ \\\\\n",
       "\t20 & -122.27 & 37.84 & 1 & 5 & 7 & 52.0 & $\\dots$ \\\\\n",
       "\t21 & -122.27 & 37.85 & 1 & 5 & 7 & 40.0 & $\\dots$ \\\\\n",
       "\t22 & -122.27 & 37.85 & 1 & 5 & 7 & 42.0 & $\\dots$ \\\\\n",
       "\t23 & -122.27 & 37.84 & 1 & 5 & 7 & 52.0 & $\\dots$ \\\\\n",
       "\t24 & -122.27 & 37.84 & 1 & 5 & 7 & 52.0 & $\\dots$ \\\\\n",
       "\t25 & -122.27 & 37.84 & 1 & 5 & 7 & 52.0 & $\\dots$ \\\\\n",
       "\t26 & -122.28 & 37.85 & 1 & 5 & 7 & 41.0 & $\\dots$ \\\\\n",
       "\t27 & -122.28 & 37.85 & 1 & 5 & 7 & 49.0 & $\\dots$ \\\\\n",
       "\t28 & -122.28 & 37.85 & 1 & 5 & 7 & 52.0 & $\\dots$ \\\\\n",
       "\t29 & -122.28 & 37.84 & 1 & 5 & 7 & 50.0 & $\\dots$ \\\\\n",
       "\t30 & -122.28 & 37.84 & 1 & 5 & 7 & 52.0 & $\\dots$ \\\\\n",
       "\t$\\dots$ & $\\dots$ & $\\dots$ & $\\dots$ & $\\dots$ & $\\dots$ & $\\dots$ &  \\\\\n",
       "\\end{tabular}\n"
      ],
      "text/plain": [
       "\u001b[1m20640×13 DataFrame\u001b[0m\n",
       "\u001b[1m   Row \u001b[0m│\u001b[1m longitude \u001b[0m\u001b[1m latitude \u001b[0m\u001b[1m hclust_clusters \u001b[0m\u001b[1m medoids_clusters \u001b[0m\u001b[1m cluster10 \u001b[0m\u001b[1m ho\u001b[0m ⋯\n",
       "       │\u001b[90m Float64   \u001b[0m\u001b[90m Float64  \u001b[0m\u001b[90m Int64           \u001b[0m\u001b[90m Int64            \u001b[0m\u001b[90m Int64     \u001b[0m\u001b[90m Fl\u001b[0m ⋯\n",
       "───────┼────────────────────────────────────────────────────────────────────────\n",
       "     1 │   -122.23     37.88                1                 5          7     ⋯\n",
       "     2 │   -122.22     37.86                1                 5          7\n",
       "     3 │   -122.24     37.85                1                 5          7\n",
       "     4 │   -122.25     37.85                1                 5          7\n",
       "     5 │   -122.25     37.85                1                 5          7     ⋯\n",
       "     6 │   -122.25     37.85                1                 5          7\n",
       "     7 │   -122.25     37.84                1                 5          7\n",
       "     8 │   -122.25     37.84                1                 5          7\n",
       "     9 │   -122.26     37.84                1                 5          7     ⋯\n",
       "    10 │   -122.25     37.84                1                 5          7\n",
       "    11 │   -122.26     37.85                1                 5          7\n",
       "   ⋮   │     ⋮         ⋮             ⋮                ⋮              ⋮         ⋱\n",
       " 20631 │   -121.32     39.29                1                 6         10\n",
       " 20632 │   -121.4      39.33                1                 6          5     ⋯\n",
       " 20633 │   -121.45     39.26                1                 6          5\n",
       " 20634 │   -121.53     39.19                1                 6         10\n",
       " 20635 │   -121.56     39.27                1                 6          5\n",
       " 20636 │   -121.09     39.48                1                 6          5     ⋯\n",
       " 20637 │   -121.21     39.49                1                 6          5\n",
       " 20638 │   -121.22     39.43                1                 6          5\n",
       " 20639 │   -121.32     39.43                1                 6          5\n",
       " 20640 │   -121.24     39.37                1                 6          5     ⋯\n",
       "\u001b[36m                                                8 columns and 20619 rows omitted\u001b[0m"
      ]
     },
     "execution_count": 13,
     "metadata": {},
     "output_type": "execute_result"
    }
   ],
   "source": [
    "K = hclust(D) #passing the distance matrix\n",
    "L = cutree(K;k=10) #forming the tree \n",
    "insertcols!(houses,3,:hclust_clusters=>L) #we create a new data frame and add the hclust column"
   ]
  },
  {
   "cell_type": "code",
   "execution_count": 37,
   "metadata": {},
   "outputs": [],
   "source": [
    "#=\n",
    "@vlplot(width=500, height=300) +\n",
    "@vlplot(\n",
    "    mark={\n",
    "        :geoshape,\n",
    "        fill=:black,\n",
    "        stroke=:white\n",
    "    },\n",
    "    data={\n",
    "        values=VV,\n",
    "        format={\n",
    "            type=:topojson,\n",
    "            feature=:cb_2015_california_county_20m\n",
    "        }\n",
    "    },\n",
    "    projection={type=:albersUsa},\n",
    ")+\n",
    "@vlplot(\n",
    "    :circle,\n",
    "    data=houses,\n",
    "    projection={type=:albersUsa},\n",
    "    longitude=\"longitude:q\",\n",
    "    latitude=\"latitude:q\",\n",
    "    size={value=12},\n",
    "    color=\"hclust_clusters:n\"\n",
    "                    \n",
    ")\n",
    "=#"
   ]
  },
  {
   "cell_type": "markdown",
   "metadata": {},
   "source": [
    "### 🟤DBscan"
   ]
  },
  {
   "cell_type": "code",
   "execution_count": 21,
   "metadata": {},
   "outputs": [
    {
     "name": "stdout",
     "output_type": "stream",
     "text": [
      "search: \u001b[0m\u001b[1md\u001b[22m\u001b[0m\u001b[1mb\u001b[22m\u001b[0m\u001b[1ms\u001b[22m\u001b[0m\u001b[1mc\u001b[22m\u001b[0m\u001b[1ma\u001b[22m\u001b[0m\u001b[1mn\u001b[22m bswap isnan\n",
      "\n"
     ]
    },
    {
     "data": {
      "text/latex": [
       "\\begin{verbatim}\n",
       "dbscan(points::AbstractMatrix, radius::Real;\n",
       "       [metric=Euclidean()],\n",
       "       [min_neighbors=1], [min_cluster_size=1],\n",
       "       [nntree_kwargs...]) -> DbscanResult\n",
       "\\end{verbatim}\n",
       "Cluster \\texttt{points} using the DBSCAN (Density-Based Spatial Clustering of Applications with Noise) algorithm.\n",
       "\n",
       "\\subsection{Arguments}\n",
       "\\begin{itemize}\n",
       "\\item \\texttt{points}: when \\texttt{metric} is specified, the \\emph{d×n} matrix, where each column is a \\emph{d}-dimensional coordinate of a point; when \\texttt{metric=nothing}, the \\emph{n×n} matrix of pairwise distances between the points\n",
       "\n",
       "\n",
       "\\item \\texttt{radius::Real}: neighborhood radius; points within this distance are considered neighbors\n",
       "\n",
       "\\end{itemize}\n",
       "Optional keyword arguments to control the algorithm:\n",
       "\n",
       "\\begin{itemize}\n",
       "\\item \\texttt{metric} (defaults to \\texttt{Euclidean()}): the points distance metric to use, \\texttt{nothing} means \\texttt{points} is the \\emph{n×n} precalculated distance matrix\n",
       "\n",
       "\n",
       "\\item \\texttt{min\\_neighbors::Integer} (defaults to 1): the minimal number of neighbors required to assign a point to a cluster \"core\"\n",
       "\n",
       "\n",
       "\\item \\texttt{min\\_cluster\\_size::Integer} (defaults to 1): the minimal number of points in a cluster; cluster candidates with fewer points are discarded\n",
       "\n",
       "\n",
       "\\item \\texttt{nntree\\_kwargs...}: parameters (like \\texttt{leafsize}) for the \\texttt{KDTree} constructor\n",
       "\n",
       "\\end{itemize}\n",
       "\\subsection{Example}\n",
       "\\begin{verbatim}\n",
       "points = randn(3, 10000)\n",
       "# DBSCAN clustering, clusters with less than 20 points will be discarded:\n",
       "clustering = dbscan(points, 0.05, min_neighbors = 3, min_cluster_size = 20)\n",
       "\\end{verbatim}\n",
       "\\subsection{References:}\n",
       "\\begin{itemize}\n",
       "\\item Martin Ester, Hans-Peter Kriegel, Jörg Sander, and Xiaowei Xu, \\emph{\"A density-based algorithm for discovering clusters in large spatial databases with noise\"}, KDD-1996, pp. 226–231.\n",
       "\n",
       "\n",
       "\\item Erich Schubert, Jörg Sander, Martin Ester, Hans Peter Kriegel, and Xiaowei Xu, \\emph{\"DBSCAN Revisited, Revisited: Why and How You Should (Still) Use DBSCAN\"}, ACM Transactions on Database Systems, Vol.42(3)3, pp. 1–21, https://doi.org/10.1145/3068335\n",
       "\n",
       "\\end{itemize}\n"
      ],
      "text/markdown": [
       "```\n",
       "dbscan(points::AbstractMatrix, radius::Real;\n",
       "       [metric=Euclidean()],\n",
       "       [min_neighbors=1], [min_cluster_size=1],\n",
       "       [nntree_kwargs...]) -> DbscanResult\n",
       "```\n",
       "\n",
       "Cluster `points` using the DBSCAN (Density-Based Spatial Clustering of Applications with Noise) algorithm.\n",
       "\n",
       "## Arguments\n",
       "\n",
       "  * `points`: when `metric` is specified, the *d×n* matrix, where each column is a *d*-dimensional coordinate of a point; when `metric=nothing`, the *n×n* matrix of pairwise distances between the points\n",
       "  * `radius::Real`: neighborhood radius; points within this distance are considered neighbors\n",
       "\n",
       "Optional keyword arguments to control the algorithm:\n",
       "\n",
       "  * `metric` (defaults to `Euclidean()`): the points distance metric to use, `nothing` means `points` is the *n×n* precalculated distance matrix\n",
       "  * `min_neighbors::Integer` (defaults to 1): the minimal number of neighbors required to assign a point to a cluster \"core\"\n",
       "  * `min_cluster_size::Integer` (defaults to 1): the minimal number of points in a cluster; cluster candidates with fewer points are discarded\n",
       "  * `nntree_kwargs...`: parameters (like `leafsize`) for the `KDTree` constructor\n",
       "\n",
       "## Example\n",
       "\n",
       "```julia\n",
       "points = randn(3, 10000)\n",
       "# DBSCAN clustering, clusters with less than 20 points will be discarded:\n",
       "clustering = dbscan(points, 0.05, min_neighbors = 3, min_cluster_size = 20)\n",
       "```\n",
       "\n",
       "## References:\n",
       "\n",
       "  * Martin Ester, Hans-Peter Kriegel, Jörg Sander, and Xiaowei Xu, *\"A density-based algorithm for discovering clusters in large spatial databases with noise\"*, KDD-1996, pp. 226–231.\n",
       "  * Erich Schubert, Jörg Sander, Martin Ester, Hans Peter Kriegel, and Xiaowei Xu, *\"DBSCAN Revisited, Revisited: Why and How You Should (Still) Use DBSCAN\"*, ACM Transactions on Database Systems, Vol.42(3)3, pp. 1–21, https://doi.org/10.1145/3068335\n"
      ],
      "text/plain": [
       "\u001b[36m  dbscan(points::AbstractMatrix, radius::Real;\u001b[39m\n",
       "\u001b[36m         [metric=Euclidean()],\u001b[39m\n",
       "\u001b[36m         [min_neighbors=1], [min_cluster_size=1],\u001b[39m\n",
       "\u001b[36m         [nntree_kwargs...]) -> DbscanResult\u001b[39m\n",
       "\n",
       "  Cluster \u001b[36mpoints\u001b[39m using the DBSCAN (Density-Based Spatial Clustering of\n",
       "  Applications with Noise) algorithm.\n",
       "\n",
       "\u001b[1m  Arguments\u001b[22m\n",
       "\u001b[1m  =========\u001b[22m\n",
       "\n",
       "    •  \u001b[36mpoints\u001b[39m: when \u001b[36mmetric\u001b[39m is specified, the \u001b[4md×n\u001b[24m matrix, where each\n",
       "       column is a \u001b[4md\u001b[24m-dimensional coordinate of a point; when\n",
       "       \u001b[36mmetric=nothing\u001b[39m, the \u001b[4mn×n\u001b[24m matrix of pairwise distances between the\n",
       "       points\n",
       "\n",
       "    •  \u001b[36mradius::Real\u001b[39m: neighborhood radius; points within this distance are\n",
       "       considered neighbors\n",
       "\n",
       "  Optional keyword arguments to control the algorithm:\n",
       "\n",
       "    •  \u001b[36mmetric\u001b[39m (defaults to \u001b[36mEuclidean()\u001b[39m): the points distance metric to\n",
       "       use, \u001b[36mnothing\u001b[39m means \u001b[36mpoints\u001b[39m is the \u001b[4mn×n\u001b[24m precalculated distance matrix\n",
       "\n",
       "    •  \u001b[36mmin_neighbors::Integer\u001b[39m (defaults to 1): the minimal number of\n",
       "       neighbors required to assign a point to a cluster \"core\"\n",
       "\n",
       "    •  \u001b[36mmin_cluster_size::Integer\u001b[39m (defaults to 1): the minimal number of\n",
       "       points in a cluster; cluster candidates with fewer points are\n",
       "       discarded\n",
       "\n",
       "    •  \u001b[36mnntree_kwargs...\u001b[39m: parameters (like \u001b[36mleafsize\u001b[39m) for the \u001b[36mKDTree\u001b[39m\n",
       "       constructor\n",
       "\n",
       "\u001b[1m  Example\u001b[22m\n",
       "\u001b[1m  =======\u001b[22m\n",
       "\n",
       "\u001b[36m  points = randn(3, 10000)\u001b[39m\n",
       "\u001b[36m  # DBSCAN clustering, clusters with less than 20 points will be discarded:\u001b[39m\n",
       "\u001b[36m  clustering = dbscan(points, 0.05, min_neighbors = 3, min_cluster_size = 20)\u001b[39m\n",
       "\n",
       "\u001b[1m  References:\u001b[22m\n",
       "\u001b[1m  ===========\u001b[22m\n",
       "\n",
       "    •  Martin Ester, Hans-Peter Kriegel, Jörg Sander, and Xiaowei Xu, \u001b[4m\"A\u001b[24m\n",
       "       \u001b[4mdensity-based algorithm for discovering clusters in large spatial\u001b[24m\n",
       "       \u001b[4mdatabases with noise\"\u001b[24m, KDD-1996, pp. 226–231.\n",
       "\n",
       "    •  Erich Schubert, Jörg Sander, Martin Ester, Hans Peter Kriegel, and\n",
       "       Xiaowei Xu, \u001b[4m\"DBSCAN Revisited, Revisited: Why and How You Should\u001b[24m\n",
       "       \u001b[4m(Still) Use DBSCAN\"\u001b[24m, ACM Transactions on Database Systems,\n",
       "       Vol.42(3)3, pp. 1–21, https://doi.org/10.1145/3068335"
      ]
     },
     "execution_count": 21,
     "metadata": {},
     "output_type": "execute_result"
    }
   ],
   "source": [
    "?dbscan"
   ]
  },
  {
   "cell_type": "code",
   "execution_count": 23,
   "metadata": {},
   "outputs": [
    {
     "name": "stdout",
     "output_type": "stream",
     "text": [
      "length(unique(L.assignments)) = 15\n"
     ]
    },
    {
     "data": {
      "text/plain": [
       "15"
      ]
     },
     "execution_count": 23,
     "metadata": {},
     "output_type": "execute_result"
    }
   ],
   "source": [
    "using Distances\n",
    "dclara = pairwise(SqEuclidean(), Matrix(X)',dims=2)\n",
    "L = dbscan(dclara, 0.05, 10) #thresholds\n",
    "@show length(unique(L.assignments)) #the clusters that we obtained"
   ]
  },
  {
   "cell_type": "code",
   "execution_count": 25,
   "metadata": {},
   "outputs": [
    {
     "data": {
      "text/html": [
       "<div><div style = \"float: left;\"><span>20640×14 DataFrame</span></div><div style = \"float: right;\"><span style = \"font-style: italic;\">20615 rows omitted</span></div><div style = \"clear: both;\"></div></div><div class = \"data-frame\" style = \"overflow-x: scroll;\"><table class = \"data-frame\" style = \"margin-bottom: 6px;\"><thead><tr class = \"header\"><th class = \"rowNumber\" style = \"font-weight: bold; text-align: right;\">Row</th><th style = \"text-align: left;\">longitude</th><th style = \"text-align: left;\">latitude</th><th style = \"text-align: left;\">dbscanclusters3</th><th style = \"text-align: left;\">hclust_clusters</th><th style = \"text-align: left;\">medoids_clusters</th><th style = \"text-align: left;\">cluster10</th><th style = \"text-align: left;\">housing_median_age</th><th style = \"text-align: left;\">total_rooms</th><th style = \"text-align: left;\">total_bedrooms</th><th style = \"text-align: left;\">population</th><th style = \"text-align: left;\">households</th><th style = \"text-align: left;\">median_income</th><th style = \"text-align: left;\">median_house_value</th><th style = \"text-align: left;\">ocean_proximity</th></tr><tr class = \"subheader headerLastRow\"><th class = \"rowNumber\" style = \"font-weight: bold; text-align: right;\"></th><th title = \"Float64\" style = \"text-align: left;\">Float64</th><th title = \"Float64\" style = \"text-align: left;\">Float64</th><th title = \"Int64\" style = \"text-align: left;\">Int64</th><th title = \"Int64\" style = \"text-align: left;\">Int64</th><th title = \"Int64\" style = \"text-align: left;\">Int64</th><th title = \"Int64\" style = \"text-align: left;\">Int64</th><th title = \"Float64\" style = \"text-align: left;\">Float64</th><th title = \"Float64\" style = \"text-align: left;\">Float64</th><th title = \"Union{Missing, Float64}\" style = \"text-align: left;\">Float64?</th><th title = \"Float64\" style = \"text-align: left;\">Float64</th><th title = \"Float64\" style = \"text-align: left;\">Float64</th><th title = \"Float64\" style = \"text-align: left;\">Float64</th><th title = \"Float64\" style = \"text-align: left;\">Float64</th><th title = \"String15\" style = \"text-align: left;\">String15</th></tr></thead><tbody><tr><td class = \"rowNumber\" style = \"font-weight: bold; text-align: right;\">1</td><td style = \"text-align: right;\">-122.23</td><td style = \"text-align: right;\">37.88</td><td style = \"text-align: right;\">1</td><td style = \"text-align: right;\">1</td><td style = \"text-align: right;\">5</td><td style = \"text-align: right;\">7</td><td style = \"text-align: right;\">41.0</td><td style = \"text-align: right;\">880.0</td><td style = \"text-align: right;\">129.0</td><td style = \"text-align: right;\">322.0</td><td style = \"text-align: right;\">126.0</td><td style = \"text-align: right;\">8.3252</td><td style = \"text-align: right;\">452600.0</td><td style = \"text-align: left;\">NEAR BAY</td></tr><tr><td class = \"rowNumber\" style = \"font-weight: bold; text-align: right;\">2</td><td style = \"text-align: right;\">-122.22</td><td style = \"text-align: right;\">37.86</td><td style = \"text-align: right;\">1</td><td style = \"text-align: right;\">1</td><td style = \"text-align: right;\">5</td><td style = \"text-align: right;\">7</td><td style = \"text-align: right;\">21.0</td><td style = \"text-align: right;\">7099.0</td><td style = \"text-align: right;\">1106.0</td><td style = \"text-align: right;\">2401.0</td><td style = \"text-align: right;\">1138.0</td><td style = \"text-align: right;\">8.3014</td><td style = \"text-align: right;\">358500.0</td><td style = \"text-align: left;\">NEAR BAY</td></tr><tr><td class = \"rowNumber\" style = \"font-weight: bold; text-align: right;\">3</td><td style = \"text-align: right;\">-122.24</td><td style = \"text-align: right;\">37.85</td><td style = \"text-align: right;\">1</td><td style = \"text-align: right;\">1</td><td style = \"text-align: right;\">5</td><td style = \"text-align: right;\">7</td><td style = \"text-align: right;\">52.0</td><td style = \"text-align: right;\">1467.0</td><td style = \"text-align: right;\">190.0</td><td style = \"text-align: right;\">496.0</td><td style = \"text-align: right;\">177.0</td><td style = \"text-align: right;\">7.2574</td><td style = \"text-align: right;\">352100.0</td><td style = \"text-align: left;\">NEAR BAY</td></tr><tr><td class = \"rowNumber\" style = \"font-weight: bold; text-align: right;\">4</td><td style = \"text-align: right;\">-122.25</td><td style = \"text-align: right;\">37.85</td><td style = \"text-align: right;\">1</td><td style = \"text-align: right;\">1</td><td style = \"text-align: right;\">5</td><td style = \"text-align: right;\">7</td><td style = \"text-align: right;\">52.0</td><td style = \"text-align: right;\">1274.0</td><td style = \"text-align: right;\">235.0</td><td style = \"text-align: right;\">558.0</td><td style = \"text-align: right;\">219.0</td><td style = \"text-align: right;\">5.6431</td><td style = \"text-align: right;\">341300.0</td><td style = \"text-align: left;\">NEAR BAY</td></tr><tr><td class = \"rowNumber\" style = \"font-weight: bold; text-align: right;\">5</td><td style = \"text-align: right;\">-122.25</td><td style = \"text-align: right;\">37.85</td><td style = \"text-align: right;\">1</td><td style = \"text-align: right;\">1</td><td style = \"text-align: right;\">5</td><td style = \"text-align: right;\">7</td><td style = \"text-align: right;\">52.0</td><td style = \"text-align: right;\">1627.0</td><td style = \"text-align: right;\">280.0</td><td style = \"text-align: right;\">565.0</td><td style = \"text-align: right;\">259.0</td><td style = \"text-align: right;\">3.8462</td><td style = \"text-align: right;\">342200.0</td><td style = \"text-align: left;\">NEAR BAY</td></tr><tr><td class = \"rowNumber\" style = \"font-weight: bold; text-align: right;\">6</td><td style = \"text-align: right;\">-122.25</td><td style = \"text-align: right;\">37.85</td><td style = \"text-align: right;\">1</td><td style = \"text-align: right;\">1</td><td style = \"text-align: right;\">5</td><td style = \"text-align: right;\">7</td><td style = \"text-align: right;\">52.0</td><td style = \"text-align: right;\">919.0</td><td style = \"text-align: right;\">213.0</td><td style = \"text-align: right;\">413.0</td><td style = \"text-align: right;\">193.0</td><td style = \"text-align: right;\">4.0368</td><td style = \"text-align: right;\">269700.0</td><td style = \"text-align: left;\">NEAR BAY</td></tr><tr><td class = \"rowNumber\" style = \"font-weight: bold; text-align: right;\">7</td><td style = \"text-align: right;\">-122.25</td><td style = \"text-align: right;\">37.84</td><td style = \"text-align: right;\">1</td><td style = \"text-align: right;\">1</td><td style = \"text-align: right;\">5</td><td style = \"text-align: right;\">7</td><td style = \"text-align: right;\">52.0</td><td style = \"text-align: right;\">2535.0</td><td style = \"text-align: right;\">489.0</td><td style = \"text-align: right;\">1094.0</td><td style = \"text-align: right;\">514.0</td><td style = \"text-align: right;\">3.6591</td><td style = \"text-align: right;\">299200.0</td><td style = \"text-align: left;\">NEAR BAY</td></tr><tr><td class = \"rowNumber\" style = \"font-weight: bold; text-align: right;\">8</td><td style = \"text-align: right;\">-122.25</td><td style = \"text-align: right;\">37.84</td><td style = \"text-align: right;\">1</td><td style = \"text-align: right;\">1</td><td style = \"text-align: right;\">5</td><td style = \"text-align: right;\">7</td><td style = \"text-align: right;\">52.0</td><td style = \"text-align: right;\">3104.0</td><td style = \"text-align: right;\">687.0</td><td style = \"text-align: right;\">1157.0</td><td style = \"text-align: right;\">647.0</td><td style = \"text-align: right;\">3.12</td><td style = \"text-align: right;\">241400.0</td><td style = \"text-align: left;\">NEAR BAY</td></tr><tr><td class = \"rowNumber\" style = \"font-weight: bold; text-align: right;\">9</td><td style = \"text-align: right;\">-122.26</td><td style = \"text-align: right;\">37.84</td><td style = \"text-align: right;\">1</td><td style = \"text-align: right;\">1</td><td style = \"text-align: right;\">5</td><td style = \"text-align: right;\">7</td><td style = \"text-align: right;\">42.0</td><td style = \"text-align: right;\">2555.0</td><td style = \"text-align: right;\">665.0</td><td style = \"text-align: right;\">1206.0</td><td style = \"text-align: right;\">595.0</td><td style = \"text-align: right;\">2.0804</td><td style = \"text-align: right;\">226700.0</td><td style = \"text-align: left;\">NEAR BAY</td></tr><tr><td class = \"rowNumber\" style = \"font-weight: bold; text-align: right;\">10</td><td style = \"text-align: right;\">-122.25</td><td style = \"text-align: right;\">37.84</td><td style = \"text-align: right;\">1</td><td style = \"text-align: right;\">1</td><td style = \"text-align: right;\">5</td><td style = \"text-align: right;\">7</td><td style = \"text-align: right;\">52.0</td><td style = \"text-align: right;\">3549.0</td><td style = \"text-align: right;\">707.0</td><td style = \"text-align: right;\">1551.0</td><td style = \"text-align: right;\">714.0</td><td style = \"text-align: right;\">3.6912</td><td style = \"text-align: right;\">261100.0</td><td style = \"text-align: left;\">NEAR BAY</td></tr><tr><td class = \"rowNumber\" style = \"font-weight: bold; text-align: right;\">11</td><td style = \"text-align: right;\">-122.26</td><td style = \"text-align: right;\">37.85</td><td style = \"text-align: right;\">1</td><td style = \"text-align: right;\">1</td><td style = \"text-align: right;\">5</td><td style = \"text-align: right;\">7</td><td style = \"text-align: right;\">52.0</td><td style = \"text-align: right;\">2202.0</td><td style = \"text-align: right;\">434.0</td><td style = \"text-align: right;\">910.0</td><td style = \"text-align: right;\">402.0</td><td style = \"text-align: right;\">3.2031</td><td style = \"text-align: right;\">281500.0</td><td style = \"text-align: left;\">NEAR BAY</td></tr><tr><td class = \"rowNumber\" style = \"font-weight: bold; text-align: right;\">12</td><td style = \"text-align: right;\">-122.26</td><td style = \"text-align: right;\">37.85</td><td style = \"text-align: right;\">1</td><td style = \"text-align: right;\">1</td><td style = \"text-align: right;\">5</td><td style = \"text-align: right;\">7</td><td style = \"text-align: right;\">52.0</td><td style = \"text-align: right;\">3503.0</td><td style = \"text-align: right;\">752.0</td><td style = \"text-align: right;\">1504.0</td><td style = \"text-align: right;\">734.0</td><td style = \"text-align: right;\">3.2705</td><td style = \"text-align: right;\">241800.0</td><td style = \"text-align: left;\">NEAR BAY</td></tr><tr><td class = \"rowNumber\" style = \"font-weight: bold; text-align: right;\">13</td><td style = \"text-align: right;\">-122.26</td><td style = \"text-align: right;\">37.85</td><td style = \"text-align: right;\">1</td><td style = \"text-align: right;\">1</td><td style = \"text-align: right;\">5</td><td style = \"text-align: right;\">7</td><td style = \"text-align: right;\">52.0</td><td style = \"text-align: right;\">2491.0</td><td style = \"text-align: right;\">474.0</td><td style = \"text-align: right;\">1098.0</td><td style = \"text-align: right;\">468.0</td><td style = \"text-align: right;\">3.075</td><td style = \"text-align: right;\">213500.0</td><td style = \"text-align: left;\">NEAR BAY</td></tr><tr><td style = \"text-align: right;\">&vellip;</td><td style = \"text-align: right;\">&vellip;</td><td style = \"text-align: right;\">&vellip;</td><td style = \"text-align: right;\">&vellip;</td><td style = \"text-align: right;\">&vellip;</td><td style = \"text-align: right;\">&vellip;</td><td style = \"text-align: right;\">&vellip;</td><td style = \"text-align: right;\">&vellip;</td><td style = \"text-align: right;\">&vellip;</td><td style = \"text-align: right;\">&vellip;</td><td style = \"text-align: right;\">&vellip;</td><td style = \"text-align: right;\">&vellip;</td><td style = \"text-align: right;\">&vellip;</td><td style = \"text-align: right;\">&vellip;</td><td style = \"text-align: right;\">&vellip;</td></tr><tr><td class = \"rowNumber\" style = \"font-weight: bold; text-align: right;\">20629</td><td style = \"text-align: right;\">-121.48</td><td style = \"text-align: right;\">39.1</td><td style = \"text-align: right;\">1</td><td style = \"text-align: right;\">1</td><td style = \"text-align: right;\">6</td><td style = \"text-align: right;\">10</td><td style = \"text-align: right;\">19.0</td><td style = \"text-align: right;\">2043.0</td><td style = \"text-align: right;\">421.0</td><td style = \"text-align: right;\">1018.0</td><td style = \"text-align: right;\">390.0</td><td style = \"text-align: right;\">2.5952</td><td style = \"text-align: right;\">92400.0</td><td style = \"text-align: left;\">INLAND</td></tr><tr><td class = \"rowNumber\" style = \"font-weight: bold; text-align: right;\">20630</td><td style = \"text-align: right;\">-121.39</td><td style = \"text-align: right;\">39.12</td><td style = \"text-align: right;\">1</td><td style = \"text-align: right;\">1</td><td style = \"text-align: right;\">6</td><td style = \"text-align: right;\">10</td><td style = \"text-align: right;\">28.0</td><td style = \"text-align: right;\">10035.0</td><td style = \"text-align: right;\">1856.0</td><td style = \"text-align: right;\">6912.0</td><td style = \"text-align: right;\">1818.0</td><td style = \"text-align: right;\">2.0943</td><td style = \"text-align: right;\">108300.0</td><td style = \"text-align: left;\">INLAND</td></tr><tr><td class = \"rowNumber\" style = \"font-weight: bold; text-align: right;\">20631</td><td style = \"text-align: right;\">-121.32</td><td style = \"text-align: right;\">39.29</td><td style = \"text-align: right;\">1</td><td style = \"text-align: right;\">1</td><td style = \"text-align: right;\">6</td><td style = \"text-align: right;\">10</td><td style = \"text-align: right;\">11.0</td><td style = \"text-align: right;\">2640.0</td><td style = \"text-align: right;\">505.0</td><td style = \"text-align: right;\">1257.0</td><td style = \"text-align: right;\">445.0</td><td style = \"text-align: right;\">3.5673</td><td style = \"text-align: right;\">112000.0</td><td style = \"text-align: left;\">INLAND</td></tr><tr><td class = \"rowNumber\" style = \"font-weight: bold; text-align: right;\">20632</td><td style = \"text-align: right;\">-121.4</td><td style = \"text-align: right;\">39.33</td><td style = \"text-align: right;\">1</td><td style = \"text-align: right;\">1</td><td style = \"text-align: right;\">6</td><td style = \"text-align: right;\">5</td><td style = \"text-align: right;\">15.0</td><td style = \"text-align: right;\">2655.0</td><td style = \"text-align: right;\">493.0</td><td style = \"text-align: right;\">1200.0</td><td style = \"text-align: right;\">432.0</td><td style = \"text-align: right;\">3.5179</td><td style = \"text-align: right;\">107200.0</td><td style = \"text-align: left;\">INLAND</td></tr><tr><td class = \"rowNumber\" style = \"font-weight: bold; text-align: right;\">20633</td><td style = \"text-align: right;\">-121.45</td><td style = \"text-align: right;\">39.26</td><td style = \"text-align: right;\">1</td><td style = \"text-align: right;\">1</td><td style = \"text-align: right;\">6</td><td style = \"text-align: right;\">5</td><td style = \"text-align: right;\">15.0</td><td style = \"text-align: right;\">2319.0</td><td style = \"text-align: right;\">416.0</td><td style = \"text-align: right;\">1047.0</td><td style = \"text-align: right;\">385.0</td><td style = \"text-align: right;\">3.125</td><td style = \"text-align: right;\">115600.0</td><td style = \"text-align: left;\">INLAND</td></tr><tr><td class = \"rowNumber\" style = \"font-weight: bold; text-align: right;\">20634</td><td style = \"text-align: right;\">-121.53</td><td style = \"text-align: right;\">39.19</td><td style = \"text-align: right;\">1</td><td style = \"text-align: right;\">1</td><td style = \"text-align: right;\">6</td><td style = \"text-align: right;\">10</td><td style = \"text-align: right;\">27.0</td><td style = \"text-align: right;\">2080.0</td><td style = \"text-align: right;\">412.0</td><td style = \"text-align: right;\">1082.0</td><td style = \"text-align: right;\">382.0</td><td style = \"text-align: right;\">2.5495</td><td style = \"text-align: right;\">98300.0</td><td style = \"text-align: left;\">INLAND</td></tr><tr><td class = \"rowNumber\" style = \"font-weight: bold; text-align: right;\">20635</td><td style = \"text-align: right;\">-121.56</td><td style = \"text-align: right;\">39.27</td><td style = \"text-align: right;\">1</td><td style = \"text-align: right;\">1</td><td style = \"text-align: right;\">6</td><td style = \"text-align: right;\">5</td><td style = \"text-align: right;\">28.0</td><td style = \"text-align: right;\">2332.0</td><td style = \"text-align: right;\">395.0</td><td style = \"text-align: right;\">1041.0</td><td style = \"text-align: right;\">344.0</td><td style = \"text-align: right;\">3.7125</td><td style = \"text-align: right;\">116800.0</td><td style = \"text-align: left;\">INLAND</td></tr><tr><td class = \"rowNumber\" style = \"font-weight: bold; text-align: right;\">20636</td><td style = \"text-align: right;\">-121.09</td><td style = \"text-align: right;\">39.48</td><td style = \"text-align: right;\">1</td><td style = \"text-align: right;\">1</td><td style = \"text-align: right;\">6</td><td style = \"text-align: right;\">5</td><td style = \"text-align: right;\">25.0</td><td style = \"text-align: right;\">1665.0</td><td style = \"text-align: right;\">374.0</td><td style = \"text-align: right;\">845.0</td><td style = \"text-align: right;\">330.0</td><td style = \"text-align: right;\">1.5603</td><td style = \"text-align: right;\">78100.0</td><td style = \"text-align: left;\">INLAND</td></tr><tr><td class = \"rowNumber\" style = \"font-weight: bold; text-align: right;\">20637</td><td style = \"text-align: right;\">-121.21</td><td style = \"text-align: right;\">39.49</td><td style = \"text-align: right;\">1</td><td style = \"text-align: right;\">1</td><td style = \"text-align: right;\">6</td><td style = \"text-align: right;\">5</td><td style = \"text-align: right;\">18.0</td><td style = \"text-align: right;\">697.0</td><td style = \"text-align: right;\">150.0</td><td style = \"text-align: right;\">356.0</td><td style = \"text-align: right;\">114.0</td><td style = \"text-align: right;\">2.5568</td><td style = \"text-align: right;\">77100.0</td><td style = \"text-align: left;\">INLAND</td></tr><tr><td class = \"rowNumber\" style = \"font-weight: bold; text-align: right;\">20638</td><td style = \"text-align: right;\">-121.22</td><td style = \"text-align: right;\">39.43</td><td style = \"text-align: right;\">1</td><td style = \"text-align: right;\">1</td><td style = \"text-align: right;\">6</td><td style = \"text-align: right;\">5</td><td style = \"text-align: right;\">17.0</td><td style = \"text-align: right;\">2254.0</td><td style = \"text-align: right;\">485.0</td><td style = \"text-align: right;\">1007.0</td><td style = \"text-align: right;\">433.0</td><td style = \"text-align: right;\">1.7</td><td style = \"text-align: right;\">92300.0</td><td style = \"text-align: left;\">INLAND</td></tr><tr><td class = \"rowNumber\" style = \"font-weight: bold; text-align: right;\">20639</td><td style = \"text-align: right;\">-121.32</td><td style = \"text-align: right;\">39.43</td><td style = \"text-align: right;\">1</td><td style = \"text-align: right;\">1</td><td style = \"text-align: right;\">6</td><td style = \"text-align: right;\">5</td><td style = \"text-align: right;\">18.0</td><td style = \"text-align: right;\">1860.0</td><td style = \"text-align: right;\">409.0</td><td style = \"text-align: right;\">741.0</td><td style = \"text-align: right;\">349.0</td><td style = \"text-align: right;\">1.8672</td><td style = \"text-align: right;\">84700.0</td><td style = \"text-align: left;\">INLAND</td></tr><tr><td class = \"rowNumber\" style = \"font-weight: bold; text-align: right;\">20640</td><td style = \"text-align: right;\">-121.24</td><td style = \"text-align: right;\">39.37</td><td style = \"text-align: right;\">1</td><td style = \"text-align: right;\">1</td><td style = \"text-align: right;\">6</td><td style = \"text-align: right;\">5</td><td style = \"text-align: right;\">16.0</td><td style = \"text-align: right;\">2785.0</td><td style = \"text-align: right;\">616.0</td><td style = \"text-align: right;\">1387.0</td><td style = \"text-align: right;\">530.0</td><td style = \"text-align: right;\">2.3886</td><td style = \"text-align: right;\">89400.0</td><td style = \"text-align: left;\">INLAND</td></tr></tbody></table></div>"
      ],
      "text/latex": [
       "\\begin{tabular}{r|ccccccc}\n",
       "\t& longitude & latitude & dbscanclusters3 & hclust\\_clusters & medoids\\_clusters & cluster10 & \\\\\n",
       "\t\\hline\n",
       "\t& Float64 & Float64 & Int64 & Int64 & Int64 & Int64 & \\\\\n",
       "\t\\hline\n",
       "\t1 & -122.23 & 37.88 & 1 & 1 & 5 & 7 & $\\dots$ \\\\\n",
       "\t2 & -122.22 & 37.86 & 1 & 1 & 5 & 7 & $\\dots$ \\\\\n",
       "\t3 & -122.24 & 37.85 & 1 & 1 & 5 & 7 & $\\dots$ \\\\\n",
       "\t4 & -122.25 & 37.85 & 1 & 1 & 5 & 7 & $\\dots$ \\\\\n",
       "\t5 & -122.25 & 37.85 & 1 & 1 & 5 & 7 & $\\dots$ \\\\\n",
       "\t6 & -122.25 & 37.85 & 1 & 1 & 5 & 7 & $\\dots$ \\\\\n",
       "\t7 & -122.25 & 37.84 & 1 & 1 & 5 & 7 & $\\dots$ \\\\\n",
       "\t8 & -122.25 & 37.84 & 1 & 1 & 5 & 7 & $\\dots$ \\\\\n",
       "\t9 & -122.26 & 37.84 & 1 & 1 & 5 & 7 & $\\dots$ \\\\\n",
       "\t10 & -122.25 & 37.84 & 1 & 1 & 5 & 7 & $\\dots$ \\\\\n",
       "\t11 & -122.26 & 37.85 & 1 & 1 & 5 & 7 & $\\dots$ \\\\\n",
       "\t12 & -122.26 & 37.85 & 1 & 1 & 5 & 7 & $\\dots$ \\\\\n",
       "\t13 & -122.26 & 37.85 & 1 & 1 & 5 & 7 & $\\dots$ \\\\\n",
       "\t14 & -122.26 & 37.84 & 1 & 1 & 5 & 7 & $\\dots$ \\\\\n",
       "\t15 & -122.26 & 37.85 & 1 & 1 & 5 & 7 & $\\dots$ \\\\\n",
       "\t16 & -122.26 & 37.85 & 1 & 1 & 5 & 7 & $\\dots$ \\\\\n",
       "\t17 & -122.27 & 37.85 & 1 & 1 & 5 & 7 & $\\dots$ \\\\\n",
       "\t18 & -122.27 & 37.85 & 1 & 1 & 5 & 7 & $\\dots$ \\\\\n",
       "\t19 & -122.26 & 37.84 & 1 & 1 & 5 & 7 & $\\dots$ \\\\\n",
       "\t20 & -122.27 & 37.84 & 1 & 1 & 5 & 7 & $\\dots$ \\\\\n",
       "\t21 & -122.27 & 37.85 & 1 & 1 & 5 & 7 & $\\dots$ \\\\\n",
       "\t22 & -122.27 & 37.85 & 1 & 1 & 5 & 7 & $\\dots$ \\\\\n",
       "\t23 & -122.27 & 37.84 & 1 & 1 & 5 & 7 & $\\dots$ \\\\\n",
       "\t24 & -122.27 & 37.84 & 1 & 1 & 5 & 7 & $\\dots$ \\\\\n",
       "\t25 & -122.27 & 37.84 & 1 & 1 & 5 & 7 & $\\dots$ \\\\\n",
       "\t26 & -122.28 & 37.85 & 1 & 1 & 5 & 7 & $\\dots$ \\\\\n",
       "\t27 & -122.28 & 37.85 & 1 & 1 & 5 & 7 & $\\dots$ \\\\\n",
       "\t28 & -122.28 & 37.85 & 1 & 1 & 5 & 7 & $\\dots$ \\\\\n",
       "\t29 & -122.28 & 37.84 & 1 & 1 & 5 & 7 & $\\dots$ \\\\\n",
       "\t30 & -122.28 & 37.84 & 1 & 1 & 5 & 7 & $\\dots$ \\\\\n",
       "\t$\\dots$ & $\\dots$ & $\\dots$ & $\\dots$ & $\\dots$ & $\\dots$ & $\\dots$ &  \\\\\n",
       "\\end{tabular}\n"
      ],
      "text/plain": [
       "\u001b[1m20640×14 DataFrame\u001b[0m\n",
       "\u001b[1m   Row \u001b[0m│\u001b[1m longitude \u001b[0m\u001b[1m latitude \u001b[0m\u001b[1m dbscanclusters3 \u001b[0m\u001b[1m hclust_clusters \u001b[0m\u001b[1m medoids_cluste\u001b[0m ⋯\n",
       "       │\u001b[90m Float64   \u001b[0m\u001b[90m Float64  \u001b[0m\u001b[90m Int64           \u001b[0m\u001b[90m Int64           \u001b[0m\u001b[90m Int64         \u001b[0m ⋯\n",
       "───────┼────────────────────────────────────────────────────────────────────────\n",
       "     1 │   -122.23     37.88                1                1                 ⋯\n",
       "     2 │   -122.22     37.86                1                1\n",
       "     3 │   -122.24     37.85                1                1\n",
       "     4 │   -122.25     37.85                1                1\n",
       "     5 │   -122.25     37.85                1                1                 ⋯\n",
       "     6 │   -122.25     37.85                1                1\n",
       "     7 │   -122.25     37.84                1                1\n",
       "     8 │   -122.25     37.84                1                1\n",
       "     9 │   -122.26     37.84                1                1                 ⋯\n",
       "    10 │   -122.25     37.84                1                1\n",
       "    11 │   -122.26     37.85                1                1\n",
       "   ⋮   │     ⋮         ⋮             ⋮                ⋮                ⋮       ⋱\n",
       " 20631 │   -121.32     39.29                1                1\n",
       " 20632 │   -121.4      39.33                1                1                 ⋯\n",
       " 20633 │   -121.45     39.26                1                1\n",
       " 20634 │   -121.53     39.19                1                1\n",
       " 20635 │   -121.56     39.27                1                1\n",
       " 20636 │   -121.09     39.48                1                1                 ⋯\n",
       " 20637 │   -121.21     39.49                1                1\n",
       " 20638 │   -121.22     39.43                1                1\n",
       " 20639 │   -121.32     39.43                1                1\n",
       " 20640 │   -121.24     39.37                1                1                 ⋯\n",
       "\u001b[36m                                               10 columns and 20619 rows omitted\u001b[0m"
      ]
     },
     "execution_count": 25,
     "metadata": {},
     "output_type": "execute_result"
    }
   ],
   "source": [
    "insertcols!(houses,3,:dbscanclusters3=>L.assignments)"
   ]
  },
  {
   "cell_type": "code",
   "execution_count": 39,
   "metadata": {},
   "outputs": [],
   "source": [
    "#=\n",
    "@vlplot(width=500, height=300) +\n",
    "@vlplot(\n",
    "    mark={\n",
    "        :geoshape,\n",
    "    \n",
    "        fill=:black,\n",
    "        stroke=:white\n",
    "    },\n",
    "    data={\n",
    "        values=VV,\n",
    "        format={\n",
    "            type=:topojson,\n",
    "            feature=:cb_2015_california_county_20m\n",
    "        }\n",
    "    },\n",
    "    projection={type=:albersUsa},\n",
    ")+\n",
    "@vlplot(\n",
    "    :circle,\n",
    "    data=houses,\n",
    "    projection={type=:albersUsa},\n",
    "    longitude=\"longitude:q\",\n",
    "    latitude=\"latitude:q\",\n",
    "    size={value=12},\n",
    "    color=\"dbscanclusters3:n\"\n",
    "                    \n",
    ")\n",
    "=#"
   ]
  },
  {
   "cell_type": "markdown",
   "metadata": {},
   "source": [
    "# Finally...\n",
    "After finishing this notebook, you should be able to:\n",
    "- [ ] run kmeans clustering on your data\n",
    "- [ ] run kmedoids clustering on your data\n",
    "- [ ] run hierarchial clustering on your data\n",
    "- [ ] run DBscan clustering on your data\n",
    "- [ ] modify a dataframe and add a new named column\n",
    "- [ ] generate good looking plots of maps using the VegaLite package"
   ]
  },
  {
   "cell_type": "markdown",
   "metadata": {},
   "source": [
    "# 🥳 One cool finding\n",
    "\n",
    "Prices in California do not seem to have an exact mapping with geographical locations. In specifc, performing a clustering algorithm on the houses dataset we had did not reveal a mapping with the price ranges. This indicate that prices relationship to geographical location is not necessairly based on neighborhood but probably other factors like closeness to the water or closeness to a downtown."
   ]
  },
  {
   "cell_type": "code",
   "execution_count": null,
   "metadata": {},
   "outputs": [],
   "source": []
  }
 ],
 "metadata": {
  "kernelspec": {
   "display_name": "Julia 1.11.4",
   "language": "julia",
   "name": "julia-1.11"
  },
  "language_info": {
   "file_extension": ".jl",
   "mimetype": "application/julia",
   "name": "julia",
   "version": "1.11.4"
  }
 },
 "nbformat": 4,
 "nbformat_minor": 4
}
